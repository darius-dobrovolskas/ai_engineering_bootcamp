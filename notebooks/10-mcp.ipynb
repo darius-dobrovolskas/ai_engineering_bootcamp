{
 "cells": [
  {
   "cell_type": "code",
   "execution_count": 5,
   "id": "c42843e1",
   "metadata": {},
   "outputs": [],
   "source": [
    "from fastmcp import Client\n",
    "\n",
    "from pydantic import BaseModel, Field\n",
    "\n",
    "from qdrant_client import QdrantClient\n",
    "from qdrant_client.models import Prefetch, Filter, FieldCondition, MatchText, FusionQuery\n",
    "\n",
    "from langsmith import traceable, get_current_run_tree\n",
    "\n",
    "from langgraph.graph import StateGraph, START, END\n",
    "from langgraph.prebuilt import ToolNode\n",
    "\n",
    "from langchain_core.messages import AIMessage, ToolMessage\n",
    "\n",
    "from jinja2 import Template\n",
    "from typing import Literal, Dict, Any, Annotated, List, Optional\n",
    "from IPython.display import Image, display\n",
    "from operator import add\n",
    "from openai import OpenAI\n",
    "\n",
    "import openai\n",
    "\n",
    "import random\n",
    "import ast\n",
    "import inspect\n",
    "import instructor\n",
    "import json"
   ]
  },
  {
   "cell_type": "code",
   "execution_count": 2,
   "id": "f5fa2514",
   "metadata": {},
   "outputs": [],
   "source": [
    "client = Client(\"http://localhost:8001/mcp\")\n",
    "\n",
    "async with client:\n",
    "    tools = await client.list_tools()"
   ]
  },
  {
   "cell_type": "code",
   "execution_count": 4,
   "id": "94b9f6f8",
   "metadata": {},
   "outputs": [
    {
     "name": "stdout",
     "output_type": "stream",
     "text": [
      "get_formatted_item_context\n",
      "Get the top k context, each representing an inventory item for a given query.\n",
      "\n",
      "Args:\n",
      "    query: The query to get the top k context for\n",
      "    top_k: The number of context chunks to retrieve, works best with 5 or more\n",
      " \n",
      "Returns:\n",
      "    A string of the top k context chunks with IDs prepending each chunk, each representing an inventory item for a given query.\n",
      "{'properties': {'query': {'title': 'Query', 'type': 'string'}, 'top_k': {'default': 5, 'title': 'Top K', 'type': 'integer'}}, 'required': ['query'], 'type': 'object'}\n"
     ]
    }
   ],
   "source": [
    "print(tools[0].name)\n",
    "print(tools[0].description)\n",
    "print(tools[0].inputSchema)"
   ]
  },
  {
   "cell_type": "code",
   "execution_count": 13,
   "id": "cce997a7",
   "metadata": {},
   "outputs": [],
   "source": [
    "client = Client(\"http://localhost:8002/mcp\")\n",
    "\n",
    "async with client:\n",
    "    tools = await client.list_tools()"
   ]
  },
  {
   "cell_type": "code",
   "execution_count": 14,
   "id": "96c1ea5b",
   "metadata": {},
   "outputs": [
    {
     "name": "stdout",
     "output_type": "stream",
     "text": [
      "get_formatted_review_context\n",
      "Get the top k reviews matching a query for a list of prefiltered items.\n",
      "\n",
      "Args:\n",
      "    query: The query to get the top k reviews for\n",
      "    item_list: The list of item IDs to prefilter for before running the query\n",
      "    top_k: The number of reviews to retrieve, this should be at least 20 if multipple items are prefiltered\n",
      "\n",
      "Returns:\n",
      "    A string of the top k context chunks with IDs prepending each chunk, each representing an inventory item for a given query.\n",
      "{'properties': {'query': {'title': 'Query', 'type': 'string'}, 'item_list': {'items': {'type': 'string'}, 'title': 'Item List', 'type': 'array'}, 'top_k': {'default': 20, 'title': 'Top K', 'type': 'integer'}}, 'required': ['query', 'item_list'], 'type': 'object'}\n"
     ]
    }
   ],
   "source": [
    "print(tools[0].name)\n",
    "print(tools[0].description)\n",
    "print(tools[0].inputSchema)"
   ]
  },
  {
   "cell_type": "markdown",
   "id": "2d5b00d7",
   "metadata": {},
   "source": [
    "### Execute a tool on one of the running MCP servers"
   ]
  },
  {
   "cell_type": "code",
   "execution_count": 26,
   "id": "46e38709",
   "metadata": {},
   "outputs": [],
   "source": [
    "client = Client(\"http://localhost:8001/mcp\")\n",
    "\n",
    "async with client:\n",
    "    # List available resources\n",
    "    result = await client.call_tool(\"get_formatted_item_context\", {\"query\": \"earphones\", \"top_k\": 5})"
   ]
  },
  {
   "cell_type": "code",
   "execution_count": 29,
   "id": "a24d1d41",
   "metadata": {},
   "outputs": [
    {
     "data": {
      "text/plain": [
       "CallToolResult(content=[TextContent(type='text', text=\"- B0C85LNB75: Wireless Earbuds Headphones Bluetooth 5.3, 50H Playtime Over Ear Buds with Noise Cancelling Mic, LED Display, Stereo Bass Bluetooth Earbuds with Earhooks, IP7 Waterproof Earphones for Sports Workout Superior Clear Call and Immersive Stereo Sound Wireless Earbuds, DETACHABLE EARHOOK FOR SPORTS ONE BUTTON CONTROL DESIGN\\n- B09NZNP8Z3: WeurGhy Wireless Earbuds, Bluetooth 5.1 Headphones with HD Microphone, Deep Bass in Ear Sports Earphones with LED Display, 80 Hours of Playtime, IPX7 Waterproof Earbuds for Workout Running Powerful Deep Bass and Clear Calls: Wireless earbuds has four powerful built-in microphones to effectively remove ambient noise and make calls clearer. 10mm speaker drivers provide deep bass and pure midrange for a more authentic music experience. 80 Hours Playtime and Dual LED Displays Charging Case: The wireless headphones can last up to 8 hours at a time and have a portable charging case that allows you to play 80 hours of music with a unique dual LED display, the left side shows the remaining power of the charging case and the right side shows the progress of charging the headphones. Ear Hooks Designed for Sports: During long hours of sports, the ear hooks ensure that the earbuds do not move or fall off, and the design fits your ears so that you do not feel uncomfortable wearing them for long periods of time. IPX7 Waterproof for All Kinds of Weather: The earphones are waterproof with nano-coating, which can well withstand rain and sweat, making the bluetooth earphones suitable for camping, running or exercising even on rainy days. Bluetooth 5.1 and Auto-Pairing: Bluetooth 5.1 is more stable and faster signal transmission compared to Bluetooth 5.0 connection, which can reduce the loss of sound quality. After the first successful connection, simply remove the bluetooth earbuds from the charging case and they will automatically connect.\\n- B0B658CT5S: Wireless Earbud, Bluetooth 5.3 Headphones Bluetooth Earbud, Deep Bass Wireless Earphones in Ear Noise Cancelling Ear Buds 40H Dual Mic Call, USB-C LED Display IP7 Waterproof Headset for Sport-2022 New Bluetooth 5.3 and Effortless Pairing: Adopting advanced Bluetooth V5.3 and dual-channel transmission, wireless earbud support HSP HFP A2DP AVRCP, which offer you an unparalleled audio experience with faster transmission speed, stronger connection stability, and longer range of bluetooth. Taken from the charging case, wireless headphones will be paired with each other automatically, and just hit on bluetooth list i13 on your device to connect, avoiding complex operations and saving waiting time. Stereo Deep Bass and Crystal-Clear Calls: These bluetooth headphones with 13mm graphene speakers and triple-layer composite diaphragms provide powerful bass, stunning treble and clear mids. The built-in mic in each noise cancelling earbud utilizes call noise cancellation to ensure clear and realistic sound. Inward-facing microphone listens inside ear canal to pick up internal sounds and produce anti-noise again to twice cancel the left noise. It will allow you to enjoy high-quality call anytime. Real-Time Dual LED Displays and Type-C Fast Charge: Digital LED display is to show the power level for charging case and wireless earphones. When charging for the case, the LED light will start to flash from 1 to 100. When you put wireless earbud bluetooth into the case, bluetooth headset will start to be charged. Headphones wireless bluetooth can last for 8h playtime from a single charge and 32 extra hours with charging case. Equipped with USB-C cable offers you more quick and stable charging. Ultralight and Comfort Fit: The pocket-sized charging case does not take up any space to carry, and you will not have any stress on wearing Sports earbud. Earbud wireless headphones are designed to fit the contours of the human ear with a curved structure that is same to the shape of the ear canal, making them comfortable to wear and not falling out when running, gym. Waterproof earbud use IP7 nano-coating technology, which can protect internal components from liquids and ensure a longer life. Smart Touch Control, Stereo and Mono Mode: Features with touch control sensors, bluetooth headphones wireless allows you to conveniently power on/off, play/pause, skip songs, answer/hang up, adjust volume and access other functions at the touch of a button. Free your hands completely when you’re busy doing exercise, driving or running. Besides, ear buds earbud bluetooth not only can be worked together for stereo music, but also can be worked independently. Design for business and commute.\\n- B09W5DB49K: zivsivc Wireless Earbuds Bluetooth 5.1 Touch Control Headphones with Built-in Mic,CVC8.0 Noise Cancelling Wireless Earbuds for Gym Waterproof Bluetooth Earphones in-Ear Headse 【PREMIUM STEREO SOUND & BLUETOOTH 5.1】Featured 10mm graphene speakers that produce a crystal clear, realistic quality and vigorous sound effect, enhances voice clarity and lower power consumption. Bluetooth 5.1 on these wireless earbuds provides a fast, stable and latency-free connection, compatible with most Bluetooth-enabled devices such as Android, iPhone cell phones, laptops, tablets and PC etc. 【PORTABLE CHARGING CASE & 80H STANDBY】 Comes with 3500mAh charging case with LED power display is more user-friendly, you can directly read the power data and replenish the power of the case in time. This versatile charging case also charges the phone. zivsivc True Wireless earbuds can be fully charged in about 1.5 hour, with a music playtime of about 5 hours and standby for 120 hours. And the case lasts 60 hours for 12 charges, which gives you excellent experience of long endurance. 【CLEAR VOICE CALL & TOUCH CONTROL】 Equipped with advanced CVC8.0 noise reduction technology can reduce disruptive background noise, providing natural and clear voice for video chat and calls. Specific touch control function makes it more convenient, just tap the Bluetooth earbuds to play /pause music, change song, answer /end call and wake up Siri. Each of ear bud can be used for mono or binaural mode. You can share good music with family and friends. 【COMFORTABLE MINI SPORT EARPHONES & IPX7 WATERPROOF】Extremely lightweight and ergonomic design, one Bluetooth Earphone only weigh 0.13 Oz, provide a secure fit while ensuring fatigue-free ears and long-lasting comfort.Whether you're running or exercising, the wireless earphones will stay securely in your ears. In addition, both earbuds with IPX7 waterproof give you a better experience during indoor and outdoor activities. Ideal for sports, running, jogging and yoga etc. 【GUARANTEE RETURN POLICY & PACKAGE】 3 months return policy provided. If for any reason you're not completely satisfied with our wireless bluetooth earbuds, please don't hesitate to contact us. Package content: Earphones, Charging Case, Charging Cable, Ear Tips (S, M, L), User Manual\\n- B0BRMV85ZK: Aisizon Air Conduction Headphones H1, Over Ear Sports Wireless Bluetooth Headphones, Open Ear Headphones Wireless Bluetooth for Runing, Gym Workout, Sports 【Open ear air conduction】： Aisizon H1 air conduction headphones adopts a unique over ear sound cavity design, directional sound waves, so that the rich sound can fully enter the ear from the outside without divergence. The unique pronunciation structure brings hifi-level sound effects: the treble is loud, the midrange is transparent, and the bass is shocking. Avoid putting earplugs in ears, listening to songs and paying attention to external sounds, Improve the safety of outdoor sports. 【Extremely Lightweight, Not fall off during sports】: Aisizon H1 open ear headphones Overall 1 oz weight, The whole surface is made of soft skin-friendly material, which perfectly fits the side face, Full-fit memory metal neckband, long wearing without ear pain, this bone conduction earphone is suitable for gym workouts, outdoor running and road cycling listen to music. 【HIFI sound effects】: This open ear headphones wireless bluetooth uses a big speaker box, and the unique pronunciation structure brings high-fidelity sound effects: the treble is loud, the midrange is transparent, and the bass is shocking. According to the structure of the ear, the sound is directionally transmitted, so that you can enjoy extremely high-quality music while exercising and doing housework. 【Support voice prompts and hands-free calls】Aisizon H1 open ear headphones wireless bluetooth with multi-language voice prompts, you can operate with voice prompts, easily switch between music and calls, and enjoy wireless music without missing any calls. [8 hours of long battery life, easy to operate]: 150mAh large-capacity battery, 80% full in 30 minutes, 65ms low latency, 8 hours of continuous music listening, closed sound cavity design, Bluetooth link can be used, suitable for various devices, simple Operate the buttons so you can move easily throughout the day.\\n\", annotations=None, meta=None)], structured_content={'result': \"- B0C85LNB75: Wireless Earbuds Headphones Bluetooth 5.3, 50H Playtime Over Ear Buds with Noise Cancelling Mic, LED Display, Stereo Bass Bluetooth Earbuds with Earhooks, IP7 Waterproof Earphones for Sports Workout Superior Clear Call and Immersive Stereo Sound Wireless Earbuds, DETACHABLE EARHOOK FOR SPORTS ONE BUTTON CONTROL DESIGN\\n- B09NZNP8Z3: WeurGhy Wireless Earbuds, Bluetooth 5.1 Headphones with HD Microphone, Deep Bass in Ear Sports Earphones with LED Display, 80 Hours of Playtime, IPX7 Waterproof Earbuds for Workout Running Powerful Deep Bass and Clear Calls: Wireless earbuds has four powerful built-in microphones to effectively remove ambient noise and make calls clearer. 10mm speaker drivers provide deep bass and pure midrange for a more authentic music experience. 80 Hours Playtime and Dual LED Displays Charging Case: The wireless headphones can last up to 8 hours at a time and have a portable charging case that allows you to play 80 hours of music with a unique dual LED display, the left side shows the remaining power of the charging case and the right side shows the progress of charging the headphones. Ear Hooks Designed for Sports: During long hours of sports, the ear hooks ensure that the earbuds do not move or fall off, and the design fits your ears so that you do not feel uncomfortable wearing them for long periods of time. IPX7 Waterproof for All Kinds of Weather: The earphones are waterproof with nano-coating, which can well withstand rain and sweat, making the bluetooth earphones suitable for camping, running or exercising even on rainy days. Bluetooth 5.1 and Auto-Pairing: Bluetooth 5.1 is more stable and faster signal transmission compared to Bluetooth 5.0 connection, which can reduce the loss of sound quality. After the first successful connection, simply remove the bluetooth earbuds from the charging case and they will automatically connect.\\n- B0B658CT5S: Wireless Earbud, Bluetooth 5.3 Headphones Bluetooth Earbud, Deep Bass Wireless Earphones in Ear Noise Cancelling Ear Buds 40H Dual Mic Call, USB-C LED Display IP7 Waterproof Headset for Sport-2022 New Bluetooth 5.3 and Effortless Pairing: Adopting advanced Bluetooth V5.3 and dual-channel transmission, wireless earbud support HSP HFP A2DP AVRCP, which offer you an unparalleled audio experience with faster transmission speed, stronger connection stability, and longer range of bluetooth. Taken from the charging case, wireless headphones will be paired with each other automatically, and just hit on bluetooth list i13 on your device to connect, avoiding complex operations and saving waiting time. Stereo Deep Bass and Crystal-Clear Calls: These bluetooth headphones with 13mm graphene speakers and triple-layer composite diaphragms provide powerful bass, stunning treble and clear mids. The built-in mic in each noise cancelling earbud utilizes call noise cancellation to ensure clear and realistic sound. Inward-facing microphone listens inside ear canal to pick up internal sounds and produce anti-noise again to twice cancel the left noise. It will allow you to enjoy high-quality call anytime. Real-Time Dual LED Displays and Type-C Fast Charge: Digital LED display is to show the power level for charging case and wireless earphones. When charging for the case, the LED light will start to flash from 1 to 100. When you put wireless earbud bluetooth into the case, bluetooth headset will start to be charged. Headphones wireless bluetooth can last for 8h playtime from a single charge and 32 extra hours with charging case. Equipped with USB-C cable offers you more quick and stable charging. Ultralight and Comfort Fit: The pocket-sized charging case does not take up any space to carry, and you will not have any stress on wearing Sports earbud. Earbud wireless headphones are designed to fit the contours of the human ear with a curved structure that is same to the shape of the ear canal, making them comfortable to wear and not falling out when running, gym. Waterproof earbud use IP7 nano-coating technology, which can protect internal components from liquids and ensure a longer life. Smart Touch Control, Stereo and Mono Mode: Features with touch control sensors, bluetooth headphones wireless allows you to conveniently power on/off, play/pause, skip songs, answer/hang up, adjust volume and access other functions at the touch of a button. Free your hands completely when you’re busy doing exercise, driving or running. Besides, ear buds earbud bluetooth not only can be worked together for stereo music, but also can be worked independently. Design for business and commute.\\n- B09W5DB49K: zivsivc Wireless Earbuds Bluetooth 5.1 Touch Control Headphones with Built-in Mic,CVC8.0 Noise Cancelling Wireless Earbuds for Gym Waterproof Bluetooth Earphones in-Ear Headse 【PREMIUM STEREO SOUND & BLUETOOTH 5.1】Featured 10mm graphene speakers that produce a crystal clear, realistic quality and vigorous sound effect, enhances voice clarity and lower power consumption. Bluetooth 5.1 on these wireless earbuds provides a fast, stable and latency-free connection, compatible with most Bluetooth-enabled devices such as Android, iPhone cell phones, laptops, tablets and PC etc. 【PORTABLE CHARGING CASE & 80H STANDBY】 Comes with 3500mAh charging case with LED power display is more user-friendly, you can directly read the power data and replenish the power of the case in time. This versatile charging case also charges the phone. zivsivc True Wireless earbuds can be fully charged in about 1.5 hour, with a music playtime of about 5 hours and standby for 120 hours. And the case lasts 60 hours for 12 charges, which gives you excellent experience of long endurance. 【CLEAR VOICE CALL & TOUCH CONTROL】 Equipped with advanced CVC8.0 noise reduction technology can reduce disruptive background noise, providing natural and clear voice for video chat and calls. Specific touch control function makes it more convenient, just tap the Bluetooth earbuds to play /pause music, change song, answer /end call and wake up Siri. Each of ear bud can be used for mono or binaural mode. You can share good music with family and friends. 【COMFORTABLE MINI SPORT EARPHONES & IPX7 WATERPROOF】Extremely lightweight and ergonomic design, one Bluetooth Earphone only weigh 0.13 Oz, provide a secure fit while ensuring fatigue-free ears and long-lasting comfort.Whether you're running or exercising, the wireless earphones will stay securely in your ears. In addition, both earbuds with IPX7 waterproof give you a better experience during indoor and outdoor activities. Ideal for sports, running, jogging and yoga etc. 【GUARANTEE RETURN POLICY & PACKAGE】 3 months return policy provided. If for any reason you're not completely satisfied with our wireless bluetooth earbuds, please don't hesitate to contact us. Package content: Earphones, Charging Case, Charging Cable, Ear Tips (S, M, L), User Manual\\n- B0BRMV85ZK: Aisizon Air Conduction Headphones H1, Over Ear Sports Wireless Bluetooth Headphones, Open Ear Headphones Wireless Bluetooth for Runing, Gym Workout, Sports 【Open ear air conduction】： Aisizon H1 air conduction headphones adopts a unique over ear sound cavity design, directional sound waves, so that the rich sound can fully enter the ear from the outside without divergence. The unique pronunciation structure brings hifi-level sound effects: the treble is loud, the midrange is transparent, and the bass is shocking. Avoid putting earplugs in ears, listening to songs and paying attention to external sounds, Improve the safety of outdoor sports. 【Extremely Lightweight, Not fall off during sports】: Aisizon H1 open ear headphones Overall 1 oz weight, The whole surface is made of soft skin-friendly material, which perfectly fits the side face, Full-fit memory metal neckband, long wearing without ear pain, this bone conduction earphone is suitable for gym workouts, outdoor running and road cycling listen to music. 【HIFI sound effects】: This open ear headphones wireless bluetooth uses a big speaker box, and the unique pronunciation structure brings high-fidelity sound effects: the treble is loud, the midrange is transparent, and the bass is shocking. According to the structure of the ear, the sound is directionally transmitted, so that you can enjoy extremely high-quality music while exercising and doing housework. 【Support voice prompts and hands-free calls】Aisizon H1 open ear headphones wireless bluetooth with multi-language voice prompts, you can operate with voice prompts, easily switch between music and calls, and enjoy wireless music without missing any calls. [8 hours of long battery life, easy to operate]: 150mAh large-capacity battery, 80% full in 30 minutes, 65ms low latency, 8 hours of continuous music listening, closed sound cavity design, Bluetooth link can be used, suitable for various devices, simple Operate the buttons so you can move easily throughout the day.\\n\"}, data=\"- B0C85LNB75: Wireless Earbuds Headphones Bluetooth 5.3, 50H Playtime Over Ear Buds with Noise Cancelling Mic, LED Display, Stereo Bass Bluetooth Earbuds with Earhooks, IP7 Waterproof Earphones for Sports Workout Superior Clear Call and Immersive Stereo Sound Wireless Earbuds, DETACHABLE EARHOOK FOR SPORTS ONE BUTTON CONTROL DESIGN\\n- B09NZNP8Z3: WeurGhy Wireless Earbuds, Bluetooth 5.1 Headphones with HD Microphone, Deep Bass in Ear Sports Earphones with LED Display, 80 Hours of Playtime, IPX7 Waterproof Earbuds for Workout Running Powerful Deep Bass and Clear Calls: Wireless earbuds has four powerful built-in microphones to effectively remove ambient noise and make calls clearer. 10mm speaker drivers provide deep bass and pure midrange for a more authentic music experience. 80 Hours Playtime and Dual LED Displays Charging Case: The wireless headphones can last up to 8 hours at a time and have a portable charging case that allows you to play 80 hours of music with a unique dual LED display, the left side shows the remaining power of the charging case and the right side shows the progress of charging the headphones. Ear Hooks Designed for Sports: During long hours of sports, the ear hooks ensure that the earbuds do not move or fall off, and the design fits your ears so that you do not feel uncomfortable wearing them for long periods of time. IPX7 Waterproof for All Kinds of Weather: The earphones are waterproof with nano-coating, which can well withstand rain and sweat, making the bluetooth earphones suitable for camping, running or exercising even on rainy days. Bluetooth 5.1 and Auto-Pairing: Bluetooth 5.1 is more stable and faster signal transmission compared to Bluetooth 5.0 connection, which can reduce the loss of sound quality. After the first successful connection, simply remove the bluetooth earbuds from the charging case and they will automatically connect.\\n- B0B658CT5S: Wireless Earbud, Bluetooth 5.3 Headphones Bluetooth Earbud, Deep Bass Wireless Earphones in Ear Noise Cancelling Ear Buds 40H Dual Mic Call, USB-C LED Display IP7 Waterproof Headset for Sport-2022 New Bluetooth 5.3 and Effortless Pairing: Adopting advanced Bluetooth V5.3 and dual-channel transmission, wireless earbud support HSP HFP A2DP AVRCP, which offer you an unparalleled audio experience with faster transmission speed, stronger connection stability, and longer range of bluetooth. Taken from the charging case, wireless headphones will be paired with each other automatically, and just hit on bluetooth list i13 on your device to connect, avoiding complex operations and saving waiting time. Stereo Deep Bass and Crystal-Clear Calls: These bluetooth headphones with 13mm graphene speakers and triple-layer composite diaphragms provide powerful bass, stunning treble and clear mids. The built-in mic in each noise cancelling earbud utilizes call noise cancellation to ensure clear and realistic sound. Inward-facing microphone listens inside ear canal to pick up internal sounds and produce anti-noise again to twice cancel the left noise. It will allow you to enjoy high-quality call anytime. Real-Time Dual LED Displays and Type-C Fast Charge: Digital LED display is to show the power level for charging case and wireless earphones. When charging for the case, the LED light will start to flash from 1 to 100. When you put wireless earbud bluetooth into the case, bluetooth headset will start to be charged. Headphones wireless bluetooth can last for 8h playtime from a single charge and 32 extra hours with charging case. Equipped with USB-C cable offers you more quick and stable charging. Ultralight and Comfort Fit: The pocket-sized charging case does not take up any space to carry, and you will not have any stress on wearing Sports earbud. Earbud wireless headphones are designed to fit the contours of the human ear with a curved structure that is same to the shape of the ear canal, making them comfortable to wear and not falling out when running, gym. Waterproof earbud use IP7 nano-coating technology, which can protect internal components from liquids and ensure a longer life. Smart Touch Control, Stereo and Mono Mode: Features with touch control sensors, bluetooth headphones wireless allows you to conveniently power on/off, play/pause, skip songs, answer/hang up, adjust volume and access other functions at the touch of a button. Free your hands completely when you’re busy doing exercise, driving or running. Besides, ear buds earbud bluetooth not only can be worked together for stereo music, but also can be worked independently. Design for business and commute.\\n- B09W5DB49K: zivsivc Wireless Earbuds Bluetooth 5.1 Touch Control Headphones with Built-in Mic,CVC8.0 Noise Cancelling Wireless Earbuds for Gym Waterproof Bluetooth Earphones in-Ear Headse 【PREMIUM STEREO SOUND & BLUETOOTH 5.1】Featured 10mm graphene speakers that produce a crystal clear, realistic quality and vigorous sound effect, enhances voice clarity and lower power consumption. Bluetooth 5.1 on these wireless earbuds provides a fast, stable and latency-free connection, compatible with most Bluetooth-enabled devices such as Android, iPhone cell phones, laptops, tablets and PC etc. 【PORTABLE CHARGING CASE & 80H STANDBY】 Comes with 3500mAh charging case with LED power display is more user-friendly, you can directly read the power data and replenish the power of the case in time. This versatile charging case also charges the phone. zivsivc True Wireless earbuds can be fully charged in about 1.5 hour, with a music playtime of about 5 hours and standby for 120 hours. And the case lasts 60 hours for 12 charges, which gives you excellent experience of long endurance. 【CLEAR VOICE CALL & TOUCH CONTROL】 Equipped with advanced CVC8.0 noise reduction technology can reduce disruptive background noise, providing natural and clear voice for video chat and calls. Specific touch control function makes it more convenient, just tap the Bluetooth earbuds to play /pause music, change song, answer /end call and wake up Siri. Each of ear bud can be used for mono or binaural mode. You can share good music with family and friends. 【COMFORTABLE MINI SPORT EARPHONES & IPX7 WATERPROOF】Extremely lightweight and ergonomic design, one Bluetooth Earphone only weigh 0.13 Oz, provide a secure fit while ensuring fatigue-free ears and long-lasting comfort.Whether you're running or exercising, the wireless earphones will stay securely in your ears. In addition, both earbuds with IPX7 waterproof give you a better experience during indoor and outdoor activities. Ideal for sports, running, jogging and yoga etc. 【GUARANTEE RETURN POLICY & PACKAGE】 3 months return policy provided. If for any reason you're not completely satisfied with our wireless bluetooth earbuds, please don't hesitate to contact us. Package content: Earphones, Charging Case, Charging Cable, Ear Tips (S, M, L), User Manual\\n- B0BRMV85ZK: Aisizon Air Conduction Headphones H1, Over Ear Sports Wireless Bluetooth Headphones, Open Ear Headphones Wireless Bluetooth for Runing, Gym Workout, Sports 【Open ear air conduction】： Aisizon H1 air conduction headphones adopts a unique over ear sound cavity design, directional sound waves, so that the rich sound can fully enter the ear from the outside without divergence. The unique pronunciation structure brings hifi-level sound effects: the treble is loud, the midrange is transparent, and the bass is shocking. Avoid putting earplugs in ears, listening to songs and paying attention to external sounds, Improve the safety of outdoor sports. 【Extremely Lightweight, Not fall off during sports】: Aisizon H1 open ear headphones Overall 1 oz weight, The whole surface is made of soft skin-friendly material, which perfectly fits the side face, Full-fit memory metal neckband, long wearing without ear pain, this bone conduction earphone is suitable for gym workouts, outdoor running and road cycling listen to music. 【HIFI sound effects】: This open ear headphones wireless bluetooth uses a big speaker box, and the unique pronunciation structure brings high-fidelity sound effects: the treble is loud, the midrange is transparent, and the bass is shocking. According to the structure of the ear, the sound is directionally transmitted, so that you can enjoy extremely high-quality music while exercising and doing housework. 【Support voice prompts and hands-free calls】Aisizon H1 open ear headphones wireless bluetooth with multi-language voice prompts, you can operate with voice prompts, easily switch between music and calls, and enjoy wireless music without missing any calls. [8 hours of long battery life, easy to operate]: 150mAh large-capacity battery, 80% full in 30 minutes, 65ms low latency, 8 hours of continuous music listening, closed sound cavity design, Bluetooth link can be used, suitable for various devices, simple Operate the buttons so you can move easily throughout the day.\\n\", is_error=False)"
      ]
     },
     "execution_count": 29,
     "metadata": {},
     "output_type": "execute_result"
    }
   ],
   "source": [
    "result"
   ]
  },
  {
   "cell_type": "markdown",
   "id": "90437063",
   "metadata": {},
   "source": [
    "### Function to extract tool definition of all available tools in MCP servers "
   ]
  },
  {
   "cell_type": "code",
   "execution_count": 6,
   "id": "132645fc",
   "metadata": {},
   "outputs": [],
   "source": [
    "def parse_docstring_params(docstring: str) -> Dict[str, str]:\n",
    "    \"\"\"Extract parameter descriptions from docstring (handles both Args: and Parameters: formats).\"\"\"\n",
    "    params = {}\n",
    "    lines = docstring.split('\\n')\n",
    "    in_params = False\n",
    "    current_param = None\n",
    "    \n",
    "    for line in lines:\n",
    "        stripped = line.strip()\n",
    "        \n",
    "        # Check for parameter section start\n",
    "        if stripped in ['Args:', 'Arguments:', 'Parameters:', 'Params:']:\n",
    "            in_params = True\n",
    "            current_param = None\n",
    "        elif stripped.startswith('Returns:') or stripped.startswith('Raises:'):\n",
    "            in_params = False\n",
    "        elif in_params:\n",
    "            # Parse parameter line (handles \"param: desc\" and \"- param: desc\" formats)\n",
    "            if ':' in stripped and (stripped[0].isalpha() or stripped.startswith(('-', '*'))):\n",
    "                param_name = stripped.lstrip('- *').split(':')[0].strip()\n",
    "                param_desc = ':'.join(stripped.lstrip('- *').split(':')[1:]).strip()\n",
    "                params[param_name] = param_desc\n",
    "                current_param = param_name\n",
    "            elif current_param and stripped:\n",
    "                # Continuation of previous parameter description\n",
    "                params[current_param] += ' ' + stripped\n",
    "    \n",
    "    return params"
   ]
  },
  {
   "cell_type": "code",
   "execution_count": 7,
   "id": "dc01831f",
   "metadata": {},
   "outputs": [
    {
     "data": {
      "text/plain": [
       "{'query': 'The query to get the top k context for',\n",
       " 'top_k': 'The number of context chunks to retrieve, works best with 5 or more'}"
      ]
     },
     "execution_count": 7,
     "metadata": {},
     "output_type": "execute_result"
    }
   ],
   "source": [
    "parse_docstring_params(tools[0].description)"
   ]
  },
  {
   "cell_type": "markdown",
   "id": "2b01d60a",
   "metadata": {},
   "source": [
    "* the output above is not enough informative\n",
    "* what we want is:\\\n",
    "                result = {\\\n",
    "                    \"name\": \"\",\\\n",
    "                    \"description\": \"\",\\\n",
    "                    \"parameters\": {\"type\": \"object\", \"properties\": {}},\\\n",
    "                    \"required\": [],\\\n",
    "                    \"returns\": {\"type\": \"string\", \"description\": \"\"},\\\n",
    "                }\n"
   ]
  },
  {
   "cell_type": "markdown",
   "id": "f0cffc37",
   "metadata": {},
   "source": [
    "* let's reconstruct it"
   ]
  },
  {
   "cell_type": "code",
   "execution_count": 9,
   "id": "89afd7be",
   "metadata": {},
   "outputs": [],
   "source": [
    "result = {\n",
    "    \"name\": \"\",\n",
    "    \"description\": \"\",\n",
    "    \"parameters\": {\"type\": \"object\", \"properties\": {}},\n",
    "    \"required\": [],\n",
    "    \"returns\": {\"type\": \"string\", \"description\": \"\"},\n",
    "}\n",
    "\n",
    "result[\"name\"] = tools[0].name\n",
    "result[\"required\"] = tools[0].inputSchema.get(\"required\", [])\n",
    "\n",
    "description = tools[0].description.split(\"\\n\\n\")[0]\n",
    "result[\"description\"] = description\n",
    "\n",
    "returns = tools[0].description.split(\"Returns:\")[1].strip()\n",
    "result[\"returns\"][\"description\"] = returns\n",
    "\n",
    "property_descriptions = parse_docstring_params(tools[0].description)\n",
    "properties = tools[0].inputSchema.get(\"properties\", {})\n",
    "for key, value in properties.items():\n",
    "    properties[key][\"description\"] = property_descriptions.get(key, \"\")\n",
    "\n",
    "result[\"parameters\"][\"properties\"] = properties"
   ]
  },
  {
   "cell_type": "markdown",
   "id": "d9b4317d",
   "metadata": {},
   "source": [
    "* this basically recreates what we got from get_tool_descriptions_from_node \\\n",
    "only now it is retrieved from mcp server"
   ]
  },
  {
   "cell_type": "code",
   "execution_count": 10,
   "id": "ccc36c58",
   "metadata": {},
   "outputs": [
    {
     "data": {
      "text/plain": [
       "{'name': 'get_formatted_item_context',\n",
       " 'description': 'Get the top k context, each representing an inventory item for a given query.',\n",
       " 'parameters': {'type': 'object',\n",
       "  'properties': {'query': {'title': 'Query',\n",
       "    'type': 'string',\n",
       "    'description': 'The query to get the top k context for'},\n",
       "   'top_k': {'default': 5,\n",
       "    'title': 'Top K',\n",
       "    'type': 'integer',\n",
       "    'description': 'The number of context chunks to retrieve, works best with 5 or more'}}},\n",
       " 'required': ['query'],\n",
       " 'returns': {'type': 'string',\n",
       "  'description': 'A string of the top k context chunks with IDs prepending each chunk, each representing an inventory item for a given query.'}}"
      ]
     },
     "execution_count": 10,
     "metadata": {},
     "output_type": "execute_result"
    }
   ],
   "source": [
    "result"
   ]
  },
  {
   "cell_type": "markdown",
   "id": "7bdd4588",
   "metadata": {},
   "source": [
    "* now we want to loop this code for all available tools in mcp server"
   ]
  },
  {
   "cell_type": "code",
   "execution_count": 30,
   "id": "1abed64c",
   "metadata": {},
   "outputs": [],
   "source": [
    "async def get_tool_descriptions_from_mcp_servers(mcp_servers: list[str]) -> list[dict]:\n",
    "\n",
    "    tool_descriptions = []\n",
    "\n",
    "    for server in mcp_servers:\n",
    "        client = Client(server)\n",
    "\n",
    "        async with client:\n",
    "\n",
    "            tools = await client.list_tools()\n",
    "\n",
    "            for tool in tools:\n",
    "\n",
    "                result = {\n",
    "                    \"name\": \"\",\n",
    "                    \"description\": \"\",\n",
    "                    \"parameters\": {\"type\": \"object\", \"properties\": {}},\n",
    "                    \"required\": [],\n",
    "                    \"returns\": {\"type\": \"string\", \"description\": \"\"},\n",
    "                    \"server\": server\n",
    "                }\n",
    "\n",
    "                result[\"name\"] = tool.name\n",
    "                result[\"required\"] = tool.inputSchema.get(\"required\", [])\n",
    "\n",
    "                description = tool.description.split(\"\\n\\n\")[0]\n",
    "                result[\"description\"] = description\n",
    "\n",
    "                returns = tool.description.split(\"Returns:\")[1].strip()\n",
    "                result[\"returns\"][\"description\"] = returns\n",
    "\n",
    "                property_descriptions = parse_docstring_params(tool.description)\n",
    "                properties = tool.inputSchema.get(\"properties\", {})\n",
    "                for key, value in properties.items():\n",
    "                    properties[key][\"description\"] = property_descriptions.get(key, \"\")\n",
    "\n",
    "                result[\"parameters\"][\"properties\"] = properties\n",
    "\n",
    "                tool_descriptions.append(result)\n",
    "                \n",
    "    return tool_descriptions"
   ]
  },
  {
   "cell_type": "code",
   "execution_count": 31,
   "id": "ec7bb038",
   "metadata": {},
   "outputs": [],
   "source": [
    "mcp_servers = [\"http://localhost:8001/mcp\", \"http://localhost:8002/mcp\"]"
   ]
  },
  {
   "cell_type": "code",
   "execution_count": 32,
   "id": "5e2555f8",
   "metadata": {},
   "outputs": [],
   "source": [
    "tool_descriptions = await get_tool_descriptions_from_mcp_servers(mcp_servers)"
   ]
  },
  {
   "cell_type": "code",
   "execution_count": 33,
   "id": "1f2a3b44",
   "metadata": {},
   "outputs": [
    {
     "data": {
      "text/plain": [
       "[{'name': 'get_formatted_item_context',\n",
       "  'description': 'Get the top k context, each representing an inventory item for a given query.',\n",
       "  'parameters': {'type': 'object',\n",
       "   'properties': {'query': {'title': 'Query',\n",
       "     'type': 'string',\n",
       "     'description': 'The query to get the top k context for'},\n",
       "    'top_k': {'default': 5,\n",
       "     'title': 'Top K',\n",
       "     'type': 'integer',\n",
       "     'description': 'The number of context chunks to retrieve, works best with 5 or more'}}},\n",
       "  'required': ['query'],\n",
       "  'returns': {'type': 'string',\n",
       "   'description': 'A string of the top k context chunks with IDs prepending each chunk, each representing an inventory item for a given query.'},\n",
       "  'server': 'http://localhost:8001/mcp'},\n",
       " {'name': 'get_formatted_review_context',\n",
       "  'description': 'Get the top k reviews matching a query for a list of prefiltered items.',\n",
       "  'parameters': {'type': 'object',\n",
       "   'properties': {'query': {'title': 'Query',\n",
       "     'type': 'string',\n",
       "     'description': 'The query to get the top k reviews for'},\n",
       "    'item_list': {'items': {'type': 'string'},\n",
       "     'title': 'Item List',\n",
       "     'type': 'array',\n",
       "     'description': 'The list of item IDs to prefilter for before running the query'},\n",
       "    'top_k': {'default': 20,\n",
       "     'title': 'Top K',\n",
       "     'type': 'integer',\n",
       "     'description': 'The number of reviews to retrieve, this should be at least 20 if multipple items are prefiltered'}}},\n",
       "  'required': ['query', 'item_list'],\n",
       "  'returns': {'type': 'string',\n",
       "   'description': 'A string of the top k context chunks with IDs prepending each chunk, each representing an inventory item for a given query.'},\n",
       "  'server': 'http://localhost:8002/mcp'}]"
      ]
     },
     "execution_count": 33,
     "metadata": {},
     "output_type": "execute_result"
    }
   ],
   "source": [
    "tool_descriptions"
   ]
  },
  {
   "cell_type": "markdown",
   "id": "0dc2816a",
   "metadata": {},
   "source": [
    "* LET'S TEST IT!\n",
    "* use simple graph as in '07' notebook"
   ]
  },
  {
   "cell_type": "markdown",
   "id": "2ef6baf4",
   "metadata": {},
   "source": [
    "### Agent integration with tools exposed via MCP servers"
   ]
  },
  {
   "cell_type": "markdown",
   "id": "21b1d91c",
   "metadata": {},
   "source": [
    "### Helper function"
   ]
  },
  {
   "cell_type": "code",
   "execution_count": 35,
   "id": "18fa60bd",
   "metadata": {},
   "outputs": [],
   "source": [
    "def lc_messages_to_regular_messages(msg):\n",
    "\n",
    "    if isinstance(msg, dict):\n",
    "        \n",
    "        if msg.get(\"role\") == \"user\":\n",
    "            return {\"role\": \"user\", \"content\": msg[\"content\"]}\n",
    "        elif msg.get(\"role\") == \"assistant\":\n",
    "            return {\"role\": \"assistant\", \"content\": msg[\"content\"]}\n",
    "        elif msg.get(\"role\") == \"tool\":\n",
    "            return {\n",
    "                \"role\": \"tool\", \n",
    "                \"content\": msg[\"content\"], \n",
    "                \"tool_call_id\": msg.get(\"tool_call_id\")\n",
    "            }\n",
    "        \n",
    "    elif isinstance(msg, AIMessage):\n",
    "\n",
    "        result = {\n",
    "            \"role\": \"assistant\",\n",
    "            \"content\": msg.content\n",
    "        }\n",
    "        \n",
    "        if hasattr(msg, 'tool_calls') and msg.tool_calls and len(msg.tool_calls) > 0 and not msg.tool_calls[0].get(\"name\").startswith(\"functions.\"):\n",
    "            result[\"tool_calls\"] = [\n",
    "                {\n",
    "                    \"id\": tc[\"id\"],\n",
    "                    \"type\": \"function\",\n",
    "                    \"function\": {\n",
    "                        \"name\": tc[\"name\"].replace(\"functions.\", \"\"),\n",
    "                        \"arguments\": json.dumps(tc[\"args\"])\n",
    "                    }\n",
    "                }\n",
    "                for tc in msg.tool_calls\n",
    "            ]\n",
    "            \n",
    "        return result\n",
    "    \n",
    "    elif isinstance(msg, ToolMessage):\n",
    "\n",
    "        return {\"role\": \"tool\", \"content\": msg.content, \"tool_call_id\": msg.tool_call_id}\n",
    "    \n",
    "    else:\n",
    "\n",
    "        return {\"role\": \"user\", \"content\": str(msg)}"
   ]
  },
  {
   "cell_type": "markdown",
   "id": "fb90bfaf",
   "metadata": {},
   "source": [
    "### State and Pydantic Models for structured outputs"
   ]
  },
  {
   "cell_type": "code",
   "execution_count": 36,
   "id": "dffa99ed",
   "metadata": {},
   "outputs": [],
   "source": [
    "class ToolCall(BaseModel):\n",
    "    name: str\n",
    "    arguments: dict\n",
    "    server: str\n",
    "\n",
    "class RAGUsedContext(BaseModel):\n",
    "    id: int\n",
    "    description: str\n",
    "\n",
    "class AgentResponse(BaseModel):\n",
    "    answer: str\n",
    "    tool_calls: List[ToolCall] = Field(default_factory=list)\n",
    "    final_answer: bool = Field(default=False)\n",
    "    retrieved_context_ids: List[RAGUsedContext]\n",
    "\n",
    "class State(BaseModel):\n",
    "    messages: Annotated[List[Any], add] = []\n",
    "    answer: str = \"\"\n",
    "    iteration: int = Field(default=0)\n",
    "    final_answer: bool = Field(default=False)\n",
    "    available_tools: List[Dict[str, Any]] = []\n",
    "    tool_calls: Optional[List[ToolCall]] = Field(default_factory=list)\n",
    "    retrieved_context_ids: Annotated[List[RAGUsedContext], add] = []"
   ]
  },
  {
   "cell_type": "markdown",
   "id": "e042b903",
   "metadata": {},
   "source": [
    "### Agent node"
   ]
  },
  {
   "cell_type": "code",
   "execution_count": 38,
   "id": "68a6a0c8",
   "metadata": {},
   "outputs": [],
   "source": [
    "@traceable(\n",
    "    name=\"agent_node\",\n",
    "    run_type=\"llm\",\n",
    "    metadata={\"ls_provider\": \"openai\", \"ls_model_name\": \"gpt-4.1-mini\"}\n",
    ")\n",
    "def agent_node(state: State) -> dict:\n",
    "\n",
    "   prompt_template =  \"\"\"You are a shopping assistant that can answer questions about the products in stock.\n",
    "\n",
    "You will be given a question and a list of tools you can use to answer that question.\n",
    "\n",
    "<Available tools>\n",
    "{{ available_tools | tojson }}\n",
    "</Available tools>\n",
    "\n",
    "After the tools are used you will get the outputs from the tools.\n",
    "\n",
    "When you need to use a tool, format your response as:\n",
    "\n",
    "<tool_call>\n",
    "{\"name\": \"tool_name\", \"arguments\": {...}}\n",
    "</tool_call>\n",
    "\n",
    "Use names specificly provided in the available tools. Don't add any additional text to the names.\n",
    "\n",
    "You should tend to use tools when additional information is needed to answer the question.\n",
    "\n",
    "If you set final_answer to True, you should not use any tools.\n",
    "\n",
    "Instructions:\n",
    "- You need to answer the question based on the retrieved context using the available tools only.\n",
    "- Never use word context and refer to it as the available products.\n",
    "- You should only answer questions about the products in stock. If the question is not about the products in stock, you should ask for clarification.\n",
    "- As a final output you need to provide:\n",
    "\n",
    "* The answer to the question based on the retrieved context.\n",
    "* The list of the indexes from the chunks returned from all tool calls that were used to answer the question. If more than one chunk was used to compile the answer from a single tool call, be sure to return all of them.\n",
    "* Short description of the item based on the retrieved context.\n",
    "\n",
    "- The answer to the question should contain detailed information about the product and returned with detailed specification in bullet points.\n",
    "- The short description should have the name of the item.\n",
    "- If the user's request requires using a tool, set tool_calls with the appropriate function name and arguments.\n",
    "- If you have all the information needed to provide a complete answer, set final_answer to True.\n",
    "\"\"\"\n",
    "\n",
    "   template = Template(prompt_template)\n",
    "   \n",
    "   prompt = template.render(\n",
    "      available_tools=state.available_tools\n",
    "   )\n",
    "\n",
    "   messages = state.messages\n",
    "\n",
    "   conversation = []\n",
    "\n",
    "   for msg in messages:\n",
    "      conversation.append(lc_messages_to_regular_messages(msg))\n",
    "\n",
    "   client = instructor.from_openai(OpenAI())\n",
    "\n",
    "   response, raw_response = client.chat.completions.create_with_completion(\n",
    "        model=\"gpt-4.1-mini\",\n",
    "        response_model=AgentResponse,\n",
    "        messages=[{\"role\": \"system\", \"content\": prompt}, *conversation],\n",
    "        temperature=0.5,\n",
    "   )\n",
    "\n",
    "   if response.tool_calls:\n",
    "      tool_calls = []\n",
    "      for i, tc in enumerate(response.tool_calls):\n",
    "         tool_calls.append({\n",
    "               \"id\": f\"call_{i}\",\n",
    "               \"name\": tc.name,\n",
    "               \"args\": tc.arguments\n",
    "         })\n",
    "\n",
    "      ai_message = AIMessage(\n",
    "         content=response.answer,\n",
    "         tool_calls=tool_calls\n",
    "         )\n",
    "   else:\n",
    "      ai_message = AIMessage(\n",
    "         content=response.answer,\n",
    "      )\n",
    "\n",
    "   return {\n",
    "      \"messages\": [ai_message],\n",
    "      \"tool_calls\": response.tool_calls,\n",
    "      \"iteration\": state.iteration + 1,\n",
    "      \"answer\": response.answer,\n",
    "      \"final_answer\": response.final_answer,\n",
    "      \"retrieve_context_ids\": response.retrieved_context_ids\n",
    "   }"
   ]
  },
  {
   "cell_type": "markdown",
   "id": "51fd40a3",
   "metadata": {},
   "source": [
    "### Router node"
   ]
  },
  {
   "cell_type": "code",
   "execution_count": 40,
   "id": "946a8d33",
   "metadata": {},
   "outputs": [],
   "source": [
    "def tool_router(state: State) -> str:\n",
    "    \"\"\"Decide whether to continue or end\"\"\"\n",
    "    if state.final_answer:\n",
    "        return \"end\"\n",
    "    elif state.iteration > 2:\n",
    "        return \"end\"\n",
    "    elif len(state.tool_calls) > 0:\n",
    "        return \"tools\"\n",
    "    else:\n",
    "        return \"end\""
   ]
  },
  {
   "cell_type": "markdown",
   "id": "bc8ec32a",
   "metadata": {},
   "source": [
    "### Custom tool node function that supports running tools exposed via MCP Servers"
   ]
  },
  {
   "cell_type": "code",
   "execution_count": 39,
   "id": "34d5d38e",
   "metadata": {},
   "outputs": [],
   "source": [
    "async def mcp_tool_node(state: State) -> str:\n",
    "\n",
    "    tool_messages = []\n",
    "\n",
    "    for i, tc in enumerate(state.tool_calls):\n",
    "\n",
    "        client = Client(tc.server)\n",
    "\n",
    "        async with client:\n",
    "\n",
    "            result = await client.call_tool(tc.name, tc.arguments)\n",
    "\n",
    "            tool_message = ToolMessage(\n",
    "                content=result,\n",
    "                tool_call_id=f\"call_{i}\"\n",
    "            )\n",
    "            tool_messages.append(tool_message)\n",
    "\n",
    "    return{\n",
    "        \"messages\": tool_messages,\n",
    "        \"tool_cals\": state.tool_calls,\n",
    "        \"iteration\": state.iteration + 1,\n",
    "    }"
   ]
  },
  {
   "cell_type": "markdown",
   "id": "e75e6efc",
   "metadata": {},
   "source": [
    "### LangGraph implementation with MCP support"
   ]
  },
  {
   "cell_type": "code",
   "execution_count": 44,
   "id": "6760cd55",
   "metadata": {},
   "outputs": [],
   "source": [
    "workflow = StateGraph(State)\n",
    "\n",
    "mcp_servers = [\"http://localhost:8001/mcp\", \"http://localhost:8002/mcp\"]\n",
    "\n",
    "tool_descriptions = await get_tool_descriptions_from_mcp_servers(mcp_servers)\n",
    "\n",
    "workflow.add_node(\"agent node\", agent_node)\n",
    "workflow.add_node(\"mcp_tool_node\", mcp_tool_node)   \n",
    "\n",
    "workflow.add_edge(START, \"agent node\")\n",
    "\n",
    "workflow.add_conditional_edges(\n",
    "    \"agent node\", \n",
    "    tool_router,\n",
    "    {\n",
    "        \"tools\": \"mcp_tool_node\", \n",
    "        \"end\": END\n",
    "    }\n",
    ")\n",
    "\n",
    "workflow.add_edge(\"mcp_tool_node\", \"agent node\")\n",
    "\n",
    "graph = workflow.compile()"
   ]
  },
  {
   "cell_type": "code",
   "execution_count": 42,
   "id": "cff1d490",
   "metadata": {},
   "outputs": [
    {
     "data": {
      "image/png": "[encoded data removed]",
      "text/plain": [
       "<IPython.core.display.Image object>"
      ]
     },
     "metadata": {},
     "output_type": "display_data"
    }
   ],
   "source": [
    "display(Image(graph.get_graph().draw_mermaid_png()))"
   ]
  },
  {
   "cell_type": "markdown",
   "id": "a4d1fd5b",
   "metadata": {},
   "source": [
    "### Invoke the Graph"
   ]
  },
  {
   "cell_type": "code",
   "execution_count": 47,
   "id": "38f47e47",
   "metadata": {},
   "outputs": [],
   "source": [
    "initial_state = {\n",
    "    \"messages\": [{\"role\": \"user\", \"content\": \"Can I get earphones for myself, a laptop bag for my wife and something cool for my kids?\"}],\n",
    "    \"available_tools\": tool_descriptions\n",
    "}\n",
    "result = await graph.ainvoke(initial_state)"
   ]
  },
  {
   "cell_type": "code",
   "execution_count": 49,
   "id": "b33a90a5",
   "metadata": {},
   "outputs": [
    {
     "data": {
      "text/plain": [
       "{'messages': [{'role': 'user',\n",
       "   'content': 'Can I get earphones for myself, a laptop bag for my wife and something cool for my kids?'},\n",
       "  AIMessage(content='I will check the available products for earphones, laptop bags, and something cool for kids to provide you with suitable options.', additional_kwargs={}, response_metadata={}, tool_calls=[{'name': 'get_formatted_item_context', 'args': {'query': 'earphones', 'top_k': 3}, 'id': 'call_0', 'type': 'tool_call'}, {'name': 'get_formatted_item_context', 'args': {'query': 'laptop bag', 'top_k': 3}, 'id': 'call_1', 'type': 'tool_call'}, {'name': 'get_formatted_item_context', 'args': {'query': 'kids toys cool', 'top_k': 3}, 'id': 'call_2', 'type': 'tool_call'}]),\n",
       "  ToolMessage(content=\"CallToolResult(content=[TextContent(type='text', text='- B0C85LNB75: Wireless Earbuds Headphones Bluetooth 5.3, 50H Playtime Over Ear Buds with Noise Cancelling Mic, LED Display, Stereo Bass Bluetooth Earbuds with Earhooks, IP7 Waterproof Earphones for Sports Workout Superior Clear Call and Immersive Stereo Sound Wireless Earbuds, DETACHABLE EARHOOK FOR SPORTS ONE BUTTON CONTROL DESIGN\\\\n- B09NZNP8Z3: WeurGhy Wireless Earbuds, Bluetooth 5.1 Headphones with HD Microphone, Deep Bass in Ear Sports Earphones with LED Display, 80 Hours of Playtime, IPX7 Waterproof Earbuds for Workout Running Powerful Deep Bass and Clear Calls: Wireless earbuds has four powerful built-in microphones to effectively remove ambient noise and make calls clearer. 10mm speaker drivers provide deep bass and pure midrange for a more authentic music experience. 80 Hours Playtime and Dual LED Displays Charging Case: The wireless headphones can last up to 8 hours at a time and have a portable charging case that allows you to play 80 hours of music with a unique dual LED display, the left side shows the remaining power of the charging case and the right side shows the progress of charging the headphones. Ear Hooks Designed for Sports: During long hours of sports, the ear hooks ensure that the earbuds do not move or fall off, and the design fits your ears so that you do not feel uncomfortable wearing them for long periods of time. IPX7 Waterproof for All Kinds of Weather: The earphones are waterproof with nano-coating, which can well withstand rain and sweat, making the bluetooth earphones suitable for camping, running or exercising even on rainy days. Bluetooth 5.1 and Auto-Pairing: Bluetooth 5.1 is more stable and faster signal transmission compared to Bluetooth 5.0 connection, which can reduce the loss of sound quality. After the first successful connection, simply remove the bluetooth earbuds from the charging case and they will automatically connect.\\\\n- B0B658CT5S: Wireless Earbud, Bluetooth 5.3 Headphones Bluetooth Earbud, Deep Bass Wireless Earphones in Ear Noise Cancelling Ear Buds 40H Dual Mic Call, USB-C LED Display IP7 Waterproof Headset for Sport-2022 New Bluetooth 5.3 and Effortless Pairing: Adopting advanced Bluetooth V5.3 and dual-channel transmission, wireless earbud support HSP HFP A2DP AVRCP, which offer you an unparalleled audio experience with faster transmission speed, stronger connection stability, and longer range of bluetooth. Taken from the charging case, wireless headphones will be paired with each other automatically, and just hit on bluetooth list i13 on your device to connect, avoiding complex operations and saving waiting time. Stereo Deep Bass and Crystal-Clear Calls: These bluetooth headphones with 13mm graphene speakers and triple-layer composite diaphragms provide powerful bass, stunning treble and clear mids. The built-in mic in each noise cancelling earbud utilizes call noise cancellation to ensure clear and realistic sound. Inward-facing microphone listens inside ear canal to pick up internal sounds and produce anti-noise again to twice cancel the left noise. It will allow you to enjoy high-quality call anytime. Real-Time Dual LED Displays and Type-C Fast Charge: Digital LED display is to show the power level for charging case and wireless earphones. When charging for the case, the LED light will start to flash from 1 to 100. When you put wireless earbud bluetooth into the case, bluetooth headset will start to be charged. Headphones wireless bluetooth can last for 8h playtime from a single charge and 32 extra hours with charging case. Equipped with USB-C cable offers you more quick and stable charging. Ultralight and Comfort Fit: The pocket-sized charging case does not take up any space to carry, and you will not have any stress on wearing Sports earbud. Earbud wireless headphones are designed to fit the contours of the human ear with a curved structure that is same to the shape of the ear canal, making them comfortable to wear and not falling out when running, gym. Waterproof earbud use IP7 nano-coating technology, which can protect internal components from liquids and ensure a longer life. Smart Touch Control, Stereo and Mono Mode: Features with touch control sensors, bluetooth headphones wireless allows you to conveniently power on/off, play/pause, skip songs, answer/hang up, adjust volume and access other functions at the touch of a button. Free your hands completely when you’re busy doing exercise, driving or running. Besides, ear buds earbud bluetooth not only can be worked together for stereo music, but also can be worked independently. Design for business and commute.\\\\n', annotations=None, meta=None)], structured_content={'result': '- B0C85LNB75: Wireless Earbuds Headphones Bluetooth 5.3, 50H Playtime Over Ear Buds with Noise Cancelling Mic, LED Display, Stereo Bass Bluetooth Earbuds with Earhooks, IP7 Waterproof Earphones for Sports Workout Superior Clear Call and Immersive Stereo Sound Wireless Earbuds, DETACHABLE EARHOOK FOR SPORTS ONE BUTTON CONTROL DESIGN\\\\n- B09NZNP8Z3: WeurGhy Wireless Earbuds, Bluetooth 5.1 Headphones with HD Microphone, Deep Bass in Ear Sports Earphones with LED Display, 80 Hours of Playtime, IPX7 Waterproof Earbuds for Workout Running Powerful Deep Bass and Clear Calls: Wireless earbuds has four powerful built-in microphones to effectively remove ambient noise and make calls clearer. 10mm speaker drivers provide deep bass and pure midrange for a more authentic music experience. 80 Hours Playtime and Dual LED Displays Charging Case: The wireless headphones can last up to 8 hours at a time and have a portable charging case that allows you to play 80 hours of music with a unique dual LED display, the left side shows the remaining power of the charging case and the right side shows the progress of charging the headphones. Ear Hooks Designed for Sports: During long hours of sports, the ear hooks ensure that the earbuds do not move or fall off, and the design fits your ears so that you do not feel uncomfortable wearing them for long periods of time. IPX7 Waterproof for All Kinds of Weather: The earphones are waterproof with nano-coating, which can well withstand rain and sweat, making the bluetooth earphones suitable for camping, running or exercising even on rainy days. Bluetooth 5.1 and Auto-Pairing: Bluetooth 5.1 is more stable and faster signal transmission compared to Bluetooth 5.0 connection, which can reduce the loss of sound quality. After the first successful connection, simply remove the bluetooth earbuds from the charging case and they will automatically connect.\\\\n- B0B658CT5S: Wireless Earbud, Bluetooth 5.3 Headphones Bluetooth Earbud, Deep Bass Wireless Earphones in Ear Noise Cancelling Ear Buds 40H Dual Mic Call, USB-C LED Display IP7 Waterproof Headset for Sport-2022 New Bluetooth 5.3 and Effortless Pairing: Adopting advanced Bluetooth V5.3 and dual-channel transmission, wireless earbud support HSP HFP A2DP AVRCP, which offer you an unparalleled audio experience with faster transmission speed, stronger connection stability, and longer range of bluetooth. Taken from the charging case, wireless headphones will be paired with each other automatically, and just hit on bluetooth list i13 on your device to connect, avoiding complex operations and saving waiting time. Stereo Deep Bass and Crystal-Clear Calls: These bluetooth headphones with 13mm graphene speakers and triple-layer composite diaphragms provide powerful bass, stunning treble and clear mids. The built-in mic in each noise cancelling earbud utilizes call noise cancellation to ensure clear and realistic sound. Inward-facing microphone listens inside ear canal to pick up internal sounds and produce anti-noise again to twice cancel the left noise. It will allow you to enjoy high-quality call anytime. Real-Time Dual LED Displays and Type-C Fast Charge: Digital LED display is to show the power level for charging case and wireless earphones. When charging for the case, the LED light will start to flash from 1 to 100. When you put wireless earbud bluetooth into the case, bluetooth headset will start to be charged. Headphones wireless bluetooth can last for 8h playtime from a single charge and 32 extra hours with charging case. Equipped with USB-C cable offers you more quick and stable charging. Ultralight and Comfort Fit: The pocket-sized charging case does not take up any space to carry, and you will not have any stress on wearing Sports earbud. Earbud wireless headphones are designed to fit the contours of the human ear with a curved structure that is same to the shape of the ear canal, making them comfortable to wear and not falling out when running, gym. Waterproof earbud use IP7 nano-coating technology, which can protect internal components from liquids and ensure a longer life. Smart Touch Control, Stereo and Mono Mode: Features with touch control sensors, bluetooth headphones wireless allows you to conveniently power on/off, play/pause, skip songs, answer/hang up, adjust volume and access other functions at the touch of a button. Free your hands completely when you’re busy doing exercise, driving or running. Besides, ear buds earbud bluetooth not only can be worked together for stereo music, but also can be worked independently. Design for business and commute.\\\\n'}, data='- B0C85LNB75: Wireless Earbuds Headphones Bluetooth 5.3, 50H Playtime Over Ear Buds with Noise Cancelling Mic, LED Display, Stereo Bass Bluetooth Earbuds with Earhooks, IP7 Waterproof Earphones for Sports Workout Superior Clear Call and Immersive Stereo Sound Wireless Earbuds, DETACHABLE EARHOOK FOR SPORTS ONE BUTTON CONTROL DESIGN\\\\n- B09NZNP8Z3: WeurGhy Wireless Earbuds, Bluetooth 5.1 Headphones with HD Microphone, Deep Bass in Ear Sports Earphones with LED Display, 80 Hours of Playtime, IPX7 Waterproof Earbuds for Workout Running Powerful Deep Bass and Clear Calls: Wireless earbuds has four powerful built-in microphones to effectively remove ambient noise and make calls clearer. 10mm speaker drivers provide deep bass and pure midrange for a more authentic music experience. 80 Hours Playtime and Dual LED Displays Charging Case: The wireless headphones can last up to 8 hours at a time and have a portable charging case that allows you to play 80 hours of music with a unique dual LED display, the left side shows the remaining power of the charging case and the right side shows the progress of charging the headphones. Ear Hooks Designed for Sports: During long hours of sports, the ear hooks ensure that the earbuds do not move or fall off, and the design fits your ears so that you do not feel uncomfortable wearing them for long periods of time. IPX7 Waterproof for All Kinds of Weather: The earphones are waterproof with nano-coating, which can well withstand rain and sweat, making the bluetooth earphones suitable for camping, running or exercising even on rainy days. Bluetooth 5.1 and Auto-Pairing: Bluetooth 5.1 is more stable and faster signal transmission compared to Bluetooth 5.0 connection, which can reduce the loss of sound quality. After the first successful connection, simply remove the bluetooth earbuds from the charging case and they will automatically connect.\\\\n- B0B658CT5S: Wireless Earbud, Bluetooth 5.3 Headphones Bluetooth Earbud, Deep Bass Wireless Earphones in Ear Noise Cancelling Ear Buds 40H Dual Mic Call, USB-C LED Display IP7 Waterproof Headset for Sport-2022 New Bluetooth 5.3 and Effortless Pairing: Adopting advanced Bluetooth V5.3 and dual-channel transmission, wireless earbud support HSP HFP A2DP AVRCP, which offer you an unparalleled audio experience with faster transmission speed, stronger connection stability, and longer range of bluetooth. Taken from the charging case, wireless headphones will be paired with each other automatically, and just hit on bluetooth list i13 on your device to connect, avoiding complex operations and saving waiting time. Stereo Deep Bass and Crystal-Clear Calls: These bluetooth headphones with 13mm graphene speakers and triple-layer composite diaphragms provide powerful bass, stunning treble and clear mids. The built-in mic in each noise cancelling earbud utilizes call noise cancellation to ensure clear and realistic sound. Inward-facing microphone listens inside ear canal to pick up internal sounds and produce anti-noise again to twice cancel the left noise. It will allow you to enjoy high-quality call anytime. Real-Time Dual LED Displays and Type-C Fast Charge: Digital LED display is to show the power level for charging case and wireless earphones. When charging for the case, the LED light will start to flash from 1 to 100. When you put wireless earbud bluetooth into the case, bluetooth headset will start to be charged. Headphones wireless bluetooth can last for 8h playtime from a single charge and 32 extra hours with charging case. Equipped with USB-C cable offers you more quick and stable charging. Ultralight and Comfort Fit: The pocket-sized charging case does not take up any space to carry, and you will not have any stress on wearing Sports earbud. Earbud wireless headphones are designed to fit the contours of the human ear with a curved structure that is same to the shape of the ear canal, making them comfortable to wear and not falling out when running, gym. Waterproof earbud use IP7 nano-coating technology, which can protect internal components from liquids and ensure a longer life. Smart Touch Control, Stereo and Mono Mode: Features with touch control sensors, bluetooth headphones wireless allows you to conveniently power on/off, play/pause, skip songs, answer/hang up, adjust volume and access other functions at the touch of a button. Free your hands completely when you’re busy doing exercise, driving or running. Besides, ear buds earbud bluetooth not only can be worked together for stereo music, but also can be worked independently. Design for business and commute.\\\\n', is_error=False)\", tool_call_id='call_0'),\n",
       "  ToolMessage(content='CallToolResult(content=[TextContent(type=\\'text\\', text=\\'- B0C53DQ4P5: CUIUIC Portable Monitor Touchscreen for Laptop, Travel Monitor Metal Frame USB-C Second Monitor, HDR Eye Care Gaming Monitor for Laptop/Xbox/PS4/PS5/Switch 💫TRAVEL MONITOR FOR LAPTOP💫: The frame of the CUIUIC portable touchscreen monitor is made of premium aluminum alloy, weighs only about 2.1lb, and is about 0.25 inches thick. It is slim and stylish, and can easily fit into various handbags, bringing more fun and convenience to your travels. 💫PERFECT TEN-POINT TOUCH FUNCTION💫: Equipped with an interactive ten-point touch screen, providing accurate and high-speed response touch experience. Let you use your fingertips to easily edit documents, make slides, and make your work more intelligent and efficient. 💫178° WIDE VIEWING ANGLE💫: The 178°wide viewing angle eliminates the color cast with new visual technology, Bringing users a full view of 178° up and down and left and right, leaving no visual blind spots, and showing the original colors. It can effectively reduce blue light radiation damage, no flickering, eye-care, and make it easier to watch for a long time. 💫DURABLE QUALITY & UNIQUE STAND💫: Innovative built-in stand design, the folding range of this built-in stand is 0~75°, you can fold it to any angle that makes you feel comfortable, it is more convenient and durable than the stand made of PU leather. 💫MULTIPLE DISPLAY MODE💫: CUIUIC portable gaming monitor has three modes for choice: duplicate mode, extend mode, and second screen mode, can also scale up your smartphone to desktop mode or phone mode.it\\\\\\'s very suitable for travel, playing outside, and anywhere you\\\\\\'d like to use an external monitor, put it in your backpack and go.\\\\n- B09W9378YD: Teryeefi for MacBook Pro 13 Inch Case 2022 2021 2020 2019 2018 2017 2016 Release A2338 M1 M2 A2289 A2251 A2159 A1989 A1706, Sparkly Hard Shell Cover +Keyboard Cover + Screen Protector, Glitter Black Applicable Model - Compatible with MacBook Pro 13-Inch 2016-2022 Release with Touch Bar & Retina Display, Model Number: A2338 M1 M2 Chip / A2251 / A2289 / A2159 / A18989 / A1706. Please check the model \"AXXXX\" on the bottom of your laptop before purchase. Warning - NOT Compatible with 2010-2015 MacBook Pro 13 inch WITHOUT Touch Bar. Easy Installation and Fit - A two-piece wnap on design for easy installation and removal.Allows your laptop to open more than 90 degrees and precise cutouts allow full access to all functions, fontrols, and Buttons. Plug your charger, cable, or headset without removing the case. Durable Material -Case is made of high-quality plastic materials with excellent flexibility, replacing your computer to withstand everyday fingerprints, scrapes, and scratches. Diversified Accessories - Including 1 × Pro 13 Case(including top and bottom cover),2 × matching Keyboard Cover,1 × Screen Protector 1 × Dust Plug. Give your computer full protection.\\\\n- B09PG7ZH36: ZAOJUP Compatible with MacBook Air 13 inch Case, MacBook Air 2020 2021 Case with Touch ID (Model: A2337 M1 A2179 A1932), Smooth Shiny Laptop Plastic Hard Shell Case + 2 Keyboard Covers, Giraffe Laser 【COMPATIBLITY】 Designed to Fits Perfectly For New MacBook Air 13 inch with Retina Display & Touch ID A1932/A2179/A2337 2017 2018 2017 2020 Release,Please kindly check model number \"A1xxx\"on the back of the for MacBook before your purchase. 【FULLY OPEN】 The MacBook air case is designed with a real 13\" MacBook air, precise cutout design makes it no restriction when you open your Mac more than 90 degrees, this case is just like a glove of your 2022 MacBook air. 【TRANSPARENT】 MacBook air case a2337 made of high transparency hard pc plastic, so it can be perfectly present the original color of your 13 inch MacBook air 2020. 【HEAT DISSIPATION】 MacBook air 13 inch case fully vented for heat disbursement, fully access to all ports and features, plug your cable, charger or headset without removing the case. 【100% SATISFIED AFTER-SALE SERVICE】This MacBook Air hard shell case cover comes with 2 high quality tpu keyboard covers. If there is any product issue please feel free to contact us, We will try our best to give you the most sincere customer service.\\\\n\\', annotations=None, meta=None)], structured_content={\\'result\\': \\'- B0C53DQ4P5: CUIUIC Portable Monitor Touchscreen for Laptop, Travel Monitor Metal Frame USB-C Second Monitor, HDR Eye Care Gaming Monitor for Laptop/Xbox/PS4/PS5/Switch 💫TRAVEL MONITOR FOR LAPTOP💫: The frame of the CUIUIC portable touchscreen monitor is made of premium aluminum alloy, weighs only about 2.1lb, and is about 0.25 inches thick. It is slim and stylish, and can easily fit into various handbags, bringing more fun and convenience to your travels. 💫PERFECT TEN-POINT TOUCH FUNCTION💫: Equipped with an interactive ten-point touch screen, providing accurate and high-speed response touch experience. Let you use your fingertips to easily edit documents, make slides, and make your work more intelligent and efficient. 💫178° WIDE VIEWING ANGLE💫: The 178°wide viewing angle eliminates the color cast with new visual technology, Bringing users a full view of 178° up and down and left and right, leaving no visual blind spots, and showing the original colors. It can effectively reduce blue light radiation damage, no flickering, eye-care, and make it easier to watch for a long time. 💫DURABLE QUALITY & UNIQUE STAND💫: Innovative built-in stand design, the folding range of this built-in stand is 0~75°, you can fold it to any angle that makes you feel comfortable, it is more convenient and durable than the stand made of PU leather. 💫MULTIPLE DISPLAY MODE💫: CUIUIC portable gaming monitor has three modes for choice: duplicate mode, extend mode, and second screen mode, can also scale up your smartphone to desktop mode or phone mode.it\\\\\\'s very suitable for travel, playing outside, and anywhere you\\\\\\'d like to use an external monitor, put it in your backpack and go.\\\\n- B09W9378YD: Teryeefi for MacBook Pro 13 Inch Case 2022 2021 2020 2019 2018 2017 2016 Release A2338 M1 M2 A2289 A2251 A2159 A1989 A1706, Sparkly Hard Shell Cover +Keyboard Cover + Screen Protector, Glitter Black Applicable Model - Compatible with MacBook Pro 13-Inch 2016-2022 Release with Touch Bar & Retina Display, Model Number: A2338 M1 M2 Chip / A2251 / A2289 / A2159 / A18989 / A1706. Please check the model \"AXXXX\" on the bottom of your laptop before purchase. Warning - NOT Compatible with 2010-2015 MacBook Pro 13 inch WITHOUT Touch Bar. Easy Installation and Fit - A two-piece wnap on design for easy installation and removal.Allows your laptop to open more than 90 degrees and precise cutouts allow full access to all functions, fontrols, and Buttons. Plug your charger, cable, or headset without removing the case. Durable Material -Case is made of high-quality plastic materials with excellent flexibility, replacing your computer to withstand everyday fingerprints, scrapes, and scratches. Diversified Accessories - Including 1 × Pro 13 Case(including top and bottom cover),2 × matching Keyboard Cover,1 × Screen Protector 1 × Dust Plug. Give your computer full protection.\\\\n- B09PG7ZH36: ZAOJUP Compatible with MacBook Air 13 inch Case, MacBook Air 2020 2021 Case with Touch ID (Model: A2337 M1 A2179 A1932), Smooth Shiny Laptop Plastic Hard Shell Case + 2 Keyboard Covers, Giraffe Laser 【COMPATIBLITY】 Designed to Fits Perfectly For New MacBook Air 13 inch with Retina Display & Touch ID A1932/A2179/A2337 2017 2018 2017 2020 Release,Please kindly check model number \"A1xxx\"on the back of the for MacBook before your purchase. 【FULLY OPEN】 The MacBook air case is designed with a real 13\" MacBook air, precise cutout design makes it no restriction when you open your Mac more than 90 degrees, this case is just like a glove of your 2022 MacBook air. 【TRANSPARENT】 MacBook air case a2337 made of high transparency hard pc plastic, so it can be perfectly present the original color of your 13 inch MacBook air 2020. 【HEAT DISSIPATION】 MacBook air 13 inch case fully vented for heat disbursement, fully access to all ports and features, plug your cable, charger or headset without removing the case. 【100% SATISFIED AFTER-SALE SERVICE】This MacBook Air hard shell case cover comes with 2 high quality tpu keyboard covers. If there is any product issue please feel free to contact us, We will try our best to give you the most sincere customer service.\\\\n\\'}, data=\\'- B0C53DQ4P5: CUIUIC Portable Monitor Touchscreen for Laptop, Travel Monitor Metal Frame USB-C Second Monitor, HDR Eye Care Gaming Monitor for Laptop/Xbox/PS4/PS5/Switch 💫TRAVEL MONITOR FOR LAPTOP💫: The frame of the CUIUIC portable touchscreen monitor is made of premium aluminum alloy, weighs only about 2.1lb, and is about 0.25 inches thick. It is slim and stylish, and can easily fit into various handbags, bringing more fun and convenience to your travels. 💫PERFECT TEN-POINT TOUCH FUNCTION💫: Equipped with an interactive ten-point touch screen, providing accurate and high-speed response touch experience. Let you use your fingertips to easily edit documents, make slides, and make your work more intelligent and efficient. 💫178° WIDE VIEWING ANGLE💫: The 178°wide viewing angle eliminates the color cast with new visual technology, Bringing users a full view of 178° up and down and left and right, leaving no visual blind spots, and showing the original colors. It can effectively reduce blue light radiation damage, no flickering, eye-care, and make it easier to watch for a long time. 💫DURABLE QUALITY & UNIQUE STAND💫: Innovative built-in stand design, the folding range of this built-in stand is 0~75°, you can fold it to any angle that makes you feel comfortable, it is more convenient and durable than the stand made of PU leather. 💫MULTIPLE DISPLAY MODE💫: CUIUIC portable gaming monitor has three modes for choice: duplicate mode, extend mode, and second screen mode, can also scale up your smartphone to desktop mode or phone mode.it\\\\\\'s very suitable for travel, playing outside, and anywhere you\\\\\\'d like to use an external monitor, put it in your backpack and go.\\\\n- B09W9378YD: Teryeefi for MacBook Pro 13 Inch Case 2022 2021 2020 2019 2018 2017 2016 Release A2338 M1 M2 A2289 A2251 A2159 A1989 A1706, Sparkly Hard Shell Cover +Keyboard Cover + Screen Protector, Glitter Black Applicable Model - Compatible with MacBook Pro 13-Inch 2016-2022 Release with Touch Bar & Retina Display, Model Number: A2338 M1 M2 Chip / A2251 / A2289 / A2159 / A18989 / A1706. Please check the model \"AXXXX\" on the bottom of your laptop before purchase. Warning - NOT Compatible with 2010-2015 MacBook Pro 13 inch WITHOUT Touch Bar. Easy Installation and Fit - A two-piece wnap on design for easy installation and removal.Allows your laptop to open more than 90 degrees and precise cutouts allow full access to all functions, fontrols, and Buttons. Plug your charger, cable, or headset without removing the case. Durable Material -Case is made of high-quality plastic materials with excellent flexibility, replacing your computer to withstand everyday fingerprints, scrapes, and scratches. Diversified Accessories - Including 1 × Pro 13 Case(including top and bottom cover),2 × matching Keyboard Cover,1 × Screen Protector 1 × Dust Plug. Give your computer full protection.\\\\n- B09PG7ZH36: ZAOJUP Compatible with MacBook Air 13 inch Case, MacBook Air 2020 2021 Case with Touch ID (Model: A2337 M1 A2179 A1932), Smooth Shiny Laptop Plastic Hard Shell Case + 2 Keyboard Covers, Giraffe Laser 【COMPATIBLITY】 Designed to Fits Perfectly For New MacBook Air 13 inch with Retina Display & Touch ID A1932/A2179/A2337 2017 2018 2017 2020 Release,Please kindly check model number \"A1xxx\"on the back of the for MacBook before your purchase. 【FULLY OPEN】 The MacBook air case is designed with a real 13\" MacBook air, precise cutout design makes it no restriction when you open your Mac more than 90 degrees, this case is just like a glove of your 2022 MacBook air. 【TRANSPARENT】 MacBook air case a2337 made of high transparency hard pc plastic, so it can be perfectly present the original color of your 13 inch MacBook air 2020. 【HEAT DISSIPATION】 MacBook air 13 inch case fully vented for heat disbursement, fully access to all ports and features, plug your cable, charger or headset without removing the case. 【100% SATISFIED AFTER-SALE SERVICE】This MacBook Air hard shell case cover comes with 2 high quality tpu keyboard covers. If there is any product issue please feel free to contact us, We will try our best to give you the most sincere customer service.\\\\n\\', is_error=False)', tool_call_id='call_1'),\n",
       "  ToolMessage(content='CallToolResult(content=[TextContent(type=\\'text\\', text=\"- B0BBLQHWNW: Kids Bluetooth Headphones, Colorful Wireless Over Ear Headset with LED Lights, Built-in Mic, 45H Playtime, 85dB/94dB Volume Limited Headphones for Boys Girls iPad Tablet School Airplane Pink Purple 3 Lighting Modes & Unique Design: The lights are displayed on both sides of the headset, and there are three modes to switch by one button. designed with Unique gradient color, this Bluetooth headphones are also the child\\'s favorite gift! Volume Control & Built-in MIC: There is no need to worry about hearing damage of your children, even without parental supervision with 85dB/94dB Volume Limited, With the built-in microphone, you can free your hands to make calls/ end calls and communicate with others with just one button. 45H Playtime & USB C Charging: comes with USB C Charging Cable, Thanks to fast charging technology, 5 minutes gives you 5 hours of playtime! when the headset is in low power, you can connect the AUX cable (included) so that you can enjoy it endlessly! BLUETOOTH 5.0 & WIde Compatibility: Say goodbye to tangled wired headphones. This kids wireless headphones adopts the latest Bluetooth 5.0 technology to ensure a stable connection. Easy connect by one button, compatible with all electronics devices with Bluetooth, such as cell phones, iPad, computer, laptop, pc, tablets, etc Comfortable & Over-ear: Filled with protein memory foam, which can adapt to the ear curves for long time wearing without pain and soreness. Enlarged ear cups can help you block out noise and immerse yourself more in your studies or music. The adjustable headband can be twisted, turned and bent without breaking\\\\n- B0BVLY2CZ4: FREEOL Cute Anime Big Eyes Bob Airpods Case, 7 in 1 Airpods 2&1 Silicone Accessories Protective Cover, 3D Fashion Fun Cartoon Character Design Airpods 2/1 Skin with Keychain for Girls Women Kids Teens 【 Cute Big Eyes Bob Design】Stylish 3D cartoon anime character chic design to decorate your Airpods. Big eyes cartoon design case making your Airpods look interesting and special, adding fun to your life.Best choose as gift for friends and family in the Thanksgiving/Christmas/New Year. Please Note: NOT NOT NOT for Airpods 3, Airpods Pro. 【Super Protection】This adorable lovely Airpods 2nd Generation charging case Cover is made from high-quality silicone material for perfectly fits you airpods 2nd Generation. Soft silicone material cute cartoon pattern shockproof and drop proof shell and have good shock absorption, protects your air pods from unnecessary bumps, dents and scratches. 【Precisely fits】This case is made from vivid color rubber and in a so chic special fantasy style, it’s soft and very easy to insert and remove. Close to the Airpods 2/1, very firm, not easy to fall off, easy to grip. Lightweight, thin, and comfortable touch feeling. Is the perfect gift for family and friends. 【Multi-function】The charging port is reserved, Airpod 2&1 can charging without removing the protective case, charging is very convenient. At the same time, with a variety of AirPods 2&1 accessories to make it more convenient to use your AirPods 2&1. [The Package Include] 1 x cute big eyes bob airpods 2/1 case; 1 x carabiner; 1 x big eyes style ring; 1 x ear hooks; 1 x anti-lost lanyards; 1 x brush; 1 x watch band holder. FREEOL provides a 30-day money-back guarantee and a 90-day replacement warranty.If you are not satisfied with the product, please contact us by email immediately, we will provide you with a satisfactory solution within 24 hours!\\\\n- B0BXNK6B1Q: KLIM Boombox B4 CD Player Portable Audio System - New 2023 - AM/FM Radio with CD Player MP3 Bluetooth AUX USB - Wired & Wireless Mode Rechargeable Battery - Remote Control Autosleep Digital EQ White ✅ DON\\'T STOP THE MUSIC + AM/FM RADIO. With the KLIM Boombox B4 Portable CD player with speakers, we\\'ve made sure to select the best components to give you an awesome experience. Enjoy your collection of CD thanks to its built-in CD player or listen to your favorite radio stations. By simply pressing a button it will automatically scan and save up to 20 stations for quick access, make it super convenient! ✅ POWER WITH CABLE OR INTERNAL BATTERY. Forget about buying batteries every few days. The KLIM Boombox B4 is equipped with high-quality rechargeable batteries that save you money and hassle in the long run, since you will not have to buy disposable ones every time they are depleted. In a matter of weeks, you\\'ll be spending more on batteries than the actual boom box. You will save money and help the environment at the same time. It\\'s simply a smart investment. ✅ COMPACT DESIGN + BLUETOOTH CD PLAYER + GREAT CONNECTIVITY. This Boombox CD player is compact and classy, so you can place it in any room you\\'d like and it will fit nicely to any decor, making it one of the best CD players for home. It is equipped with Bluetooth and an auxiliary (AUX) port that lets you connect the stereo player to your phone or other speakers. It\\'s also an MP3 player: you can even plug a USB stick and listen to thousands of hit songs in MP3 format. ✅ BUILT TO LAST + WARRANTY. We\\'re committed to producing quality electronics using higher quality components, built to last. If you were to ever encounter any problem, you\\'re covered by our 5-year warranty. If you don\\'t like the product when you receive it, you can return it to Amazon for free within 30 days and receive a full refund. It\\'s a completely risk-free purchase. ✅ EASY TO USE + AUTOSLEEP + EXCEPTIONAL CUSTOMER SERVICE. This cd player for home is ideal for young and elderly people alike. With easy to use functions, big buttons, a remote control and a clear user manual in your language, you\\'ll have zero issues no matter who uses the device. As a big plus, you can activate the sleep function so it turns off automatically: this is great when going to bed! And as always, our customer service team is ready to assist you every day of the week.\\\\n\", annotations=None, meta=None)], structured_content={\\'result\\': \"- B0BBLQHWNW: Kids Bluetooth Headphones, Colorful Wireless Over Ear Headset with LED Lights, Built-in Mic, 45H Playtime, 85dB/94dB Volume Limited Headphones for Boys Girls iPad Tablet School Airplane Pink Purple 3 Lighting Modes & Unique Design: The lights are displayed on both sides of the headset, and there are three modes to switch by one button. designed with Unique gradient color, this Bluetooth headphones are also the child\\'s favorite gift! Volume Control & Built-in MIC: There is no need to worry about hearing damage of your children, even without parental supervision with 85dB/94dB Volume Limited, With the built-in microphone, you can free your hands to make calls/ end calls and communicate with others with just one button. 45H Playtime & USB C Charging: comes with USB C Charging Cable, Thanks to fast charging technology, 5 minutes gives you 5 hours of playtime! when the headset is in low power, you can connect the AUX cable (included) so that you can enjoy it endlessly! BLUETOOTH 5.0 & WIde Compatibility: Say goodbye to tangled wired headphones. This kids wireless headphones adopts the latest Bluetooth 5.0 technology to ensure a stable connection. Easy connect by one button, compatible with all electronics devices with Bluetooth, such as cell phones, iPad, computer, laptop, pc, tablets, etc Comfortable & Over-ear: Filled with protein memory foam, which can adapt to the ear curves for long time wearing without pain and soreness. Enlarged ear cups can help you block out noise and immerse yourself more in your studies or music. The adjustable headband can be twisted, turned and bent without breaking\\\\n- B0BVLY2CZ4: FREEOL Cute Anime Big Eyes Bob Airpods Case, 7 in 1 Airpods 2&1 Silicone Accessories Protective Cover, 3D Fashion Fun Cartoon Character Design Airpods 2/1 Skin with Keychain for Girls Women Kids Teens 【 Cute Big Eyes Bob Design】Stylish 3D cartoon anime character chic design to decorate your Airpods. Big eyes cartoon design case making your Airpods look interesting and special, adding fun to your life.Best choose as gift for friends and family in the Thanksgiving/Christmas/New Year. Please Note: NOT NOT NOT for Airpods 3, Airpods Pro. 【Super Protection】This adorable lovely Airpods 2nd Generation charging case Cover is made from high-quality silicone material for perfectly fits you airpods 2nd Generation. Soft silicone material cute cartoon pattern shockproof and drop proof shell and have good shock absorption, protects your air pods from unnecessary bumps, dents and scratches. 【Precisely fits】This case is made from vivid color rubber and in a so chic special fantasy style, it’s soft and very easy to insert and remove. Close to the Airpods 2/1, very firm, not easy to fall off, easy to grip. Lightweight, thin, and comfortable touch feeling. Is the perfect gift for family and friends. 【Multi-function】The charging port is reserved, Airpod 2&1 can charging without removing the protective case, charging is very convenient. At the same time, with a variety of AirPods 2&1 accessories to make it more convenient to use your AirPods 2&1. [The Package Include] 1 x cute big eyes bob airpods 2/1 case; 1 x carabiner; 1 x big eyes style ring; 1 x ear hooks; 1 x anti-lost lanyards; 1 x brush; 1 x watch band holder. FREEOL provides a 30-day money-back guarantee and a 90-day replacement warranty.If you are not satisfied with the product, please contact us by email immediately, we will provide you with a satisfactory solution within 24 hours!\\\\n- B0BXNK6B1Q: KLIM Boombox B4 CD Player Portable Audio System - New 2023 - AM/FM Radio with CD Player MP3 Bluetooth AUX USB - Wired & Wireless Mode Rechargeable Battery - Remote Control Autosleep Digital EQ White ✅ DON\\'T STOP THE MUSIC + AM/FM RADIO. With the KLIM Boombox B4 Portable CD player with speakers, we\\'ve made sure to select the best components to give you an awesome experience. Enjoy your collection of CD thanks to its built-in CD player or listen to your favorite radio stations. By simply pressing a button it will automatically scan and save up to 20 stations for quick access, make it super convenient! ✅ POWER WITH CABLE OR INTERNAL BATTERY. Forget about buying batteries every few days. The KLIM Boombox B4 is equipped with high-quality rechargeable batteries that save you money and hassle in the long run, since you will not have to buy disposable ones every time they are depleted. In a matter of weeks, you\\'ll be spending more on batteries than the actual boom box. You will save money and help the environment at the same time. It\\'s simply a smart investment. ✅ COMPACT DESIGN + BLUETOOTH CD PLAYER + GREAT CONNECTIVITY. This Boombox CD player is compact and classy, so you can place it in any room you\\'d like and it will fit nicely to any decor, making it one of the best CD players for home. It is equipped with Bluetooth and an auxiliary (AUX) port that lets you connect the stereo player to your phone or other speakers. It\\'s also an MP3 player: you can even plug a USB stick and listen to thousands of hit songs in MP3 format. ✅ BUILT TO LAST + WARRANTY. We\\'re committed to producing quality electronics using higher quality components, built to last. If you were to ever encounter any problem, you\\'re covered by our 5-year warranty. If you don\\'t like the product when you receive it, you can return it to Amazon for free within 30 days and receive a full refund. It\\'s a completely risk-free purchase. ✅ EASY TO USE + AUTOSLEEP + EXCEPTIONAL CUSTOMER SERVICE. This cd player for home is ideal for young and elderly people alike. With easy to use functions, big buttons, a remote control and a clear user manual in your language, you\\'ll have zero issues no matter who uses the device. As a big plus, you can activate the sleep function so it turns off automatically: this is great when going to bed! And as always, our customer service team is ready to assist you every day of the week.\\\\n\"}, data=\"- B0BBLQHWNW: Kids Bluetooth Headphones, Colorful Wireless Over Ear Headset with LED Lights, Built-in Mic, 45H Playtime, 85dB/94dB Volume Limited Headphones for Boys Girls iPad Tablet School Airplane Pink Purple 3 Lighting Modes & Unique Design: The lights are displayed on both sides of the headset, and there are three modes to switch by one button. designed with Unique gradient color, this Bluetooth headphones are also the child\\'s favorite gift! Volume Control & Built-in MIC: There is no need to worry about hearing damage of your children, even without parental supervision with 85dB/94dB Volume Limited, With the built-in microphone, you can free your hands to make calls/ end calls and communicate with others with just one button. 45H Playtime & USB C Charging: comes with USB C Charging Cable, Thanks to fast charging technology, 5 minutes gives you 5 hours of playtime! when the headset is in low power, you can connect the AUX cable (included) so that you can enjoy it endlessly! BLUETOOTH 5.0 & WIde Compatibility: Say goodbye to tangled wired headphones. This kids wireless headphones adopts the latest Bluetooth 5.0 technology to ensure a stable connection. Easy connect by one button, compatible with all electronics devices with Bluetooth, such as cell phones, iPad, computer, laptop, pc, tablets, etc Comfortable & Over-ear: Filled with protein memory foam, which can adapt to the ear curves for long time wearing without pain and soreness. Enlarged ear cups can help you block out noise and immerse yourself more in your studies or music. The adjustable headband can be twisted, turned and bent without breaking\\\\n- B0BVLY2CZ4: FREEOL Cute Anime Big Eyes Bob Airpods Case, 7 in 1 Airpods 2&1 Silicone Accessories Protective Cover, 3D Fashion Fun Cartoon Character Design Airpods 2/1 Skin with Keychain for Girls Women Kids Teens 【 Cute Big Eyes Bob Design】Stylish 3D cartoon anime character chic design to decorate your Airpods. Big eyes cartoon design case making your Airpods look interesting and special, adding fun to your life.Best choose as gift for friends and family in the Thanksgiving/Christmas/New Year. Please Note: NOT NOT NOT for Airpods 3, Airpods Pro. 【Super Protection】This adorable lovely Airpods 2nd Generation charging case Cover is made from high-quality silicone material for perfectly fits you airpods 2nd Generation. Soft silicone material cute cartoon pattern shockproof and drop proof shell and have good shock absorption, protects your air pods from unnecessary bumps, dents and scratches. 【Precisely fits】This case is made from vivid color rubber and in a so chic special fantasy style, it’s soft and very easy to insert and remove. Close to the Airpods 2/1, very firm, not easy to fall off, easy to grip. Lightweight, thin, and comfortable touch feeling. Is the perfect gift for family and friends. 【Multi-function】The charging port is reserved, Airpod 2&1 can charging without removing the protective case, charging is very convenient. At the same time, with a variety of AirPods 2&1 accessories to make it more convenient to use your AirPods 2&1. [The Package Include] 1 x cute big eyes bob airpods 2/1 case; 1 x carabiner; 1 x big eyes style ring; 1 x ear hooks; 1 x anti-lost lanyards; 1 x brush; 1 x watch band holder. FREEOL provides a 30-day money-back guarantee and a 90-day replacement warranty.If you are not satisfied with the product, please contact us by email immediately, we will provide you with a satisfactory solution within 24 hours!\\\\n- B0BXNK6B1Q: KLIM Boombox B4 CD Player Portable Audio System - New 2023 - AM/FM Radio with CD Player MP3 Bluetooth AUX USB - Wired & Wireless Mode Rechargeable Battery - Remote Control Autosleep Digital EQ White ✅ DON\\'T STOP THE MUSIC + AM/FM RADIO. With the KLIM Boombox B4 Portable CD player with speakers, we\\'ve made sure to select the best components to give you an awesome experience. Enjoy your collection of CD thanks to its built-in CD player or listen to your favorite radio stations. By simply pressing a button it will automatically scan and save up to 20 stations for quick access, make it super convenient! ✅ POWER WITH CABLE OR INTERNAL BATTERY. Forget about buying batteries every few days. The KLIM Boombox B4 is equipped with high-quality rechargeable batteries that save you money and hassle in the long run, since you will not have to buy disposable ones every time they are depleted. In a matter of weeks, you\\'ll be spending more on batteries than the actual boom box. You will save money and help the environment at the same time. It\\'s simply a smart investment. ✅ COMPACT DESIGN + BLUETOOTH CD PLAYER + GREAT CONNECTIVITY. This Boombox CD player is compact and classy, so you can place it in any room you\\'d like and it will fit nicely to any decor, making it one of the best CD players for home. It is equipped with Bluetooth and an auxiliary (AUX) port that lets you connect the stereo player to your phone or other speakers. It\\'s also an MP3 player: you can even plug a USB stick and listen to thousands of hit songs in MP3 format. ✅ BUILT TO LAST + WARRANTY. We\\'re committed to producing quality electronics using higher quality components, built to last. If you were to ever encounter any problem, you\\'re covered by our 5-year warranty. If you don\\'t like the product when you receive it, you can return it to Amazon for free within 30 days and receive a full refund. It\\'s a completely risk-free purchase. ✅ EASY TO USE + AUTOSLEEP + EXCEPTIONAL CUSTOMER SERVICE. This cd player for home is ideal for young and elderly people alike. With easy to use functions, big buttons, a remote control and a clear user manual in your language, you\\'ll have zero issues no matter who uses the device. As a big plus, you can activate the sleep function so it turns off automatically: this is great when going to bed! And as always, our customer service team is ready to assist you every day of the week.\\\\n\", is_error=False)', tool_call_id='call_2'),\n",
       "  AIMessage(content='For earphones for yourself, there are three wireless earbud options available:\\n1. Wireless Earbuds Headphones Bluetooth 5.3 with 50H playtime, noise cancelling mic, LED display, stereo bass, detachable earhook for sports, and IP7 waterproof. (ID: B0C85LNB75)\\n2. WeurGhy Wireless Earbuds Bluetooth 5.1 with HD microphone, deep bass, 80 hours playtime with dual LED display charging case, ear hooks for sports, IPX7 waterproof, and auto-pairing. (ID: B09NZNP8Z3)\\n3. Wireless Earbud Bluetooth 5.3 with deep bass, noise cancelling, 40H playtime, dual mic call, USB-C LED display, IP7 waterproof, smart touch control, and stereo/mono mode. (ID: B0B658CT5S)\\n\\nFor a laptop bag for your wife, the available products are laptop cases and covers rather than traditional bags:\\n1. CUIUIC Portable Monitor Touchscreen for Laptop with metal frame, USB-C, HDR eye care, 178° wide viewing angle, durable quality, and multiple display modes. (ID: B0C53DQ4P5) - This is more of a portable monitor than a bag.\\n2. Teryeefi Sparkly Hard Shell Cover for MacBook Pro 13 Inch (2016-2022), includes keyboard cover and screen protector, glitter black. (ID: B09W9378YD)\\n3. ZAOJUP MacBook Air 13 inch Case with Touch ID, smooth shiny plastic hard shell, includes 2 keyboard covers, giraffe laser design. (ID: B09PG7ZH36)\\n\\nFor something cool for kids, here are some options:\\n1. Kids Bluetooth Headphones, colorful wireless over-ear headset with LED lights, built-in mic, 45H playtime, volume limited for hearing protection, USB-C charging, Bluetooth 5.0, comfortable with protein memory foam. (ID: B0BBLQHWNW)\\n2. FREEOL Cute Anime Big Eyes Bob Airpods Case, 7 in 1 silicone accessories protective cover for Airpods 2&1, 3D cartoon design, shockproof, with keychain and other accessories. (ID: B0BVLY2CZ4)\\n3. KLIM Boombox B4 CD Player Portable Audio System with AM/FM radio, CD player, MP3 Bluetooth AUX USB, rechargeable battery, remote control, and digital EQ. (ID: B0BXNK6B1Q)\\n\\nPlease let me know if you want detailed specifications or to proceed with any of these items.\\n', additional_kwargs={}, response_metadata={})],\n",
       " 'answer': 'For earphones for yourself, there are three wireless earbud options available:\\n1. Wireless Earbuds Headphones Bluetooth 5.3 with 50H playtime, noise cancelling mic, LED display, stereo bass, detachable earhook for sports, and IP7 waterproof. (ID: B0C85LNB75)\\n2. WeurGhy Wireless Earbuds Bluetooth 5.1 with HD microphone, deep bass, 80 hours playtime with dual LED display charging case, ear hooks for sports, IPX7 waterproof, and auto-pairing. (ID: B09NZNP8Z3)\\n3. Wireless Earbud Bluetooth 5.3 with deep bass, noise cancelling, 40H playtime, dual mic call, USB-C LED display, IP7 waterproof, smart touch control, and stereo/mono mode. (ID: B0B658CT5S)\\n\\nFor a laptop bag for your wife, the available products are laptop cases and covers rather than traditional bags:\\n1. CUIUIC Portable Monitor Touchscreen for Laptop with metal frame, USB-C, HDR eye care, 178° wide viewing angle, durable quality, and multiple display modes. (ID: B0C53DQ4P5) - This is more of a portable monitor than a bag.\\n2. Teryeefi Sparkly Hard Shell Cover for MacBook Pro 13 Inch (2016-2022), includes keyboard cover and screen protector, glitter black. (ID: B09W9378YD)\\n3. ZAOJUP MacBook Air 13 inch Case with Touch ID, smooth shiny plastic hard shell, includes 2 keyboard covers, giraffe laser design. (ID: B09PG7ZH36)\\n\\nFor something cool for kids, here are some options:\\n1. Kids Bluetooth Headphones, colorful wireless over-ear headset with LED lights, built-in mic, 45H playtime, volume limited for hearing protection, USB-C charging, Bluetooth 5.0, comfortable with protein memory foam. (ID: B0BBLQHWNW)\\n2. FREEOL Cute Anime Big Eyes Bob Airpods Case, 7 in 1 silicone accessories protective cover for Airpods 2&1, 3D cartoon design, shockproof, with keychain and other accessories. (ID: B0BVLY2CZ4)\\n3. KLIM Boombox B4 CD Player Portable Audio System with AM/FM radio, CD player, MP3 Bluetooth AUX USB, rechargeable battery, remote control, and digital EQ. (ID: B0BXNK6B1Q)\\n\\nPlease let me know if you want detailed specifications or to proceed with any of these items.\\n',\n",
       " 'iteration': 3,\n",
       " 'final_answer': True,\n",
       " 'available_tools': [{'name': 'get_formatted_item_context',\n",
       "   'description': 'Get the top k context, each representing an inventory item for a given query.',\n",
       "   'parameters': {'type': 'object',\n",
       "    'properties': {'query': {'title': 'Query',\n",
       "      'type': 'string',\n",
       "      'description': 'The query to get the top k context for'},\n",
       "     'top_k': {'default': 5,\n",
       "      'title': 'Top K',\n",
       "      'type': 'integer',\n",
       "      'description': 'The number of context chunks to retrieve, works best with 5 or more'}}},\n",
       "   'required': ['query'],\n",
       "   'returns': {'type': 'string',\n",
       "    'description': 'A string of the top k context chunks with IDs prepending each chunk, each representing an inventory item for a given query.'},\n",
       "   'server': 'http://localhost:8001/mcp'},\n",
       "  {'name': 'get_formatted_review_context',\n",
       "   'description': 'Get the top k reviews matching a query for a list of prefiltered items.',\n",
       "   'parameters': {'type': 'object',\n",
       "    'properties': {'query': {'title': 'Query',\n",
       "      'type': 'string',\n",
       "      'description': 'The query to get the top k reviews for'},\n",
       "     'item_list': {'items': {'type': 'string'},\n",
       "      'title': 'Item List',\n",
       "      'type': 'array',\n",
       "      'description': 'The list of item IDs to prefilter for before running the query'},\n",
       "     'top_k': {'default': 20,\n",
       "      'title': 'Top K',\n",
       "      'type': 'integer',\n",
       "      'description': 'The number of reviews to retrieve, this should be at least 20 if multipple items are prefiltered'}}},\n",
       "   'required': ['query', 'item_list'],\n",
       "   'returns': {'type': 'string',\n",
       "    'description': 'A string of the top k context chunks with IDs prepending each chunk, each representing an inventory item for a given query.'},\n",
       "   'server': 'http://localhost:8002/mcp'}],\n",
       " 'tool_calls': [],\n",
       " 'retrieved_context_ids': []}"
      ]
     },
     "execution_count": 49,
     "metadata": {},
     "output_type": "execute_result"
    }
   ],
   "source": [
    "result"
   ]
  },
  {
   "cell_type": "code",
   "execution_count": null,
   "id": "92ca0ae7",
   "metadata": {},
   "outputs": [],
   "source": []
  }
 ],
 "metadata": {
  "kernelspec": {
   "display_name": "ai-engineering-bootcamp-sL1ZxK4x-py3.12",
   "language": "python",
   "name": "python3"
  },
  "language_info": {
   "codemirror_mode": {
    "name": "ipython",
    "version": 3
   },
   "file_extension": ".py",
   "mimetype": "text/x-python",
   "name": "python",
   "nbconvert_exporter": "python",
   "pygments_lexer": "ipython3",
   "version": "3.12.3"
  }
 },
 "nbformat": 4,
 "nbformat_minor": 5
}
