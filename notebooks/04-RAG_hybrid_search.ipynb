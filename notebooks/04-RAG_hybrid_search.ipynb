{
 "cells": [
  {
   "cell_type": "markdown",
   "id": "57f53b41",
   "metadata": {},
   "source": [
    "###  This implementation fuses Contextual Vector and Exact Keyword search"
   ]
  },
  {
   "cell_type": "code",
   "execution_count": 1,
   "id": "464b5f9f",
   "metadata": {},
   "outputs": [],
   "source": [
    "from qdrant_client import QdrantClient\n",
    "from qdrant_client.models import VectorParams, Distance, PayloadSchemaType, PointStruct, Prefetch, Filter, FieldCondition, MatchText, FusionQuery\n",
    "\n",
    "import pandas as pd"
   ]
  },
  {
   "cell_type": "code",
   "execution_count": 2,
   "id": "fe3cad42",
   "metadata": {},
   "outputs": [],
   "source": [
    "import openai\n",
    "from dotenv import load_dotenv\n",
    "import os\n",
    "\n",
    "load_dotenv()\n",
    "openai.api_key = os.getenv(\"OPENAI_API_KEY\")"
   ]
  },
  {
   "cell_type": "code",
   "execution_count": 3,
   "id": "effa999a",
   "metadata": {},
   "outputs": [],
   "source": [
    "df_items = pd.read_json('../data/meta_Electronics_2022_2023_with_category_ratings_100_sample_1000.jsonl', lines=True)"
   ]
  },
  {
   "cell_type": "code",
   "execution_count": 4,
   "id": "a28c40ba",
   "metadata": {},
   "outputs": [],
   "source": [
    "def preprocess_data(row):\n",
    "    return f\"{row['title']} {''.join(row['features'])}\""
   ]
  },
  {
   "cell_type": "code",
   "execution_count": 5,
   "id": "294d1d1d",
   "metadata": {},
   "outputs": [],
   "source": [
    "def extract_first_large_image(row):\n",
    "    return row['images'][0].get('large', '')"
   ]
  },
  {
   "cell_type": "code",
   "execution_count": 6,
   "id": "e233445a",
   "metadata": {},
   "outputs": [],
   "source": [
    "df_items[\"preprocessed_data\"] = df_items.apply(preprocess_data, axis=1)\n",
    "df_items[\"first_large_image\"] = df_items.apply(extract_first_large_image, axis=1)"
   ]
  },
  {
   "cell_type": "code",
   "execution_count": 7,
   "id": "f8b31bb5",
   "metadata": {},
   "outputs": [
    {
     "data": {
      "text/html": [
       "<div>\n",
       "<style scoped>\n",
       "    .dataframe tbody tr th:only-of-type {\n",
       "        vertical-align: middle;\n",
       "    }\n",
       "\n",
       "    .dataframe tbody tr th {\n",
       "        vertical-align: top;\n",
       "    }\n",
       "\n",
       "    .dataframe thead th {\n",
       "        text-align: right;\n",
       "    }\n",
       "</style>\n",
       "<table border=\"1\" class=\"dataframe\">\n",
       "  <thead>\n",
       "    <tr style=\"text-align: right;\">\n",
       "      <th></th>\n",
       "      <th>main_category</th>\n",
       "      <th>title</th>\n",
       "      <th>average_rating</th>\n",
       "      <th>rating_number</th>\n",
       "      <th>features</th>\n",
       "      <th>description</th>\n",
       "      <th>price</th>\n",
       "      <th>images</th>\n",
       "      <th>videos</th>\n",
       "      <th>store</th>\n",
       "      <th>categories</th>\n",
       "      <th>details</th>\n",
       "      <th>parent_asin</th>\n",
       "      <th>bought_together</th>\n",
       "      <th>subtitle</th>\n",
       "      <th>author</th>\n",
       "      <th>preprocessed_data</th>\n",
       "      <th>first_large_image</th>\n",
       "    </tr>\n",
       "  </thead>\n",
       "  <tbody>\n",
       "    <tr>\n",
       "      <th>0</th>\n",
       "      <td>Sports &amp; Outdoors</td>\n",
       "      <td>Lowrance Hook2-4x Bullet Skimmer Ce Row One Size</td>\n",
       "      <td>4.2</td>\n",
       "      <td>314</td>\n",
       "      <td>[]</td>\n",
       "      <td>[]</td>\n",
       "      <td>NaN</td>\n",
       "      <td>[{'thumb': 'https://m.media-amazon.com/images/...</td>\n",
       "      <td>[]</td>\n",
       "      <td>Lowrance</td>\n",
       "      <td>[Electronics, Car &amp; Vehicle Electronics, Marin...</td>\n",
       "      <td>{'Item Package Dimensions L x W x H': '10.63 x...</td>\n",
       "      <td>B0773K75DM</td>\n",
       "      <td>NaN</td>\n",
       "      <td>NaN</td>\n",
       "      <td>NaN</td>\n",
       "      <td>Lowrance Hook2-4x Bullet Skimmer Ce Row One Size</td>\n",
       "      <td>https://m.media-amazon.com/images/I/51Vh9xbPx2...</td>\n",
       "    </tr>\n",
       "    <tr>\n",
       "      <th>1</th>\n",
       "      <td>Cell Phones &amp; Accessories</td>\n",
       "      <td>Maxjoy Airpod Pro 2 Case 2022 Crystal Clear, A...</td>\n",
       "      <td>4.2</td>\n",
       "      <td>145</td>\n",
       "      <td>[【Perfect Compatibility】: This protective case...</td>\n",
       "      <td>[]</td>\n",
       "      <td>10.99</td>\n",
       "      <td>[{'thumb': 'https://m.media-amazon.com/images/...</td>\n",
       "      <td>[{'title': 'AIRSPO Clear AirPods Pro 2 Case', ...</td>\n",
       "      <td>Maxjoy</td>\n",
       "      <td>[Electronics, Headphones, Earbuds &amp; Accessorie...</td>\n",
       "      <td>{'Package Dimensions': '3.58 x 3.15 x 1.3 inch...</td>\n",
       "      <td>B0BJ6986CY</td>\n",
       "      <td>NaN</td>\n",
       "      <td>NaN</td>\n",
       "      <td>NaN</td>\n",
       "      <td>Maxjoy Airpod Pro 2 Case 2022 Crystal Clear, A...</td>\n",
       "      <td>https://m.media-amazon.com/images/I/41O+wOzuPS...</td>\n",
       "    </tr>\n",
       "  </tbody>\n",
       "</table>\n",
       "</div>"
      ],
      "text/plain": [
       "               main_category  \\\n",
       "0          Sports & Outdoors   \n",
       "1  Cell Phones & Accessories   \n",
       "\n",
       "                                               title  average_rating  \\\n",
       "0   Lowrance Hook2-4x Bullet Skimmer Ce Row One Size             4.2   \n",
       "1  Maxjoy Airpod Pro 2 Case 2022 Crystal Clear, A...             4.2   \n",
       "\n",
       "   rating_number                                           features  \\\n",
       "0            314                                                 []   \n",
       "1            145  [【Perfect Compatibility】: This protective case...   \n",
       "\n",
       "  description  price                                             images  \\\n",
       "0          []    NaN  [{'thumb': 'https://m.media-amazon.com/images/...   \n",
       "1          []  10.99  [{'thumb': 'https://m.media-amazon.com/images/...   \n",
       "\n",
       "                                              videos     store  \\\n",
       "0                                                 []  Lowrance   \n",
       "1  [{'title': 'AIRSPO Clear AirPods Pro 2 Case', ...    Maxjoy   \n",
       "\n",
       "                                          categories  \\\n",
       "0  [Electronics, Car & Vehicle Electronics, Marin...   \n",
       "1  [Electronics, Headphones, Earbuds & Accessorie...   \n",
       "\n",
       "                                             details parent_asin  \\\n",
       "0  {'Item Package Dimensions L x W x H': '10.63 x...  B0773K75DM   \n",
       "1  {'Package Dimensions': '3.58 x 3.15 x 1.3 inch...  B0BJ6986CY   \n",
       "\n",
       "   bought_together  subtitle  author  \\\n",
       "0              NaN       NaN     NaN   \n",
       "1              NaN       NaN     NaN   \n",
       "\n",
       "                                   preprocessed_data  \\\n",
       "0  Lowrance Hook2-4x Bullet Skimmer Ce Row One Size    \n",
       "1  Maxjoy Airpod Pro 2 Case 2022 Crystal Clear, A...   \n",
       "\n",
       "                                   first_large_image  \n",
       "0  https://m.media-amazon.com/images/I/51Vh9xbPx2...  \n",
       "1  https://m.media-amazon.com/images/I/41O+wOzuPS...  "
      ]
     },
     "execution_count": 7,
     "metadata": {},
     "output_type": "execute_result"
    }
   ],
   "source": [
    "df_items.head(2)"
   ]
  },
  {
   "cell_type": "code",
   "execution_count": 8,
   "id": "972b2d4f",
   "metadata": {},
   "outputs": [],
   "source": [
    "qdrant_client = QdrantClient(\n",
    "    url=\"http://localhost:6333\"\n",
    ")"
   ]
  },
  {
   "cell_type": "code",
   "execution_count": 9,
   "id": "f9b86184",
   "metadata": {},
   "outputs": [
    {
     "data": {
      "text/plain": [
       "True"
      ]
     },
     "execution_count": 9,
     "metadata": {},
     "output_type": "execute_result"
    }
   ],
   "source": [
    "qdrant_client.create_collection(collection_name=\"Amazon-items-collection-01-hybrid\", vectors_config=VectorParams(size=1536, distance=Distance.COSINE))"
   ]
  },
  {
   "cell_type": "code",
   "execution_count": 10,
   "id": "c41f1869",
   "metadata": {},
   "outputs": [
    {
     "data": {
      "text/plain": [
       "UpdateResult(operation_id=1, status=<UpdateStatus.COMPLETED: 'completed'>)"
      ]
     },
     "execution_count": 10,
     "metadata": {},
     "output_type": "execute_result"
    }
   ],
   "source": [
    "qdrant_client.create_payload_index(\n",
    "    collection_name=\"Amazon-items-collection-01-hybrid\",\n",
    "    field_name=\"text\",\n",
    "    field_schema=PayloadSchemaType.TEXT)"
   ]
  },
  {
   "cell_type": "code",
   "execution_count": 11,
   "id": "911b9ad2",
   "metadata": {},
   "outputs": [],
   "source": [
    "df_sample = df_items.sample(50, random_state=25)"
   ]
  },
  {
   "cell_type": "code",
   "execution_count": 12,
   "id": "b2e40669",
   "metadata": {},
   "outputs": [],
   "source": [
    "def get_embedding(text, model=\"text-embedding-3-small\"):\n",
    "    response = openai.embeddings.create(\n",
    "        input=[text],\n",
    "        model=model\n",
    "    )\n",
    "    return response.data[0].embedding"
   ]
  },
  {
   "cell_type": "code",
   "execution_count": 13,
   "id": "08c2884b",
   "metadata": {},
   "outputs": [],
   "source": [
    "data_to_embed = df_sample[[\"preprocessed_data\", \"first_large_image\", \"rating_number\", \"price\", \"average_rating\"]].to_dict(orient=\"records\")"
   ]
  },
  {
   "cell_type": "code",
   "execution_count": 14,
   "id": "72bf3a0f",
   "metadata": {},
   "outputs": [],
   "source": [
    "pointstructs = []\n",
    "for i, data in enumerate(data_to_embed):\n",
    "    embedding = get_embedding(data[\"preprocessed_data\"])\n",
    "    pointstructs.append(\n",
    "        PointStruct(\n",
    "        id=i,\n",
    "        vector=embedding,\n",
    "        payload={\n",
    "            \"text\": data[\"preprocessed_data\"],\n",
    "            \"first_large_image\": data[\"first_large_image\"],\n",
    "            \"average_rating\": data[\"average_rating\"],\n",
    "            \"rating_number\": data[\"rating_number\"],\n",
    "            \"price\": data[\"price\"],\n",
    "\n",
    "        }\n",
    "        )\n",
    "    )\n"
   ]
  },
  {
   "cell_type": "code",
   "execution_count": 15,
   "id": "28e160ed",
   "metadata": {},
   "outputs": [
    {
     "data": {
      "text/plain": [
       "UpdateResult(operation_id=2, status=<UpdateStatus.COMPLETED: 'completed'>)"
      ]
     },
     "execution_count": 15,
     "metadata": {},
     "output_type": "execute_result"
    }
   ],
   "source": [
    "qdrant_client.upsert(\n",
    "    collection_name=\"Amazon-items-collection-01-hybrid\",\n",
    "    wait=True,\n",
    "    points=pointstructs,\n",
    ")"
   ]
  },
  {
   "cell_type": "markdown",
   "id": "63d840f7",
   "metadata": {},
   "source": []
  },
  {
   "cell_type": "code",
   "execution_count": 16,
   "id": "7fb1566f",
   "metadata": {},
   "outputs": [],
   "source": [
    "def retrieve_data(query, k=5):\n",
    "    query_embedding = get_embedding(query)\n",
    "\n",
    "    results = qdrant_client.query_points(\n",
    "        collection_name=\"Amazon-items-collection-01-hybrid\",\n",
    "        prefetch=[\n",
    "            Prefetch(\n",
    "                query=query_embedding,\n",
    "                limit=20\n",
    "            ),\n",
    "            Prefetch(\n",
    "                filter=Filter(\n",
    "                    must=[\n",
    "                        FieldCondition(\n",
    "                            key=\"text\",\n",
    "                            match=MatchText(text=query)\n",
    "                        )\n",
    "                    ]\n",
    "                ),\n",
    "                limit=20\n",
    "            )\n",
    "        ],\n",
    "        query=FusionQuery(fusion=\"rrf\"),\n",
    "        limit=k\n",
    "    )\n",
    "\n",
    "    return results"
   ]
  },
  {
   "cell_type": "code",
   "execution_count": 17,
   "id": "a4a0e68c",
   "metadata": {},
   "outputs": [
    {
     "data": {
      "text/plain": [
       "[ScoredPoint(id=26, version=2, score=0.75, payload={'text': 'Wireless Earbuds Headphones Bluetooth 5.3, 50H Playtime Over Ear Buds with Noise Cancelling Mic, LED Display, Stereo Bass Bluetooth Earbuds with Earhooks, IP7 Waterproof Earphones for Sports Workout Superior Clear Call and Immersive Stereo SoundWireless Earbuds,DETACHABLE EARHOOK FOR SPORTSONE BUTTON CONTROL DESIGN', 'first_large_image': 'https://m.media-amazon.com/images/I/51mrgqFpwpL._AC_.jpg', 'average_rating': 4.9, 'rating_number': 139, 'price': 59.99}, vector=None, shard_key=None, order_value=None),\n",
       " ScoredPoint(id=6, version=2, score=0.6666667, payload={'text': 'WeurGhy Wireless Earbuds, Bluetooth 5.1 Headphones with HD Microphone, Deep Bass in Ear Sports Earphones with LED Display, 80 Hours of Playtime, IPX7 Waterproof Earbuds for Workout Running Powerful Deep Bass and Clear Calls: Wireless earbuds has four powerful built-in microphones to effectively remove ambient noise and make calls clearer. 10mm speaker drivers provide deep bass and pure midrange for a more authentic music experience.80 Hours Playtime and Dual LED Displays Charging Case: The wireless headphones can last up to 8 hours at a time and have a portable charging case that allows you to play 80 hours of music with a unique dual LED display, the left side shows the remaining power of the charging case and the right side shows the progress of charging the headphones.Ear Hooks Designed for Sports: During long hours of sports, the ear hooks ensure that the earbuds do not move or fall off, and the design fits your ears so that you do not feel uncomfortable wearing them for long periods of time.IPX7 Waterproof for All Kinds of Weather: The earphones are waterproof with nano-coating, which can well withstand rain and sweat, making the bluetooth earphones suitable for camping, running or exercising even on rainy days.Bluetooth 5.1 and Auto-Pairing: Bluetooth 5.1 is more stable and faster signal transmission compared to Bluetooth 5.0 connection, which can reduce the loss of sound quality. After the first successful connection, simply remove the bluetooth earbuds from the charging case and they will automatically connect.', 'first_large_image': 'https://m.media-amazon.com/images/I/31cnnKzaBsL._AC_.jpg', 'average_rating': 4.2, 'rating_number': 3263, 'price': None}, vector=None, shard_key=None, order_value=None),\n",
       " ScoredPoint(id=7, version=2, score=0.53333336, payload={'text': \"zivsivc Wireless Earbuds Bluetooth 5.1 Touch Control Headphones with Built-in Mic,CVC8.0 Noise Cancelling Wireless Earbuds for Gym Waterproof Bluetooth Earphones in-Ear Headse 【PREMIUM STEREO SOUND & BLUETOOTH 5.1】Featured 10mm graphene speakers that produce a crystal clear, realistic quality and vigorous sound effect, enhances voice clarity and lower power consumption. Bluetooth 5.1 on these wireless earbuds provides a fast, stable and latency-free connection, compatible with most Bluetooth-enabled devices such as Android, iPhone cell phones, laptops, tablets and PC etc.【PORTABLE CHARGING CASE & 80H STANDBY】 Comes with 3500mAh charging case with LED power display is more user-friendly, you can directly read the power data and replenish the power of the case in time. This versatile charging case also charges the phone. zivsivc True Wireless earbuds can be fully charged in about 1.5 hour, with a music playtime of about 5 hours and standby for 120 hours. And the case lasts 60 hours for 12 charges, which gives you excellent experience of long endurance.【CLEAR VOICE CALL & TOUCH CONTROL】 Equipped with advanced CVC8.0 noise reduction technology can reduce disruptive background noise, providing natural and clear voice for video chat and calls. Specific touch control function makes it more convenient, just tap the Bluetooth earbuds to play /pause music, change song, answer /end call and wake up Siri. Each of ear bud can be used for mono or binaural mode. You can share good music with family and friends.【COMFORTABLE MINI SPORT EARPHONES & IPX7 WATERPROOF】Extremely lightweight and ergonomic design, one Bluetooth Earphone only weigh 0.13 Oz, provide a secure fit while ensuring fatigue-free ears and long-lasting comfort.Whether you're running or exercising, the wireless earphones will stay securely in your ears. In addition, both earbuds with IPX7 waterproof give you a better experience during indoor and outdoor activities. Ideal for sports, running, jogging and yoga etc.【GUARANTEE RETURN POLICY & PACKAGE】 3 months return policy provided. If for any reason you're not completely satisfied with our wireless bluetooth earbuds, please don't hesitate to contact us. Package content: Earphones, Charging Case, Charging Cable, Ear Tips (S, M, L), User Manual\", 'first_large_image': 'https://m.media-amazon.com/images/I/41BMp6xHs6L._AC_.jpg', 'average_rating': 4.0, 'rating_number': 175, 'price': None}, vector=None, shard_key=None, order_value=None),\n",
       " ScoredPoint(id=46, version=2, score=0.45, payload={'text': 'Wireless Earbud, Bluetooth 5.3 Headphones Bluetooth Earbud, Deep Bass Wireless Earphones in Ear Noise Cancelling Ear Buds 40H Dual Mic Call, USB-C LED Display IP7 Waterproof Headset for Sport-2022 New Bluetooth 5.3 and Effortless Pairing: Adopting advanced Bluetooth V5.3 and dual-channel transmission, wireless earbud support HSP HFP A2DP AVRCP, which offer you an unparalleled audio experience with faster transmission speed, stronger connection stability, and longer range of bluetooth. Taken from the charging case, wireless headphones will be paired with each other automatically, and just hit on bluetooth list i13 on your device to connect, avoiding complex operations and saving waiting time.Stereo Deep Bass and Crystal-Clear Calls: These bluetooth headphones with 13mm graphene speakers and triple-layer composite diaphragms provide powerful bass, stunning treble and clear mids. The built-in mic in each noise cancelling earbud utilizes call noise cancellation to ensure clear and realistic sound. Inward-facing microphone listens inside ear canal to pick up internal sounds and produce anti-noise again to twice cancel the left noise. It will allow you to enjoy high-quality call anytime.Real-Time Dual LED Displays and Type-C Fast Charge: Digital LED display is to show the power level for charging case and wireless earphones. When charging for the case, the LED light will start to flash from 1 to 100. When you put wireless earbud bluetooth into the case, bluetooth headset will start to be charged. Headphones wireless bluetooth can last for 8h playtime from a single charge and 32 extra hours with charging case. Equipped with USB-C cable offers you more quick and stable charging.Ultralight and Comfort Fit: The pocket-sized charging case does not take up any space to carry, and you will not have any stress on wearing Sports earbud. Earbud wireless headphones are designed to fit the contours of the human ear with a curved structure that is same to the shape of the ear canal, making them comfortable to wear and not falling out when running, gym. Waterproof earbud use IP7 nano-coating technology, which can protect internal components from liquids and ensure a longer life.Smart Touch Control, Stereo and Mono Mode: Features with touch control sensors, bluetooth headphones wireless allows you to conveniently power on/off, play/pause, skip songs, answer/hang up, adjust volume and access other functions at the touch of a button. Free your hands completely when you’re busy doing exercise, driving or running. Besides, ear buds earbud bluetooth not only can be worked together for stereo music, but also can be worked independently. Design for business and commute.', 'first_large_image': 'https://m.media-amazon.com/images/I/41wc1WzpnpL._AC_.jpg', 'average_rating': 4.3, 'rating_number': 186, 'price': None}, vector=None, shard_key=None, order_value=None),\n",
       " ScoredPoint(id=47, version=2, score=0.33333334, payload={'text': 'Aisizon Air Conduction Headphones H1, Over Ear Sports Wireless Bluetooth Headphones, Open Ear Headphones Wireless Bluetooth for Runing, Gym Workout, Sports 【Open ear air conduction】： Aisizon H1 air conduction headphones adopts a unique over ear sound cavity design, directional sound waves, so that the rich sound can fully enter the ear from the outside without divergence. The unique pronunciation structure brings hifi-level sound effects: the treble is loud, the midrange is transparent, and the bass is shocking. Avoid putting earplugs in ears, listening to songs and paying attention to external sounds, Improve the safety of outdoor sports.【Extremely Lightweight, Not fall off during sports】: Aisizon H1 open ear headphones Overall 1 oz weight, The whole surface is made of soft skin-friendly material, which perfectly fits the side face, Full-fit memory metal neckband, long wearing without ear pain, this bone conduction earphone is suitable for gym workouts, outdoor running and road cycling listen to music.【HIFI sound effects】: This open ear headphones wireless bluetooth uses a big speaker box, and the unique pronunciation structure brings high-fidelity sound effects: the treble is loud, the midrange is transparent, and the bass is shocking. According to the structure of the ear, the sound is directionally transmitted, so that you can enjoy extremely high-quality music while exercising and doing housework.【Support voice prompts and hands-free calls】Aisizon H1 open ear headphones wireless bluetooth with multi-language voice prompts, you can operate with voice prompts, easily switch between music and calls, and enjoy wireless music without missing any calls.[8 hours of long battery life, easy to operate]: 150mAh large-capacity battery, 80% full in 30 minutes, 65ms low latency, 8 hours of continuous music listening, closed sound cavity design, Bluetooth link can be used, suitable for various devices, simple Operate the buttons so you can move easily throughout the day.', 'first_large_image': 'https://m.media-amazon.com/images/I/41owxMI9h5L._AC_.jpg', 'average_rating': 3.8, 'rating_number': 146, 'price': 29.8}, vector=None, shard_key=None, order_value=None)]"
      ]
     },
     "execution_count": 17,
     "metadata": {},
     "output_type": "execute_result"
    }
   ],
   "source": [
    "retrieve_data(\"earphones\").points"
   ]
  },
  {
   "cell_type": "code",
   "execution_count": null,
   "id": "c19176fa",
   "metadata": {},
   "outputs": [],
   "source": []
  },
  {
   "cell_type": "code",
   "execution_count": 18,
   "id": "67d3d523",
   "metadata": {},
   "outputs": [],
   "source": [
    "import instructor\n",
    "from pydantic import BaseModel\n",
    "from openai import OpenAI"
   ]
  },
  {
   "cell_type": "code",
   "execution_count": 19,
   "id": "9b7fda01",
   "metadata": {},
   "outputs": [],
   "source": [
    "class RAGGenerationResponse(BaseModel): \n",
    "    answer: str\n",
    "\n",
    "client = instructor.from_openai(OpenAI())\n",
    "\n",
    "prompt = \"\"\"\n",
    "You are a helpful assistant.\n",
    "Return an answer to the question.\n",
    "Question: What is your name\n",
    "\"\"\" \n",
    "\n",
    "response, raw_response = client.chat.completions.create_with_completion(\n",
    "    model=\"gpt-4.1\",\n",
    "    response_model=RAGGenerationResponse,\n",
    "    messages=[{\"role\": \"user\", \"content\": prompt}],\n",
    "    temperature=0.5,\n",
    ")"
   ]
  },
  {
   "cell_type": "code",
   "execution_count": 20,
   "id": "d9a4f743",
   "metadata": {},
   "outputs": [
    {
     "data": {
      "text/plain": [
       "RAGGenerationResponse(answer=\"I am an AI assistant created by OpenAI. I don't have a personal name, but you can call me Assistant.\")"
      ]
     },
     "execution_count": 20,
     "metadata": {},
     "output_type": "execute_result"
    }
   ],
   "source": [
    "response"
   ]
  },
  {
   "cell_type": "code",
   "execution_count": 21,
   "id": "fab78602",
   "metadata": {},
   "outputs": [
    {
     "data": {
      "text/plain": [
       "ChatCompletion(id='chatcmpl-C3HQMsnErk6qRQa9CUC2lHXABXwzV', choices=[Choice(finish_reason='stop', index=0, logprobs=None, message=ChatCompletionMessage(content=None, refusal=None, role='assistant', annotations=[], audio=None, function_call=None, tool_calls=[ChatCompletionMessageToolCall(id='call_nxws0LOMSgpvhGdSVSrxGTpB', function=Function(arguments='{\"answer\":\"I am an AI assistant created by OpenAI. I don\\'t have a personal name, but you can call me Assistant.\"}', name='RAGGenerationResponse'), type='function')]))], created=1754897998, model='gpt-4.1-2025-04-14', object='chat.completion', service_tier='default', system_fingerprint='fp_799e4ca3f1', usage=CompletionUsage(completion_tokens=28, prompt_tokens=92, total_tokens=120, completion_tokens_details=CompletionTokensDetails(accepted_prediction_tokens=None, audio_tokens=0, reasoning_tokens=0, rejected_prediction_tokens=None), prompt_tokens_details=PromptTokensDetails(audio_tokens=0, cached_tokens=0)))"
      ]
     },
     "execution_count": 21,
     "metadata": {},
     "output_type": "execute_result"
    }
   ],
   "source": [
    "raw_response"
   ]
  },
  {
   "cell_type": "code",
   "execution_count": null,
   "id": "85e3ccd3",
   "metadata": {},
   "outputs": [],
   "source": []
  },
  {
   "cell_type": "code",
   "execution_count": 22,
   "id": "d23a3d89",
   "metadata": {},
   "outputs": [],
   "source": [
    "import yaml\n",
    "from jinja2 import Template\n",
    "from langsmith import Client\n",
    "\n",
    "ls_client = Client()\n",
    "\n",
    "\n",
    "def prompt_template_config(yaml_file, prompt_key):\n",
    "\n",
    "    with open(yaml_file, \"r\") as f:\n",
    "        config = yaml.safe_load(f)\n",
    "\n",
    "    template_content = config[\"prompts\"][prompt_key]\n",
    "\n",
    "    template = Template(template_content)\n",
    "\n",
    "    return template\n",
    "\n",
    "\n",
    "def prompt_template_registry(prompt_name):\n",
    "\n",
    "    template_content = ls_client.pull_prompt(prompt_name).messages[1].content\n",
    "\n",
    "    template = Template(template_content)\n",
    "\n",
    "    return template"
   ]
  },
  {
   "cell_type": "code",
   "execution_count": 23,
   "id": "9db49253",
   "metadata": {},
   "outputs": [
    {
     "name": "stdout",
     "output_type": "stream",
     "text": [
      "prompt=PromptTemplate(input_variables=['context', 'question'], input_types={}, partial_variables={}, template='Context: {context}\\nQuestion: {question}') additional_kwargs={}\n"
     ]
    }
   ],
   "source": [
    "print(ls_client.pull_prompt('rag-prompt').messages[1])"
   ]
  },
  {
   "cell_type": "markdown",
   "id": "f53e9cb7",
   "metadata": {},
   "source": []
  }
 ],
 "metadata": {
  "kernelspec": {
   "display_name": "ai-engineering-bootcamp-sL1ZxK4x-py3.12",
   "language": "python",
   "name": "python3"
  },
  "language_info": {
   "codemirror_mode": {
    "name": "ipython",
    "version": 3
   },
   "file_extension": ".py",
   "mimetype": "text/x-python",
   "name": "python",
   "nbconvert_exporter": "python",
   "pygments_lexer": "ipython3",
   "version": "3.12.3"
  }
 },
 "nbformat": 4,
 "nbformat_minor": 5
}
