{
 "cells": [
  {
   "cell_type": "code",
   "execution_count": 1,
   "id": "86cbeef3",
   "metadata": {},
   "outputs": [],
   "source": [
    "from langsmith import Client"
   ]
  },
  {
   "cell_type": "markdown",
   "id": "5ad0a463",
   "metadata": {},
   "source": [
    "### Attach feedback to a specific trace_id in LangSmith"
   ]
  },
  {
   "cell_type": "code",
   "execution_count": 2,
   "id": "8fa40c3b",
   "metadata": {},
   "outputs": [],
   "source": [
    "client = Client()"
   ]
  },
  {
   "cell_type": "markdown",
   "id": "322320df",
   "metadata": {},
   "source": [
    "* see LangSmith for run_id and trace_id\n",
    "* we want to add feedback to the top-level parent run. this means run_id == trace_id"
   ]
  },
  {
   "cell_type": "code",
   "execution_count": 4,
   "id": "dc9ed86f",
   "metadata": {},
   "outputs": [
    {
     "data": {
      "text/plain": [
       "Feedback(id=UUID('200cc47d-0b5c-4858-a088-7f06c7e8140f'), created_at=datetime.datetime(2025, 8, 12, 9, 54, 47, 888349, tzinfo=datetime.timezone.utc), modified_at=datetime.datetime(2025, 8, 12, 9, 54, 47, 888349, tzinfo=datetime.timezone.utc), run_id=UUID('acb4c19e-f75b-44b1-9bb4-ca18f57400c5'), trace_id=None, key='feedback', score=0, value=None, comment=None, correction=None, feedback_source=FeedbackSourceBase(type='api', metadata={}, user_id=None, user_name=None), session_id=None, comparative_experiment_id=None, feedback_group_id=None, extra=None)"
      ]
     },
     "execution_count": 4,
     "metadata": {},
     "output_type": "execute_result"
    }
   ],
   "source": [
    "client.create_feedback(\n",
    "    run_id=\"acb4c19e-f75b-44b1-9bb4-ca18f57400c5\",\n",
    "    key=\"feedback\",\n",
    "    score=0,\n",
    "    feddback_source_type=\"api\"\n",
    ")"
   ]
  },
  {
   "cell_type": "code",
   "execution_count": 5,
   "id": "bfb5eae3",
   "metadata": {},
   "outputs": [
    {
     "data": {
      "text/plain": [
       "Feedback(id=UUID('977a4108-4213-4c86-bfe5-536fa247e847'), created_at=datetime.datetime(2025, 8, 12, 9, 56, 28, 874300, tzinfo=datetime.timezone.utc), modified_at=datetime.datetime(2025, 8, 12, 9, 56, 28, 874300, tzinfo=datetime.timezone.utc), run_id=UUID('acb4c19e-f75b-44b1-9bb4-ca18f57400c5'), trace_id=None, key='feedback_1', score=1, value=None, comment=None, correction=None, feedback_source=FeedbackSourceBase(type='api', metadata={}, user_id=None, user_name=None), session_id=None, comparative_experiment_id=None, feedback_group_id=None, extra=None)"
      ]
     },
     "execution_count": 5,
     "metadata": {},
     "output_type": "execute_result"
    }
   ],
   "source": [
    "client.create_feedback(\n",
    "    run_id=\"acb4c19e-f75b-44b1-9bb4-ca18f57400c5\",\n",
    "    key=\"feedback_1\",\n",
    "    score=1,\n",
    "    feddback_source_type=\"api\"\n",
    ")"
   ]
  },
  {
   "cell_type": "markdown",
   "id": "e63dae59",
   "metadata": {},
   "source": [
    "* free form feedback"
   ]
  },
  {
   "cell_type": "code",
   "execution_count": 6,
   "id": "eabe9e17",
   "metadata": {},
   "outputs": [
    {
     "data": {
      "text/plain": [
       "Feedback(id=UUID('1046c2a4-2cc9-43b6-8ef3-8051f6e9427f'), created_at=datetime.datetime(2025, 8, 12, 9, 58, 5, 715278, tzinfo=datetime.timezone.utc), modified_at=datetime.datetime(2025, 8, 12, 9, 58, 5, 715278, tzinfo=datetime.timezone.utc), run_id=UUID('acb4c19e-f75b-44b1-9bb4-ca18f57400c5'), trace_id=None, key='comment', score=None, value='This is a long free form comment.', comment=None, correction=None, feedback_source=FeedbackSourceBase(type='api', metadata={}, user_id=None, user_name=None), session_id=None, comparative_experiment_id=None, feedback_group_id=None, extra=None)"
      ]
     },
     "execution_count": 6,
     "metadata": {},
     "output_type": "execute_result"
    }
   ],
   "source": [
    "client.create_feedback(\n",
    "    run_id=\"acb4c19e-f75b-44b1-9bb4-ca18f57400c5\",\n",
    "    key=\"comment\",\n",
    "    value=\"This is a long free form comment.\",\n",
    "    feddback_source_type=\"api\"\n",
    ")"
   ]
  },
  {
   "cell_type": "code",
   "execution_count": null,
   "id": "e308eb20",
   "metadata": {},
   "outputs": [],
   "source": []
  }
 ],
 "metadata": {
  "kernelspec": {
   "display_name": "ai-engineering-bootcamp-sL1ZxK4x-py3.12",
   "language": "python",
   "name": "python3"
  },
  "language_info": {
   "codemirror_mode": {
    "name": "ipython",
    "version": 3
   },
   "file_extension": ".py",
   "mimetype": "text/x-python",
   "name": "python",
   "nbconvert_exporter": "python",
   "pygments_lexer": "ipython3",
   "version": "3.12.3"
  }
 },
 "nbformat": 4,
 "nbformat_minor": 5
}
