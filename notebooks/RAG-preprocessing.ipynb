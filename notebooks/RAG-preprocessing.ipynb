{
 "cells": [
  {
   "cell_type": "code",
   "execution_count": 1,
   "id": "5340e8a7",
   "metadata": {},
   "outputs": [],
   "source": [
    "from qdrant_client import QdrantClient\n",
    "from qdrant_client.models import Distance, VectorParams, PointStruct\n",
    "\n",
    "import pandas as pd"
   ]
  },
  {
   "cell_type": "code",
   "execution_count": 2,
   "id": "0d79f362",
   "metadata": {},
   "outputs": [
    {
     "data": {
      "text/plain": [
       "True"
      ]
     },
     "execution_count": 2,
     "metadata": {},
     "output_type": "execute_result"
    }
   ],
   "source": [
    "qdrant_client = QdrantClient(\n",
    "    url=\"http://localhost:6333\"\n",
    ")\n",
    "\n",
    "qdrant_client.create_collection(\n",
    "    collection_name=\"Amazon-items-collection-00\",\n",
    "    vectors_config=VectorParams(size=1536, distance=Distance.COSINE))"
   ]
  },
  {
   "cell_type": "code",
   "execution_count": 3,
   "id": "8bfc017c",
   "metadata": {},
   "outputs": [],
   "source": [
    "df_items = pd.read_json('../data/meta_Electronics_2022_2023_with_category_ratings_100_sample_1000.jsonl', lines=True)"
   ]
  },
  {
   "cell_type": "markdown",
   "id": "848329ea",
   "metadata": {},
   "source": [
    "### Concatenate title and featues"
   ]
  },
  {
   "cell_type": "code",
   "execution_count": 4,
   "id": "fd04a12f",
   "metadata": {},
   "outputs": [],
   "source": [
    "def preprocess_data(row):\n",
    "    return f\"{row['title']} {''.join(row['features'])}\""
   ]
  },
  {
   "cell_type": "code",
   "execution_count": 5,
   "id": "6488c1c9",
   "metadata": {},
   "outputs": [],
   "source": [
    "df_items[\"preprocessed_data\"] = df_items.apply(preprocess_data, axis=1)"
   ]
  },
  {
   "cell_type": "code",
   "execution_count": 6,
   "id": "8092b754",
   "metadata": {},
   "outputs": [],
   "source": [
    "# df_items.head(2)"
   ]
  },
  {
   "cell_type": "markdown",
   "id": "7d3fe27c",
   "metadata": {},
   "source": [
    "### Sample 50 items "
   ]
  },
  {
   "cell_type": "code",
   "execution_count": 7,
   "id": "865d895c",
   "metadata": {},
   "outputs": [],
   "source": [
    "df_sample = df_items.sample(50, random_state=42)"
   ]
  },
  {
   "cell_type": "markdown",
   "id": "a5f64161",
   "metadata": {},
   "source": [
    "### Embedding function"
   ]
  },
  {
   "cell_type": "code",
   "execution_count": 8,
   "id": "5e7cbaec",
   "metadata": {},
   "outputs": [],
   "source": [
    "import openai\n",
    "from dotenv import load_dotenv\n",
    "import os\n",
    "\n",
    "load_dotenv()\n",
    "openai.api_key = os.getenv(\"OPEN_AI_KEY\")"
   ]
  },
  {
   "cell_type": "code",
   "execution_count": 9,
   "id": "5b5a6504",
   "metadata": {},
   "outputs": [],
   "source": [
    "def get_embedding(text, model=\"text-embedding-3-small\"):\n",
    "    response = openai.embeddings.create(\n",
    "        input=[text],\n",
    "        model=model\n",
    "    )\n",
    "    return response.data[0].embedding"
   ]
  },
  {
   "cell_type": "markdown",
   "id": "deaec965",
   "metadata": {},
   "source": [
    "### Embed data"
   ]
  },
  {
   "cell_type": "code",
   "execution_count": 10,
   "id": "3ef4fee9",
   "metadata": {},
   "outputs": [],
   "source": [
    "data_to_emded = df_sample[\"preprocessed_data\"].tolist()\n",
    "pointstructs = []\n",
    "for i, data in enumerate(data_to_emded):\n",
    "    embedding = get_embedding(data)\n",
    "    pointstructs.append(\n",
    "        PointStruct(\n",
    "        id=i,\n",
    "        vector=embedding,\n",
    "        payload={\"text\": data}\n",
    "    )\n",
    ")"
   ]
  },
  {
   "cell_type": "code",
   "execution_count": 11,
   "id": "18f96e03",
   "metadata": {},
   "outputs": [],
   "source": [
    "# pointstructs"
   ]
  },
  {
   "cell_type": "markdown",
   "id": "3721fce5",
   "metadata": {},
   "source": [
    "### Write embedded data to Qdrant"
   ]
  },
  {
   "cell_type": "code",
   "execution_count": 12,
   "id": "91f102ee",
   "metadata": {},
   "outputs": [
    {
     "data": {
      "text/plain": [
       "UpdateResult(operation_id=0, status=<UpdateStatus.COMPLETED: 'completed'>)"
      ]
     },
     "execution_count": 12,
     "metadata": {},
     "output_type": "execute_result"
    }
   ],
   "source": [
    "qdrant_client.upsert(\n",
    "    collection_name=\"Amazon-items-collection-00\",\n",
    "    wait=True,\n",
    "    points=pointstructs\n",
    ")"
   ]
  },
  {
   "cell_type": "markdown",
   "id": "efb8def5",
   "metadata": {},
   "source": [
    "### Function for data retrieval"
   ]
  },
  {
   "cell_type": "code",
   "execution_count": 13,
   "id": "baaee933",
   "metadata": {},
   "outputs": [],
   "source": [
    "def retrieve_data(query):\n",
    "    query_embedding = get_embedding(query)\n",
    "    results = qdrant_client.query_points(\n",
    "        collection_name=\"Amazon-items-collection-00\",\n",
    "        query=query_embedding,\n",
    "        limit=10\n",
    "    )\n",
    "    return results"
   ]
  },
  {
   "cell_type": "code",
   "execution_count": 14,
   "id": "e79a3700",
   "metadata": {},
   "outputs": [
    {
     "name": "stdout",
     "output_type": "stream",
     "text": [
      "Qdrant is up!\n"
     ]
    }
   ],
   "source": [
    "try:\n",
    "    qdrant_client.get_collections()\n",
    "    print(\"Qdrant is up!\")\n",
    "except Exception as e:\n",
    "    print(f\"Connection failed: {e}\")"
   ]
  },
  {
   "cell_type": "code",
   "execution_count": 15,
   "id": "f2cd64a8",
   "metadata": {},
   "outputs": [
    {
     "data": {
      "text/plain": [
       "[ScoredPoint(id=11, version=0, score=0.5329136, payload={'text': 'Wireless Earbuds Bluetooth 5.3 Headphones with 4-Mics Clear Call and ENC Noise Cancelling, Bluetooth Earbuds Touch Control Stereo Sound with LED Display, Waterproof Running Headphones for Workout Enjoy Bluetooth 5.3 and Fast Auto Pairing: Latest Bluetooth 5.3 technology achieves lower latency and stronger anti-interference. MD058A true bluetooth headphone offer audio delays much lower than 65ms. Feature reduces the number of disconnections of the ear buds in complex environments(places with many people, such as subways and buses). Adopting hall switch, after the first connection, it will connect with your device as soon as the charging case opens.4-Mic and ENC Call Noise Reduction: Each headset has 2 built-in microphones, equipped with Environmental Noise Reduction (ENC) technology that can suppress 80% of the interfering background noise in the calling environment, intelligently enhances human voicethrough the four microphones, the wireless headphones accurately pickup voice and offer effective noise isolation achieving lossless and clear voice calls between the two parties, making communication more efficient.USB-C Efficient Charge for 25H Impressive Hi-Fi Stereo Music: Supported by a powerful 13mm speaker driver unit and semi-in-ear acoustic structure offers incredible sound quality and crystal clear treble. The charging case quickly charge the android earbuds with USB-C cable, fully charged in an hour. MD058A Bluetooth earphones provide five hours of playback time with one charge and can be extended up to 25 hours by using the portable charging case. You can enjoy your music anytime, anywhere.Touch Control Switch Easily between Single and Double Mode: MD058A wireless earphones can be used as a Single Ear Mode and easily switch between Single Ear Mode and Double Mode during operation. You can touch any either of the two wireless bluetooth earbuds to control the device, such as music switch, volume adjustment, phone calls, voice assistant, etc. No need to adjust through your mobile phone.IP7 Waterproof and Weighting 4g only Ultra-Light Earbuds: The pocket-sized charging case does not take up any space to carry, and offer amazing comfort wearing the 4g ultra-light waterproof earbuds providing a secure fit that snuggles nicely in your ears. The waterproof headphones are equipped with nano-coated waterproof material, which can effectively prevent splash damage caused by sweat and raindrops, especially for sports, workouts, gym.'}, vector=None, shard_key=None, order_value=None),\n",
       " ScoredPoint(id=19, version=0, score=0.5104751, payload={'text': \"Wireless Earbuds,IPX5 Waterproof Bluetooth Earbuds Stereo Earphone, Bluetooth 5.0 in-Ear Earbuds with Wireless Bluetooth Headphone 30H Playtime, for iPhone/Android 【Super-Strong Bluetooth】-This Wireless Bluetooth Earbuds Adopt Professional Chipset And Equipped With Latest Bluetooth 5.0 To ensure Excellent Audio Performance With Fast, Stable And Efficient transmission. Audio is Presented in Ultra-fine Resolution To Reveal details That Ordinary Earphones Are Simply Unable To Achieve.【 Pop-ups connection and range】-The wireless headsets use(pop-ups)industry-leading Bluetooth technology to maintain accurate, distortion-free connectivity within 40 feet (15 meters),They instantly connect to Phone, iPad, Mac, Android etc.smartphones and tablets,Just turn on your phone or your computer's Bluetooth device to connect automatically to the headset.【IPX5 Waterproof and Service】-Our this headsets thanks to a precision-designed casing.can easily resist rain and sweat,and you don’t worry even if it rains saving.If you have any questions or concerns during use. Please contact us and we will respond promptly within 24 hours.Each headset is tested before shipment, So please rest assured to buy!【Lightweight and Comfortable Design】-The wireless earbuds adopting a 35° tilted in-ear,are ultra-lightweight that look and feel it doesn't exist in your ear. Unlike other wireless headphones insert to your ears directly, you can oblique rotate and insert the ear, they will tightly surround your ears without pressure.They fit well into the ears and they are easy to take on and off, you aren't scared of losing them while moving their head too vigorously.【EASILY CHANGE BETWEEN SINGLE AND BINAURAL MODE】Wireless Bluetooth Earbuds have no master earbuds, you are no longer have to wear a fixed earphone for Single Ear Mode and easily switch between Single Ear Mode and Binaural Mode. Meet your use requirements for different occasions.\"}, vector=None, shard_key=None, order_value=None),\n",
       " ScoredPoint(id=23, version=0, score=0.50680697, payload={'text': \"xtremtec Deep Bass Sound True Wireless Earbuds Noise Isolation Bluetooth Headphones with Wireless Charging Case IPX6 Waterproof in-Ear Earphone with Microphones (Peri Violet) BASS SOUND & STEREO QUALITY: With powerful bass stereo sound AAC HD solution, XTREMTEC TWS earbud headphones deliver an immersive sound stage and outstanding clarity of the music. Crystal-clear voice makes the quality of your phone call seems like face-to-face chat.ERGONOMIC EARBUD HEADPHONES: The ear buds themself stay pretty snug as thier extended part that actually tucks into your ear isn't too wide or long so it secures the whole pod in. What's more, pick the right size of soft rubber ends from small/medium/large, they fit more comfy without falling out, just let you listen to music more solidly.WHIRL SURFACE DESIGN: Inspired by a starry sky at night, XTREMTEC starry sky series wireless earbuds released. The unique turbine design and IML printing finish let the Bluetooth earbuds' surface brighten and scratch-resistance. Wear, and to be the focus!(Sakura Pink / Navy Blue / Glacier Grey / Sage Green / Peri Violet, 5 colors Available, find your favor)FAST CHARGING EARBUDS: 1.Talk/Play Time: 3.5 Hours, 2.Fully-Charged Time: less than 1 hours. The charging case of these Bluetooth earbuds support wireless charging and USB Type-C cable charging. The LED indicator on the case will flash to show the charging status, making your charging process becoming convenient.NOISE MASKING EARBUDS: This wireless earbud with ergonomic in-ear design and ideal fit shape creates the best seal for enhanced noise isolation. Instead of ANC technology, Noise Masking will be a future trend for ear pods wireless earbuds.IPX6 WATERPROOF TWS EARBUDS: Sealed with IPX6 rated protection. NOT swimming headphones, but It is suitable for all-weather use. These waterproof ear buds will make an ideal companion while jogging, running, yoga, sports, gym, cycling, etc.\"}, vector=None, shard_key=None, order_value=None),\n",
       " ScoredPoint(id=21, version=0, score=0.50661397, payload={'text': 'Beats by Dr. Dre - Beats Fit Pro True Wireless Noise Cancelling In-Ear Headphones - Sage Gray (Renewed) Flexible, secure-fit wingtips for all-day comfort and stabilityCustom acoustic platform delivers powerful, balanced soundSpatial Audio with dynamic head tracking for immersive music, movies, and gamesTwo distinct listening modes: Active Noise Cancelling and Transparency ModeEnhanced by the Apple H1 chip for Automatic Switching, Audio Sharing (with another pair of Beats headphones or Apple AirPods), and ?Hey Siri?'}, vector=None, shard_key=None, order_value=None),\n",
       " ScoredPoint(id=28, version=0, score=0.42318776, payload={'text': 'Lightning to 3.5mm Adapter, Headphone Adapter for iPhone, [2 Pack]Apple MFi Certified Lightning to Audio Aux Jack Dongle Converter Compatible with iPhone 14 Pro13 12 Pro SE 11 Pro Max X XR XS 8 7,Grey '}, vector=None, shard_key=None, order_value=None),\n",
       " ScoredPoint(id=4, version=0, score=0.35797912, payload={'text': \"Funny Case Compatible with Apple AirPods Pro Anime Cool Kawaii Food Cover Silicone Shell Anti-Fall Cases for AirPods Pro 2019 with The Carabiner for Men Women (AirPods Pro, Cute Shark) Compatibility - This Funny, Anime, and Cool AirPods Pro case is compatible with Apple AirPods Third generation(2019) charging case. It can protective your Apple AirPods Pro.Material - This AirPods Pro waterproof case is made from premium silicone, it can protect your AirPods Pro against bumps, drops and scratches without adding any bulk. The high quality case is shockproof ,dustproof and waterproof, you can clean it just within water if it’s got dirty.Anti Fingerprints - The AirPods Pro silicone cases will absorb a lot of dust and lint after a period of use. The GR-DNEIRF AirPods Pro case is made with a smooth coating process. The soft plastic surface is very smooth, non-sticky Dust, Do not leave fingerprints, do not collect lint and very easy to clean.Full body Protective - The GR-DNEIRF AirPods Pro Shockproof case is made of impact resistant silicone material. there are many style anime design, such as the Cute pig, Cool duck, Shark and Food design outlook will be suitable for men, women. The AirPods Pro silicone heavy cases provides greater protection against drop and shock protection than others.The Best Gift for Your Girls, Families and Friends - This AirPods Pro fashion case is a brand new style and vivid color, very cute and very special, it’s a so good gift chioce to your daughter, wife, friends and families. Valentine's day, Mother's day, Father's day, Birthdays, Christmas, Anniversaries etc, any excuse to gift this Unique Apple AirPods Pro Case is a good one!\"}, vector=None, shard_key=None, order_value=None),\n",
       " ScoredPoint(id=9, version=0, score=0.35689923, payload={'text': 'Laptop Screen Keyboard Earbud Cleaner Kit for Airpods，7-in-1 Electronic Cleaner Set - with Cleaning Pen Brush Spray for Phone iPad Computer Screen/Keyboard/Headphones/Bluetooth Earphones (Light Blue) 【Multi-Purpose Cleaning Kit】2022 Newest Cleaning Supplies Kit with 7 different functions, allows you to clean grease and grime from your computer screen, remove dust and debris from your laptop keyboard, and remove dust and debris from headphones, earphones or camera lenses fingerprints.【7-in-1 Value Pack】All-in-1 Laptop and Earbuds Cleaning Tool, Including Airpod Cleaning Pen with Silicone Clip, Plastic Clip, Flocking Sponge and Brush, Screen Cleaning Solution Spray, High Density Retractable Keyboard Brush with Ultra Microfiber cloth, keychain and soft plush eyeglass cleaning cloth.【Innovative Foldable Cleaning Pen】It is very convenient and quick to clean sticky and tough dirt hidden between cracks and holes in earphones, smartphones, tablets, laptops, keyboards, etc. with plastic clips when using silicone cleaning pens, plus cleaning solution Spray, the cleaning effect is better!【Retractable Brush and Key Remover】Equipped with keycaps for cleaning the keyboard, allowing you to clean the bottom of the keyboard effortlessly by using a simple key puller. The high-density brush is large and sturdy enough to easily clean keyboard crevices, desk tops, and more.【Please note before purchasing】our products may be damaged individually due to the cold weather recently. If you encounter any problems after purchasing, you can contact us in time to solve them. We will try our best to serve every customer. Thank you for your understanding and support!'}, vector=None, shard_key=None, order_value=None),\n",
       " ScoredPoint(id=35, version=0, score=0.34623975, payload={'text': 'LENRUE Portable Bluetooth Speakers, IPX7 Waterproof Wireless Speaker with 20W Stereo Sound, Rich Bass, 20H Playtime, Built-in Mic, Outdoor Speaker for Party Pool Camping 【Excellent Sound Quality】20W Dual high-performance power drivers deliver shocking sound without distortion even at the max volume, bringing you an immersive listening experience, and crystal clear highs. Press the Bass+ button of the bluetooth speaker that booms and projects music that energizes and sings with solid lows at any volume.【IPX7 Waterproof Bluetooth Speaker】LENRUE wireless speakers have designed and provided fully waterproof of highest protection degree of IPX7, just as good outside as it is inside. Take it to the shower, pool, beach, hiking, or park, and you can listen to your music while you and your friends enjoy the sun.【Lightweight & Ultra Portable Speaker】The durable exterior and strap make this speaker ready for just about anything, easy to carry your music to wherever. Hang it from your backpack, from your wrist, or your bike, and the speaker will project the sound down to where you are.【Hands Free Calling】The wireless bluetooth speaker built-in microphone lets you take calls when connected to your phone via Bluetooth, or ask Alexa to set timers, check the news, control your smart home devices, and more.【Incredible Bluetooth V5.0 Technology】LENRUE small bluetooth speakers use advanced antenna design with Bluetooth 5.0, connect your phone, tablet, or laptop from up to 100 feet away, provides more stable signal, faster connection and lower latency. Offer 12-month & Hassle-free 7x24 hours after-sale service.'}, vector=None, shard_key=None, order_value=None),\n",
       " ScoredPoint(id=42, version=0, score=0.26954773, payload={'text': 'COLSUR【2023 Newest Bluetooth Speaker with Digital Alarm Clock, Wireless Charger, FM Clock Radio, Adjustable LED Night Light, Dual Wireless Speakers,2500mAh Battery for Bedroom,Home, Adaptor (Wooden) 【6 IN 1 Multifunctional Alarm Clock Design】- You can get Bluetooth speaker+Digital Alarm Clock+15W Wireless Charger+FM Radio + 4-level adjustable night light + Phone Holder. One item realizes all your desk and bedside needs and makes your messy desktop instantly clean.【2023 Fashionable Appearance for Home Decor 】-COLSUR digital alarm clock made of quality materials with a touch top and fabric wrap round speaker, making it great for bedroom, living room, or kitchen counter. Its exquisite design is definitely a wonderful gift for someone you love.【Adjustable LED Display Digital Alarm Clock】-The LED digital display clock offers 4-levels of brightness (dim, low, medium, and high), making reading the time easy. The alarm clock for bedrooms can adjust volume and has snooze mode, letting you rest assured to sleep.【15W Wireless Charging & 2500mAh Battery Backup】-Intelligent QI charging protocol provides fast and 15W charging for iOS and Android devices. When using the wireless charging function, please plug in the power supply. 2500mAh rechargeable large battery can work for 100 hours for the lamp or 180 hours for the alarm clock.【Powerful Dual Speakers & Bluetooth 5.0】- COLSUR wireless speaker with a thumping volume provides rich bass. Come to a hearing feast exclusively for you. The upgraded Bluetooth 5.0 speaker provides a greater wireless range of 33ft which can connect normally under difficult conditions.'}, vector=None, shard_key=None, order_value=None),\n",
       " ScoredPoint(id=39, version=0, score=0.25253525, payload={'text': \"Kids Bracelet Compatible with AirTag, GPS Kid Tracker Holder Braided Wristband for Apple Air Tag, 2022 Upgraded Nylon Adjustable Anti Lost Airtag Watch Band for Kids Children Elders (White Pink) 【High-Quality】The airtag bracelet for kids is made of high-quality nylon, It is impact resistant, scratch resistant, sweat resistant and washable. Lightweight and breathable, comfortable and durable, gives you super comfortable wearing experience.【Upgrade Design】This upgraded version of the airtag bracelet comes with a special buckle for better freedom of strap length adjustment, hold the AirTag tight on your wrist, never worry about the strap falling from your kid's wrist.【Not Blocking Signal】Does not affect the signal transmission and positioning functions, the protective watchband not only protects your AirTag from drop damage but can also extend its service life, let your AirTag more portable.【Various Styles】These airtag wristband has a variety of styles to better decorate your AirTag, is an indispensable fashion item for your kids, you can choose different styles of wristbands to match your kid new clothes, every day is a different feeling.【Best Airtag Accessory】Package:1Pcs Airtag Watch Band (Note: AirTag is not included). The Air tag bracelets are better air tag accessories for birthday or holiday gifts for family and friends, Great for your kids, boys, girls, teens, etc.\"}, vector=None, shard_key=None, order_value=None)]"
      ]
     },
     "execution_count": 15,
     "metadata": {},
     "output_type": "execute_result"
    }
   ],
   "source": [
    "retrieve_data(\"What earphones can I get?\").points"
   ]
  }
 ],
 "metadata": {
  "kernelspec": {
   "display_name": "ai-engineering-bootcamp-sL1ZxK4x-py3.12",
   "language": "python",
   "name": "python3"
  },
  "language_info": {
   "codemirror_mode": {
    "name": "ipython",
    "version": 3
   },
   "file_extension": ".py",
   "mimetype": "text/x-python",
   "name": "python",
   "nbconvert_exporter": "python",
   "pygments_lexer": "ipython3",
   "version": "3.12.3"
  }
 },
 "nbformat": 4,
 "nbformat_minor": 5
}
