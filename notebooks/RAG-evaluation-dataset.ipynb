{
 "cells": [
  {
   "cell_type": "markdown",
   "id": "3795f0dc",
   "metadata": {},
   "source": [
    "## Create a synthetic dataset for evaluating RAG pipeline"
   ]
  },
  {
   "cell_type": "code",
   "execution_count": 1,
   "id": "498b0494",
   "metadata": {},
   "outputs": [],
   "source": [
    "import pandas as pd\n",
    "from qdrant_client import QdrantClient\n",
    "from qdrant_client.models import Distance, VectorParams, PointStruct"
   ]
  },
  {
   "cell_type": "code",
   "execution_count": 2,
   "id": "46d3c344",
   "metadata": {},
   "outputs": [],
   "source": [
    "import openai\n",
    "from dotenv import load_dotenv\n",
    "import os\n",
    "\n",
    "load_dotenv()\n",
    "openai.api_key = os.getenv(\"OPEN_AI_KEY\")"
   ]
  },
  {
   "cell_type": "code",
   "execution_count": 3,
   "id": "0fe1d341",
   "metadata": {},
   "outputs": [
    {
     "data": {
      "text/plain": [
       "True"
      ]
     },
     "execution_count": 3,
     "metadata": {},
     "output_type": "execute_result"
    }
   ],
   "source": [
    "qdrant_client = QdrantClient(\n",
    "    url=\"http://localhost:6333\"\n",
    ")\n",
    "\n",
    "qdrant_client.create_collection(\n",
    "    collection_name=\"Amazon-items-collection-02\",\n",
    "    vectors_config=VectorParams(size=1536, distance=Distance.COSINE))"
   ]
  },
  {
   "cell_type": "code",
   "execution_count": 4,
   "id": "b50af812",
   "metadata": {},
   "outputs": [],
   "source": [
    "df_items = pd.read_json('../data/meta_Electronics_2022_2023_with_category_ratings_100_sample_1000.jsonl', lines=True)"
   ]
  },
  {
   "cell_type": "code",
   "execution_count": 5,
   "id": "5afd5ab6",
   "metadata": {},
   "outputs": [],
   "source": [
    "def preprocess_data(row):\n",
    "    return f\"{row['title']} {''.join(row['features'])}\""
   ]
  },
  {
   "cell_type": "code",
   "execution_count": 6,
   "id": "071f8549",
   "metadata": {},
   "outputs": [],
   "source": [
    "df_items[\"preprocessed_data\"] = df_items.apply(preprocess_data, axis=1)"
   ]
  },
  {
   "cell_type": "code",
   "execution_count": 7,
   "id": "13b552cb",
   "metadata": {},
   "outputs": [],
   "source": [
    "df_sample = df_items.sample(50, random_state=25)"
   ]
  },
  {
   "cell_type": "code",
   "execution_count": 8,
   "id": "c3096177",
   "metadata": {},
   "outputs": [],
   "source": [
    "def get_embedding(text, model=\"text-embedding-3-small\"):\n",
    "    response = openai.embeddings.create(\n",
    "        input=[text],\n",
    "        model=model\n",
    "    )\n",
    "    return response.data[0].embedding"
   ]
  },
  {
   "cell_type": "code",
   "execution_count": 9,
   "id": "93d69fec",
   "metadata": {},
   "outputs": [],
   "source": [
    "data_to_emded = df_sample[\"preprocessed_data\"].tolist()\n",
    "pointstructs = []\n",
    "for i, data in enumerate(data_to_emded):\n",
    "    embedding = get_embedding(data)\n",
    "    pointstructs.append(\n",
    "        PointStruct(\n",
    "        id=i,\n",
    "        vector=embedding,\n",
    "        payload={\"text\": data}\n",
    "    )\n",
    ")"
   ]
  },
  {
   "cell_type": "code",
   "execution_count": 10,
   "id": "21b5a991",
   "metadata": {},
   "outputs": [
    {
     "data": {
      "text/plain": [
       "UpdateResult(operation_id=0, status=<UpdateStatus.COMPLETED: 'completed'>)"
      ]
     },
     "execution_count": 10,
     "metadata": {},
     "output_type": "execute_result"
    }
   ],
   "source": [
    "qdrant_client.upsert(\n",
    "    collection_name=\"Amazon-items-collection-02\",\n",
    "    wait=True,\n",
    "    points=pointstructs,\n",
    ")"
   ]
  },
  {
   "cell_type": "markdown",
   "id": "33f014ac",
   "metadata": {},
   "source": [
    "### Render a prompt to generate synthetic Eval reference dataset"
   ]
  },
  {
   "cell_type": "code",
   "execution_count": 11,
   "id": "82537b79",
   "metadata": {},
   "outputs": [],
   "source": [
    "import json\n",
    "\n",
    "output_schema = {\n",
    "    \"type\": \"array\",\n",
    "    \"items\": {\n",
    "        \"type\": \"object\",\n",
    "        \"properties\": {\n",
    "            \"question\": {\n",
    "                \"type\": \"string\",\n",
    "                \"description\": \"Suggested question.\",\n",
    "            },\n",
    "            \"chunk_ids\": {\n",
    "                \"type\": \"array\",\n",
    "                \"items\": {\n",
    "                    \"type\": \"integer\",\n",
    "                    \"description\": \"Index of the chunk that could be used to answer the question.\",\n",
    "                },\n",
    "            },\n",
    "            \"answer_example\": {\n",
    "                \"type\": \"string\",\n",
    "                \"description\": \"Suggested answer grounded in the contexr.\",\n",
    "            },\n",
    "            \"reasoning\": {\n",
    "                \"type\": \"string\",\n",
    "                \"description\": \"Reasoning why the question could be answered with the chunks.\",\n",
    "            },\n",
    "        },\n",
    "    },\n",
    "}\n",
    "\n",
    "\n",
    "SYSTEM_PROMPT = f\"\"\"\n",
    "I am building a RAG application. I have a collection of 50 chunks of text.\n",
    "The RAG application will act as a shopping assistant that can answer questions about the stock of the products we have available.\n",
    "I will provide all of the available products to you with indexes of each chunk.\n",
    "I want you to come up with 30 questions to which the answers could be grounded in the chunk context.\n",
    "As an output I need you to provide me the list of questions and the indexes of the chunks that could be used to answer them.\n",
    "Also, provide an example answer to the question given the context of the chunks.\n",
    "Also, provide the reason why you chose the chunks to answer the questions.\n",
    "Try to have a mix of questions that could use multipple chunks and questions that could use single chunk.\n",
    "Also, include 5 questions that can't be answered with the available chunks.\n",
    "\n",
    "\n",
    "{json.dumps(output_schema, indent=2)}\n",
    "\n",
    "\n",
    "I need to be able to parse the json output.\n",
    "\"\"\"\n",
    "\n",
    "USER_PROMPT = f\"\"\"\n",
    "Here is the list of chunks, each list element is a dictionary with id and text:\n",
    "{[{\"id\": i, \"text\": data} for i, data in enumerate(data_to_emded)]}\n",
    "\"\"\""
   ]
  },
  {
   "cell_type": "code",
   "execution_count": 12,
   "id": "0577f47f",
   "metadata": {},
   "outputs": [],
   "source": [
    "response = openai.chat.completions.create(\n",
    "    model=\"gpt-4.1\",  \n",
    "    messages=[\n",
    "        {\"role\": \"system\", \"content\": SYSTEM_PROMPT},\n",
    "        {\"role\": \"user\", \"content\": USER_PROMPT},\n",
    "    ]\n",
    ")"
   ]
  },
  {
   "cell_type": "markdown",
   "id": "00689d67",
   "metadata": {},
   "source": [
    "### Clen the output"
   ]
  },
  {
   "cell_type": "code",
   "execution_count": 13,
   "id": "93162c4e",
   "metadata": {},
   "outputs": [],
   "source": [
    "json_output = response.choices[0].message.content\n",
    "json_output = json_output.replace(\"```json\", \"\")\n",
    "json_output = json_output.replace(\"```\", \"\")\n",
    "json_output = json_output.replace(\"// BEGIN UNANSWERABLE QUESTIONS SECTION (5)\", \"\")\n",
    "json_output = json.loads(json_output)"
   ]
  },
  {
   "cell_type": "code",
   "execution_count": 14,
   "id": "4abcfeec",
   "metadata": {},
   "outputs": [
    {
     "data": {
      "text/plain": [
       "[{'question': 'Do you have any projectors with 4K resolution in stock?',\n",
       "  'chunk_ids': [0, 42],\n",
       "  'answer_example': 'Yes, we have two options: the Dangbei Mars Pro 4K Projector with HDR10 home theater capabilities and the CIBEST Full-Sealed Optical Engine Home Movie FHD Projector, which supports 4K output.',\n",
       "  'reasoning': 'Chunk 0 provides details about the Dangbei Mars Pro 4K projector, and chunk 42 describes the CIBEST projector with 4K support.'},\n",
       " {'question': 'Which wireless earbuds do you have that are waterproof and suitable for sports?',\n",
       "  'chunk_ids': [6, 7, 26, 46, 47],\n",
       "  'answer_example': 'We have several options for waterproof wireless earbuds suitable for sports, including the WeurGhy Wireless Earbuds (IPX7), zivsivc Wireless Earbuds (IPX7), a set of 50H Playtime Over Ear Buds with Noise Cancelling (IP7), Bluetooth 5.3 headphones with IP7 rating, and the Aisizon Air Conduction Over Ear Sports Wireless Bluetooth Headphones.',\n",
       "  'reasoning': 'These chunks describe wireless earbuds with waterproof ratings and features suitable for sports, as indicated by their categories, IP ratings, and sports-related design.'},\n",
       " {'question': 'Can you tell me about your available phone charger cables for iPhone?',\n",
       "  'chunk_ids': [16, 34],\n",
       "  'answer_example': 'We have a 2-pack USB C to Lightning Cable (MFi Certified) suitable for fast charging iPhones, and the MJEMS 66W Multi Charging Cable, a 3-in-1 cable that includes a Lightning connector compatible with iPhones.',\n",
       "  'reasoning': 'Chunk 16 details certified Lightning charger cables, and chunk 34 lists a multi-USB cable that includes a Lightning connection for iPhones.'},\n",
       " {'question': 'Do you have wireless keyboard and mouse combos?',\n",
       "  'chunk_ids': [12, 23],\n",
       "  'answer_example': 'Yes, we offer two options: a full-size wireless keyboard and mouse combo with number pad, and a compact quiet wireless keyboard and mouse set in ultra-thin design.',\n",
       "  'reasoning': 'Both chunks 12 and 23 list wireless keyboard and mouse combos, covering both full-size and compact options.'},\n",
       " {'question': 'Are there any smartwatches that can make and answer phone calls?',\n",
       "  'chunk_ids': [15],\n",
       "  'answer_example': 'Yes, we have a 1.9 Inch Smartwatch that allows you to answer and make calls directly from the watch.',\n",
       "  'reasoning': 'Chunk 15 specifically details calling functionality on the smartwatch.'},\n",
       " {'question': 'What types of laptop protection cases do you offer?',\n",
       "  'chunk_ids': [11, 17],\n",
       "  'answer_example': 'We have cases for the MacBook Air 13 inch, including a hard shell with keyboard cover, and a sparkly hard shell case with keyboard cover, plus screen protector for the MacBook Pro 13 inch.',\n",
       "  'reasoning': 'Chunks 11 and 17 both describe laptop protective cases for different MacBook models.'},\n",
       " {'question': 'Which portable monitors are available for travel and gaming?',\n",
       "  'chunk_ids': [10],\n",
       "  'answer_example': 'The CUIUIC Portable Touchscreen Monitor is available, featuring a slim, lightweight design for travel and multiple display modes for gaming.',\n",
       "  'reasoning': 'Chunk 10 describes in detail a portable monitor suited for travel and gaming applications.'},\n",
       " {'question': 'Do you have any accessories for AirPods or AirPods Pro?',\n",
       "  'chunk_ids': [3, 5],\n",
       "  'answer_example': 'Yes, we have Maxjoy Airpods Pro 2 cases with stylish patterns, and FREEOL 7-in-1 Airpods 2 & 1 silicone case sets with cartoon designs.',\n",
       "  'reasoning': 'Chunks 3 and 5 cover AirPods and AirPods Pro cases, providing several accessory options.'},\n",
       " {'question': 'Are there any external storage solutions like hard drives?',\n",
       "  'chunk_ids': [21],\n",
       "  'answer_example': 'We have the UnionSine 500GB Ultra Slim Portable External Hard Drive, compatible with PCs, Macs, and gaming consoles.',\n",
       "  'reasoning': 'Chunk 21 is about a portable external hard drive.'},\n",
       " {'question': 'What options do you have for extension cords or power strips with USB ports?',\n",
       "  'chunk_ids': [25, 30, 44],\n",
       "  'answer_example': 'We offer a 15ft flat plug extension cord with 6 outlets and 4 USB ports, an 11-in-1 wall outlet extender with USB C, and a surge protector power strip with 8 outlets and 4 USB ports.',\n",
       "  'reasoning': 'Chunks 25, 30, and 44 all detail extension cords or power strips that include USB ports.'},\n",
       " {'question': 'Which item can help extend the WiFi coverage in my home?',\n",
       "  'chunk_ids': [19, 32],\n",
       "  'answer_example': 'To extend WiFi coverage, you can choose between the WiFi Extender Booster Repeater and the Tenda A33 AX3000 WiFi 6 Extender for improved coverage and speed.',\n",
       "  'reasoning': 'Chunks 19 and 32 both discuss WiFi extenders.'},\n",
       " {'question': \"What children's headphones with volume limitation are available?\",\n",
       "  'chunk_ids': [18],\n",
       "  'answer_example': 'We offer Kids Bluetooth Headphones with LED lights and 85dB/94dB volume limit, suitable for children.',\n",
       "  'reasoning': 'Chunk 18 describes kids headphones with volume limit for hearing safety.'},\n",
       " {'question': 'Are there any TV antennas for local channel reception?',\n",
       "  'chunk_ids': [33, 36],\n",
       "  'answer_example': 'Yes, we have the TV Antenna Amplified HD Indoor Digital HDTV Antenna with 320+ mile range, and the Antier Amplified Indoor/Outdoor Digital TV Antenna supporting up to 275+ miles.',\n",
       "  'reasoning': 'Chunks 33 and 36 both offer TV antennas for local channel reception.'},\n",
       " {'question': 'Do you offer items that help with laptop privacy?',\n",
       "  'chunk_ids': [22],\n",
       "  'answer_example': 'Yes, we carry a magnetic iPad 10.2 privacy screen protector that reduces glare and keeps your information safe from side view.',\n",
       "  'reasoning': 'Chunk 22 details a privacy screen protector for iPads.'},\n",
       " {'question': 'What digital media playback devices do you have?',\n",
       "  'chunk_ids': [4, 24, 38],\n",
       "  'answer_example': 'We offer the Mediasonic HomeWorx ATSC Digital Converter Box, KLIM Boombox B4 CD Player (with radio, Bluetooth, and USB playback), and the ieGeek 17.5\" Portable DVD Player.',\n",
       "  'reasoning': 'Chunks 4, 24, and 38 bring up digital converter, CD player, and portable DVD player for media playback.'},\n",
       " {'question': 'Is there a case compatible with the latest iPad 10th generation?',\n",
       "  'chunk_ids': [31],\n",
       "  'answer_example': 'Yes, the ESR Trifold Smart Case is compatible with the iPad 10th Generation (2022), offering protection and a convenient stand.',\n",
       "  'reasoning': 'Chunk 31 details a specific iPad 10th Generation case.'},\n",
       " {'question': 'What fast car charging or dash camera accessories do you have?',\n",
       "  'chunk_ids': [45],\n",
       "  'answer_example': 'Our 4K Dual Dash Cam has built-in GPS, IR Night Vision, and supports up to 256GB memory cards for advanced vehicle monitoring.',\n",
       "  'reasoning': 'Chunk 45 details a dash camera with multiple features.'},\n",
       " {'question': 'Do you have any 8K or high-speed HDMI cables?',\n",
       "  'chunk_ids': [40],\n",
       "  'answer_example': 'Yes, the YIWENTEC USB Type-C to HDMI 8K 2.1 Cable supports 8K@60Hz and 4K@120Hz video output for compatible devices.',\n",
       "  'reasoning': 'Chunk 40 provides information on an 8K HDMI cable.'},\n",
       " {'question': 'Which wireless devices do you have for home or office cooling?',\n",
       "  'chunk_ids': [43],\n",
       "  'answer_example': 'The DGZ USB Desk Fan is a portable mini fan with 3 adjustable speeds for strong cooling in home or office settings.',\n",
       "  'reasoning': 'Chunk 43 offers a solution for cooling with a portable USB fan.'},\n",
       " {'question': 'Are there any special filters or lens accessories for drones?',\n",
       "  'chunk_ids': [8],\n",
       "  'answer_example': 'Yes, we carry the NEEWER ND Filter Set compatible with DJI Mini 3/Mini 3 Pro, including CPL and several ND filters.',\n",
       "  'reasoning': 'Chunk 8 covers a complete ND filter set for drone cameras.'},\n",
       " {'question': 'Do you have any universal remote controls for TVs?',\n",
       "  'chunk_ids': [37],\n",
       "  'answer_example': 'Yes, the VEPRAG Universal Remote Control is compatible with Insignia and Toshiba TVs and features shortcut buttons for streaming apps.',\n",
       "  'reasoning': 'Chunk 37 specifically details a universal remote control.'},\n",
       " {'question': 'Are there car play or wireless Android Auto accessories in your stock?',\n",
       "  'chunk_ids': [9, 27],\n",
       "  'answer_example': 'Yes, we have the DriveLink Portable Car Play Screen, supporting wireless Apple CarPlay and Android Auto, and the Schmidt Spiele Wireless CarPlay Adapter for cars with built-in CarPlay.',\n",
       "  'reasoning': 'Chunks 9 and 27 both list CarPlay and Android Auto compatible accessories.'},\n",
       " {'question': 'Do you offer anything for desk or conference room lighting?',\n",
       "  'chunk_ids': [14],\n",
       "  'answer_example': 'Yes, we have the Sensyne Desktop Ring Light, designed for video conferences and online meetings, with adjustable color temperatures.',\n",
       "  'reasoning': 'Chunk 14 describes a ring light for video conferencing and desk lighting.'},\n",
       " {'question': 'Are there any computer cases with built-in fans available?',\n",
       "  'chunk_ids': [28],\n",
       "  'answer_example': 'The KEDIERS PC Case comes with 9 pre-installed ARGB fans for advanced cooling and customizable lighting.',\n",
       "  'reasoning': 'Chunk 28 is about a PC case with multiple built-in fans.'},\n",
       " {'question': 'I need replacement wristbands for a Fitbit Charge 5, do you stock those?',\n",
       "  'chunk_ids': [41],\n",
       "  'answer_example': 'Yes, the Maledan 6 Pack Stretchy Solo Loop is available as a replacement strap for Fitbit Charge 5.',\n",
       "  'reasoning': 'Chunk 41 describes replacement wristbands for Fitbit Charge 5.'},\n",
       " {'question': 'Which surge protectors do you carry that support USB C charging?',\n",
       "  'chunk_ids': [30, 44],\n",
       "  'answer_example': 'We offer multi-plug outlet extenders and surge protector power strips with USB C ports, capable of charging your devices quickly and safely.',\n",
       "  'reasoning': 'Chunks 30 and 44 mention surge protectors with USB C support.'},\n",
       " {'question': 'Do you have any HDMI wireless transmitter and receiver kits?',\n",
       "  'chunk_ids': [48],\n",
       "  'answer_example': \"Yes, there's the TIMBOOTECH Wireless HDMI Transmitter and Receiver 4K kit for wireless streaming to TVs and projectors.\",\n",
       "  'reasoning': 'Chunk 48 lists such a wireless HDMI kit.'},\n",
       " {'question': 'Are there replacement telephone extension cords for landline phones?',\n",
       "  'chunk_ids': [2],\n",
       "  'answer_example': 'Yes, we have the SINCODA 3 Pack 8ft Phone Telephone Extension Cord Cable suitable for landline telephones and office equipment.',\n",
       "  'reasoning': 'Chunk 2 covers telephone extension cords.'},\n",
       " {'question': 'Can you show me fans for laptops or mini PCs?',\n",
       "  'chunk_ids': [49],\n",
       "  'answer_example': 'Yes, the Cooling Fan Heat Dissipation Base Frame for Mac Mini provides adjustable, silent cooling for mini PCs.',\n",
       "  'reasoning': 'Chunk 49 is a cooling fan for Mac Mini and other mini PCs.'},\n",
       " {'question': 'Do you have any items for creating digital photo displays at home?',\n",
       "  'chunk_ids': [35],\n",
       "  'answer_example': 'We offer the Smart Digital Photo Frame, which has WiFi, a touch screen, auto-rotate, and can be wall-mounted to create a home display.',\n",
       "  'reasoning': 'Chunk 35 details a digital photo frame with various features.'},\n",
       " {'question': 'Are there any products that offer voice-controlled personal assistants?',\n",
       "  'chunk_ids': [],\n",
       "  'answer_example': 'Sorry, we currently do not have any products with built-in voice-controlled personal assistants.',\n",
       "  'reasoning': 'None of the chunks reference standalone voice-controlled personal assistant devices.'},\n",
       " {'question': 'Do you have any smart refrigerators or kitchen appliances in your stock?',\n",
       "  'chunk_ids': [],\n",
       "  'answer_example': \"We don't carry smart refrigerators or kitchen appliances at this time.\",\n",
       "  'reasoning': 'No smart refrigerators or related appliances are described in the chunks.'},\n",
       " {'question': 'Are there any e-book readers or tablets for purchase?',\n",
       "  'chunk_ids': [],\n",
       "  'answer_example': 'We currently do not offer e-book readers or tablets.',\n",
       "  'reasoning': 'No chunks reference e-book readers or stand-alone tablets.'},\n",
       " {'question': 'Can I buy any fitness equipment like treadmills or exercise bikes here?',\n",
       "  'chunk_ids': [],\n",
       "  'answer_example': 'No, we do not have fitness equipment such as treadmills or exercise bikes in our available stock.',\n",
       "  'reasoning': 'There are no chunks on fitness equipment.'},\n",
       " {'question': 'Are there any acoustic guitars for sale in your inventory?',\n",
       "  'chunk_ids': [],\n",
       "  'answer_example': 'Unfortunately, we currently do not have any acoustic guitars for sale.',\n",
       "  'reasoning': 'No musical instruments or acoustic guitars are mentioned in the product chunks.'}]"
      ]
     },
     "execution_count": 14,
     "metadata": {},
     "output_type": "execute_result"
    }
   ],
   "source": [
    "json_output"
   ]
  },
  {
   "cell_type": "markdown",
   "id": "c04c519e",
   "metadata": {},
   "source": [
    "### Upload the dataset to LangSmith"
   ]
  },
  {
   "cell_type": "code",
   "execution_count": 15,
   "id": "98b9fcd7",
   "metadata": {},
   "outputs": [],
   "source": [
    "from langsmith import Client\n",
    "\n",
    "client = Client(api_key=os.environ[\"LANGSMITH_API_KEY\"])\n",
    "\n",
    "dataset_name = \"rag-evaluation-dataset\"\n",
    "dataset = client.create_dataset(\n",
    "    dataset_name=dataset_name,\n",
    "    description=\"Dataset for evaluating RAG pipeline\"\n",
    ")"
   ]
  },
  {
   "cell_type": "code",
   "execution_count": 16,
   "id": "95931527",
   "metadata": {},
   "outputs": [],
   "source": [
    "for item in json_output:\n",
    "    client.create_example(\n",
    "        dataset_id=dataset.id,\n",
    "        inputs={\"question\": item[\"question\"]},\n",
    "        outputs={\n",
    "            \"ground_truth\": item[\"answer_example\"],\n",
    "            \"context_ids\": item[\"chunk_ids\"],\n",
    "            \"contexts\": [qdrant_client.retrieve(collection_name=\"Amazon-items-collection-02\", ids=[id], with_payload=True)[0].payload[\"text\"] for id in item[\"chunk_ids\"]]\n",
    "        }\n",
    "    )"
   ]
  }
 ],
 "metadata": {
  "kernelspec": {
   "display_name": "ai-engineering-bootcamp-sL1ZxK4x-py3.12",
   "language": "python",
   "name": "python3"
  },
  "language_info": {
   "codemirror_mode": {
    "name": "ipython",
    "version": 3
   },
   "file_extension": ".py",
   "mimetype": "text/x-python",
   "name": "python",
   "nbconvert_exporter": "python",
   "pygments_lexer": "ipython3",
   "version": "3.12.3"
  }
 },
 "nbformat": 4,
 "nbformat_minor": 5
}
