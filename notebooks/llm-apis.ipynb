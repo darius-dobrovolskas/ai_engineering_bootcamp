{
 "cells": [
  {
   "cell_type": "code",
   "execution_count": 1,
   "id": "20319900",
   "metadata": {},
   "outputs": [],
   "source": [
    "from dotenv import load_dotenv\n",
    "import openai\n",
    "import os\n",
    "\n",
    "load_dotenv()  # Loads variables from .env into environment\n",
    "\n",
    "api_key = os.getenv(\"OPENAI_API_KEY\")\n",
    "if not api_key: \n",
    "    # promt the user to enter the API key\n",
    "    api_key = input(\"Please enter your OpenAI API key: \").strip()\n",
    "    os.environ[\"OPENAI_API_KEY\"] = api_key \n",
    "    if not api_key:\n",
    "        raise EnvironmentError(\"OpenAI API key is required.\")"
   ]
  },
  {
   "cell_type": "code",
   "execution_count": 1,
   "id": "be34c1f8",
   "metadata": {},
   "outputs": [],
   "source": [
    "from dotenv import load_dotenv\n",
    "import os\n",
    "\n",
    "load_dotenv()  # Loads variables from .env into environment\n",
    "api_key = os.getenv(\"OPENAI_API_KEY\")"
   ]
  },
  {
   "cell_type": "code",
   "execution_count": 2,
   "id": "698c1061",
   "metadata": {},
   "outputs": [
    {
     "name": "stdout",
     "output_type": "stream",
     "text": [
      "As of October 2021, here is a list of the capitals of the countries in the European Union:\n",
      "\n",
      "1. Austria - Vienna\n",
      "2. Belgium - Brussels\n",
      "3. Bulgaria - Sofia\n",
      "4. Croatia - Zagreb\n",
      "5. Cyprus - Nicosia\n",
      "6. Czech Republic - Prague\n",
      "7. Denmark - Copenhagen\n",
      "8. Estonia - Tallinn\n",
      "9. Finland - Helsinki\n",
      "10. France - Paris\n",
      "11. Germany - Berlin\n",
      "12. Greece - Athens\n",
      "13. Hungary - Budapest\n",
      "14. Ireland - Dublin\n",
      "15. Italy - Rome\n",
      "16. Latvia - Riga\n",
      "17. Lithuania - Vilnius\n",
      "18. Luxembourg - Luxembourg City\n",
      "19. Malta - Valletta\n",
      "20. Netherlands - Amsterdam\n",
      "21. Poland - Warsaw\n",
      "22. Portugal - Lisbon\n",
      "23. Romania - Bucharest\n",
      "24. Slovakia - Bratislava\n",
      "25. Slovenia - Ljubljana\n",
      "26. Spain - Madrid\n",
      "27. Sweden - Stockholm\n",
      "\n",
      "Please verify with the most current sources, as circumstances may change.\n"
     ]
    }
   ],
   "source": [
    "response = openai.chat.completions.create(\n",
    "    model=\"gpt-4o-mini\",  \n",
    "    messages=[\n",
    "        {\"role\": \"system\", \"content\": \"You are a helpful assistant.\"},\n",
    "        {\"role\": \"user\", \"content\": \"Tell me all capitals of countries in European Union?\"},\n",
    "    ]\n",
    ")\n",
    "print(response.choices[0].message.content)"
   ]
  },
  {
   "cell_type": "code",
   "execution_count": 8,
   "id": "3cfda91e",
   "metadata": {},
   "outputs": [],
   "source": [
    "from dotenv import load_dotenv\n",
    "import os\n",
    "\n",
    "load_dotenv()  # Loads variables from .env into environment\n",
    "\n",
    "api_key = os.getenv(\"GOOGLE_API_KEY\")\n",
    "if not api_key: \n",
    "    # promt the user to enter the API key\n",
    "    api_key = input(\"Please enter your GOOGLE API key: \").strip()\n",
    "    os.environ[\"GOOGLE_API_KEY\"] = api_key \n",
    "    if not api_key:\n",
    "        raise EnvironmentError(\"GOOGLE API key is required.\")"
   ]
  },
  {
   "cell_type": "code",
   "execution_count": 11,
   "id": "f1ac93c9",
   "metadata": {},
   "outputs": [
    {
     "name": "stdout",
     "output_type": "stream",
     "text": [
      "Okay, here is a list of all the capital cities of the countries that are currently members of the European Union:\n",
      "\n",
      "*   **Austria:** Vienna\n",
      "*   **Belgium:** Brussels\n",
      "*   **Bulgaria:** Sofia\n",
      "*   **Croatia:** Zagreb\n",
      "*   **Cyprus:** Nicosia\n",
      "*   **Czech Republic:** Prague\n",
      "*   **Denmark:** Copenhagen\n",
      "*   **Estonia:** Tallinn\n",
      "*   **Finland:** Helsinki\n",
      "*   **France:** Paris\n",
      "*   **Germany:** Berlin\n",
      "*   **Greece:** Athens\n",
      "*   **Hungary:** Budapest\n",
      "*   **Ireland:** Dublin\n",
      "*   **Italy:** Rome\n",
      "*   **Latvia:** Riga\n",
      "*   **Lithuania:** Vilnius\n",
      "*   **Luxembourg:** Luxembourg City\n",
      "*   **Malta:** Valletta\n",
      "*   **Netherlands:** Amsterdam\n",
      "*   **Poland:** Warsaw\n",
      "*   **Portugal:** Lisbon\n",
      "*   **Romania:** Bucharest\n",
      "*   **Slovakia:** Bratislava\n",
      "*   **Slovenia:** Ljubljana\n",
      "*   **Spain:** Madrid\n",
      "*   **Sweden:** Stockholm\n"
     ]
    }
   ],
   "source": [
    "from google import genai\n",
    "\n",
    "gemini_client = genai.Client(api_key=api_key)\n",
    "\n",
    "response = gemini_client.models.generate_content(\n",
    "    model=\"gemini-2.0-flash\",     \n",
    "    contents=[\"You are a helpful assistant.\"\n",
    "              \"Tell me all capitals of countries in European Union?\"]\n",
    ")\n",
    "print(response.text)\n"
   ]
  },
  {
   "cell_type": "code",
   "execution_count": 12,
   "id": "06bcb72a",
   "metadata": {},
   "outputs": [],
   "source": [
    "from dotenv import load_dotenv\n",
    "import os\n",
    "\n",
    "load_dotenv()  # Loads variables from .env into environment\n",
    "\n",
    "api_key = os.getenv(\"GROQ_API_KEY\")\n",
    "if not api_key: \n",
    "    # promt the user to enter the API key\n",
    "    api_key = input(\"Please enter your GROQ API key: \").strip()\n",
    "    os.environ[\"GROQ_API_KEY\"] = api_key \n",
    "    if not api_key:\n",
    "        raise EnvironmentError(\"GROQ API key is required.\")"
   ]
  },
  {
   "cell_type": "code",
   "execution_count": 13,
   "id": "0c0484cb",
   "metadata": {},
   "outputs": [
    {
     "name": "stdout",
     "output_type": "stream",
     "text": [
      "HERE ARE THE CAPITALS OF COUNTRIES IN THE EUROPEAN UNION:\n",
      "\n",
      "1. AUSTRIA - VIENNA\n",
      "2. BELGIUM - BRUSSELS\n",
      "3. BULGARIA - SOFIA\n",
      "4. CROATIA - ZAGREB\n",
      "5. CYPRUS - NICOSIA\n",
      "6. CZECH REPUBLIC - PRAGUE\n",
      "7. DENMARK - COPENHAGEN\n",
      "8. ESTONIA - TALLINN\n",
      "9. FINLAND - HELSINKI\n",
      "10. FRANCE - PARIS\n",
      "11. GERMANY - BERLIN\n",
      "12. GREECE - ATHENS\n",
      "13. HUNGARY - BUDAPEST\n",
      "14. IRELAND - DUBLIN\n",
      "15. ITALY - ROME\n",
      "16. LATVIA - RIGA\n",
      "17. LITHUANIA - VILNIUS\n",
      "18. LUXEMBOURG - LUXEMBOURG\n",
      "19. MALTA - VALLETTA\n",
      "20. NETHERLANDS - AMSTERDAM\n",
      "21. POLAND - WARSAW\n",
      "22. PORTUGAL - LISBON\n",
      "23. ROMANIA - BUCHAREST\n",
      "24. SLOVAKIA - BRATISLAVA\n",
      "25. SLOVENIA - LJUBLJANA\n",
      "26. SPAIN - MADRID\n",
      "27. SWEDEN - STOCKHOLM\n",
      "\n",
      "NOTE: THE UNITED KINGDOM LEFT THE EUROPEAN UNION IN 2020, SO LONDON IS NO LONGER AN EU CAPITAL.\n",
      "\n",
      "PLEASE LET ME KNOW IF YOU HAVE ANY OTHER QUESTIONS.\n"
     ]
    }
   ],
   "source": [
    "import os\n",
    "from groq import Groq\n",
    "\n",
    "client = Groq(api_key=api_key)\n",
    "\n",
    "chat_completion = client.chat.completions.create(\n",
    "    messages=[\n",
    "        {\"role\": \"system\", \"content\": \"You are a helpful assistant.\"},\n",
    "        {\"role\": \"user\", \"content\": \"Tell me all capitals of countries in European Union?\"},\n",
    "    ],\n",
    "    model=\"llama-3.3-70b-versatile\",\n",
    ")\n",
    "\n",
    "print(chat_completion.choices[0].message.content)"
   ]
  },
  {
   "cell_type": "code",
   "execution_count": null,
   "id": "a353b9a1",
   "metadata": {},
   "outputs": [],
   "source": []
  }
 ],
 "metadata": {
  "kernelspec": {
   "display_name": "ai-engineering-bootcamp-sL1ZxK4x-py3.12",
   "language": "python",
   "name": "python3"
  },
  "language_info": {
   "codemirror_mode": {
    "name": "ipython",
    "version": 3
   },
   "file_extension": ".py",
   "mimetype": "text/x-python",
   "name": "python",
   "nbconvert_exporter": "python",
   "pygments_lexer": "ipython3",
   "version": "3.12.3"
  }
 },
 "nbformat": 4,
 "nbformat_minor": 5
}
