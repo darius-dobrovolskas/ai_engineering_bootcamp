{
 "cells": [
  {
   "cell_type": "code",
   "execution_count": 1,
   "id": "85dbdf50",
   "metadata": {},
   "outputs": [],
   "source": [
    "from qdrant_client import QdrantClient\n",
    "from qdrant_client.models import VectorParams, Distance, PayloadSchemaType, PointStruct, MatchAny, FieldCondition, Filter, Prefetch, FusionQuery\n",
    "\n",
    "import pandas as pd\n",
    "import openai\n",
    "import json\n",
    "import tiktoken"
   ]
  },
  {
   "cell_type": "markdown",
   "id": "5e7b6050",
   "metadata": {},
   "source": [
    "### Load Amazon dataset (Items)"
   ]
  },
  {
   "cell_type": "code",
   "execution_count": 2,
   "id": "69824cb5",
   "metadata": {},
   "outputs": [],
   "source": [
    "df_items = pd.read_json(\"../data/meta_Electronics_2022_2023_with_category_ratings_100_sample_1000.jsonl\", lines=True)"
   ]
  },
  {
   "cell_type": "code",
   "execution_count": 3,
   "id": "52a08bef",
   "metadata": {},
   "outputs": [],
   "source": [
    "df_items_sample = df_items.sample(n=50, random_state=25)"
   ]
  },
  {
   "cell_type": "markdown",
   "id": "8fa7d8df",
   "metadata": {},
   "source": [
    "### Define functions to preprocess title and features data and extract image url from the first large image in the images list"
   ]
  },
  {
   "cell_type": "code",
   "execution_count": 4,
   "id": "cfd22253",
   "metadata": {},
   "outputs": [],
   "source": [
    "def preprocess_items_data(row):\n",
    "    return f\"{row['title']} {' '.join(row['features'])}\"\n",
    "\n",
    "def extract_first_large_image(row):\n",
    "    return row['images'][0].get('large', '')"
   ]
  },
  {
   "cell_type": "code",
   "execution_count": 5,
   "id": "0d2b86a8",
   "metadata": {},
   "outputs": [],
   "source": [
    "df_items_sample[\"preprocessed_data\"] = df_items_sample.apply(preprocess_items_data, axis=1)\n",
    "df_items_sample[\"first_large_image\"] = df_items_sample.apply(extract_first_large_image, axis=1)"
   ]
  },
  {
   "cell_type": "markdown",
   "id": "9811ca77",
   "metadata": {},
   "source": [
    "### Load Amazon dataset (reviews)"
   ]
  },
  {
   "cell_type": "code",
   "execution_count": 6,
   "id": "2a55b5de",
   "metadata": {},
   "outputs": [],
   "source": [
    "df_reviews = pd.read_json(\"../data/Electronics_2022_2023_with_category_ratings_100_sample_1000.jsonl\", lines=True)"
   ]
  },
  {
   "cell_type": "code",
   "execution_count": 7,
   "id": "5e5cd18e",
   "metadata": {},
   "outputs": [
    {
     "data": {
      "text/plain": [
       "96107"
      ]
     },
     "execution_count": 7,
     "metadata": {},
     "output_type": "execute_result"
    }
   ],
   "source": [
    "len(df_reviews)"
   ]
  },
  {
   "cell_type": "code",
   "execution_count": 8,
   "id": "11aac6ed",
   "metadata": {},
   "outputs": [],
   "source": [
    "df_reviews_sample = df_reviews[df_reviews['parent_asin'].isin(df_items_sample['parent_asin'])]"
   ]
  },
  {
   "cell_type": "code",
   "execution_count": 9,
   "id": "81eb4796",
   "metadata": {},
   "outputs": [
    {
     "data": {
      "text/html": [
       "<div>\n",
       "<style scoped>\n",
       "    .dataframe tbody tr th:only-of-type {\n",
       "        vertical-align: middle;\n",
       "    }\n",
       "\n",
       "    .dataframe tbody tr th {\n",
       "        vertical-align: top;\n",
       "    }\n",
       "\n",
       "    .dataframe thead th {\n",
       "        text-align: right;\n",
       "    }\n",
       "</style>\n",
       "<table border=\"1\" class=\"dataframe\">\n",
       "  <thead>\n",
       "    <tr style=\"text-align: right;\">\n",
       "      <th></th>\n",
       "      <th>rating</th>\n",
       "      <th>title</th>\n",
       "      <th>text</th>\n",
       "      <th>images</th>\n",
       "      <th>asin</th>\n",
       "      <th>parent_asin</th>\n",
       "      <th>user_id</th>\n",
       "      <th>timestamp</th>\n",
       "      <th>helpful_vote</th>\n",
       "      <th>verified_purchase</th>\n",
       "    </tr>\n",
       "  </thead>\n",
       "  <tbody>\n",
       "    <tr>\n",
       "      <th>23</th>\n",
       "      <td>5</td>\n",
       "      <td>Great monitor</td>\n",
       "      <td>[[VIDEOID:ece6af781d39ac0dc456e49c2f10f7f1]] I...</td>\n",
       "      <td>[{'small_image_url': 'https://m.media-amazon.c...</td>\n",
       "      <td>B0B6H779BG</td>\n",
       "      <td>B0C53DQ4P5</td>\n",
       "      <td>AFGDRVPCP742YM5MMLFIKZCGNNRQ</td>\n",
       "      <td>2022-09-12 18:03:58.316</td>\n",
       "      <td>0</td>\n",
       "      <td>True</td>\n",
       "    </tr>\n",
       "    <tr>\n",
       "      <th>29</th>\n",
       "      <td>5</td>\n",
       "      <td>Awesome Extension Cord</td>\n",
       "      <td>This cord is great ‼️ I was having trouble wit...</td>\n",
       "      <td>[]</td>\n",
       "      <td>B09TT41YN6</td>\n",
       "      <td>B0BM9L7X81</td>\n",
       "      <td>AGJHJIPO33F2GHD4AOH2XDXHI2QQ</td>\n",
       "      <td>2023-02-03 16:53:40.189</td>\n",
       "      <td>0</td>\n",
       "      <td>True</td>\n",
       "    </tr>\n",
       "  </tbody>\n",
       "</table>\n",
       "</div>"
      ],
      "text/plain": [
       "    rating                   title  \\\n",
       "23       5           Great monitor   \n",
       "29       5  Awesome Extension Cord   \n",
       "\n",
       "                                                 text  \\\n",
       "23  [[VIDEOID:ece6af781d39ac0dc456e49c2f10f7f1]] I...   \n",
       "29  This cord is great ‼️ I was having trouble wit...   \n",
       "\n",
       "                                               images        asin parent_asin  \\\n",
       "23  [{'small_image_url': 'https://m.media-amazon.c...  B0B6H779BG  B0C53DQ4P5   \n",
       "29                                                 []  B09TT41YN6  B0BM9L7X81   \n",
       "\n",
       "                         user_id               timestamp  helpful_vote  \\\n",
       "23  AFGDRVPCP742YM5MMLFIKZCGNNRQ 2022-09-12 18:03:58.316             0   \n",
       "29  AGJHJIPO33F2GHD4AOH2XDXHI2QQ 2023-02-03 16:53:40.189             0   \n",
       "\n",
       "    verified_purchase  \n",
       "23               True  \n",
       "29               True  "
      ]
     },
     "execution_count": 9,
     "metadata": {},
     "output_type": "execute_result"
    }
   ],
   "source": [
    "df_reviews_sample.head(2)"
   ]
  },
  {
   "cell_type": "markdown",
   "id": "43922507",
   "metadata": {},
   "source": [
    "### Define functions to preprocess reviews data"
   ]
  },
  {
   "cell_type": "code",
   "execution_count": 10,
   "id": "00e81cdb",
   "metadata": {},
   "outputs": [],
   "source": [
    "def preprocess_reviews_data(row):\n",
    "    return f\"{row['title']} {row['text']}\"\n",
    "\n",
    "def token_count(row, model=\"text-embedding-3-small\"):\n",
    "\n",
    "    encoding = tiktoken.encoding_for_model(model)\n",
    "    return len(encoding.encode(row[\"preprocessed_data\"]))"
   ]
  },
  {
   "cell_type": "code",
   "execution_count": 11,
   "id": "f23fb16c",
   "metadata": {},
   "outputs": [
    {
     "name": "stderr",
     "output_type": "stream",
     "text": [
      "C:\\Users\\dariu\\AppData\\Local\\Temp\\ipykernel_30476\\1882656165.py:1: SettingWithCopyWarning: \n",
      "A value is trying to be set on a copy of a slice from a DataFrame.\n",
      "Try using .loc[row_indexer,col_indexer] = value instead\n",
      "\n",
      "See the caveats in the documentation: https://pandas.pydata.org/pandas-docs/stable/user_guide/indexing.html#returning-a-view-versus-a-copy\n",
      "  df_reviews_sample[\"preprocessed_data\"] = df_reviews_sample.apply(preprocess_reviews_data, axis=1)\n"
     ]
    }
   ],
   "source": [
    "df_reviews_sample[\"preprocessed_data\"] = df_reviews_sample.apply(preprocess_reviews_data, axis=1)"
   ]
  },
  {
   "cell_type": "code",
   "execution_count": 12,
   "id": "bf032c72",
   "metadata": {},
   "outputs": [
    {
     "name": "stderr",
     "output_type": "stream",
     "text": [
      "C:\\Users\\dariu\\AppData\\Local\\Temp\\ipykernel_30476\\1530805122.py:1: SettingWithCopyWarning: \n",
      "A value is trying to be set on a copy of a slice from a DataFrame.\n",
      "Try using .loc[row_indexer,col_indexer] = value instead\n",
      "\n",
      "See the caveats in the documentation: https://pandas.pydata.org/pandas-docs/stable/user_guide/indexing.html#returning-a-view-versus-a-copy\n",
      "  df_reviews_sample[\"preprocessed_data_token_count\"] = df_reviews_sample.apply(token_count, axis=1)\n"
     ]
    }
   ],
   "source": [
    "df_reviews_sample[\"preprocessed_data_token_count\"] = df_reviews_sample.apply(token_count, axis=1)"
   ]
  },
  {
   "cell_type": "code",
   "execution_count": 13,
   "id": "c00392f7",
   "metadata": {},
   "outputs": [],
   "source": [
    "df_reviews_sample = df_reviews_sample[df_reviews_sample[\"preprocessed_data_token_count\"] < 8192]"
   ]
  },
  {
   "cell_type": "code",
   "execution_count": 14,
   "id": "b79ad649",
   "metadata": {},
   "outputs": [
    {
     "data": {
      "text/html": [
       "<div>\n",
       "<style scoped>\n",
       "    .dataframe tbody tr th:only-of-type {\n",
       "        vertical-align: middle;\n",
       "    }\n",
       "\n",
       "    .dataframe tbody tr th {\n",
       "        vertical-align: top;\n",
       "    }\n",
       "\n",
       "    .dataframe thead th {\n",
       "        text-align: right;\n",
       "    }\n",
       "</style>\n",
       "<table border=\"1\" class=\"dataframe\">\n",
       "  <thead>\n",
       "    <tr style=\"text-align: right;\">\n",
       "      <th></th>\n",
       "      <th>rating</th>\n",
       "      <th>title</th>\n",
       "      <th>text</th>\n",
       "      <th>images</th>\n",
       "      <th>asin</th>\n",
       "      <th>parent_asin</th>\n",
       "      <th>user_id</th>\n",
       "      <th>timestamp</th>\n",
       "      <th>helpful_vote</th>\n",
       "      <th>verified_purchase</th>\n",
       "      <th>preprocessed_data</th>\n",
       "      <th>preprocessed_data_token_count</th>\n",
       "    </tr>\n",
       "  </thead>\n",
       "  <tbody>\n",
       "    <tr>\n",
       "      <th>23</th>\n",
       "      <td>5</td>\n",
       "      <td>Great monitor</td>\n",
       "      <td>[[VIDEOID:ece6af781d39ac0dc456e49c2f10f7f1]] I...</td>\n",
       "      <td>[{'small_image_url': 'https://m.media-amazon.c...</td>\n",
       "      <td>B0B6H779BG</td>\n",
       "      <td>B0C53DQ4P5</td>\n",
       "      <td>AFGDRVPCP742YM5MMLFIKZCGNNRQ</td>\n",
       "      <td>2022-09-12 18:03:58.316</td>\n",
       "      <td>0</td>\n",
       "      <td>True</td>\n",
       "      <td>Great monitor [[VIDEOID:ece6af781d39ac0dc456e4...</td>\n",
       "      <td>62</td>\n",
       "    </tr>\n",
       "    <tr>\n",
       "      <th>29</th>\n",
       "      <td>5</td>\n",
       "      <td>Awesome Extension Cord</td>\n",
       "      <td>This cord is great ‼️ I was having trouble wit...</td>\n",
       "      <td>[]</td>\n",
       "      <td>B09TT41YN6</td>\n",
       "      <td>B0BM9L7X81</td>\n",
       "      <td>AGJHJIPO33F2GHD4AOH2XDXHI2QQ</td>\n",
       "      <td>2023-02-03 16:53:40.189</td>\n",
       "      <td>0</td>\n",
       "      <td>True</td>\n",
       "      <td>Awesome Extension Cord This cord is great ‼️ I...</td>\n",
       "      <td>78</td>\n",
       "    </tr>\n",
       "  </tbody>\n",
       "</table>\n",
       "</div>"
      ],
      "text/plain": [
       "    rating                   title  \\\n",
       "23       5           Great monitor   \n",
       "29       5  Awesome Extension Cord   \n",
       "\n",
       "                                                 text  \\\n",
       "23  [[VIDEOID:ece6af781d39ac0dc456e49c2f10f7f1]] I...   \n",
       "29  This cord is great ‼️ I was having trouble wit...   \n",
       "\n",
       "                                               images        asin parent_asin  \\\n",
       "23  [{'small_image_url': 'https://m.media-amazon.c...  B0B6H779BG  B0C53DQ4P5   \n",
       "29                                                 []  B09TT41YN6  B0BM9L7X81   \n",
       "\n",
       "                         user_id               timestamp  helpful_vote  \\\n",
       "23  AFGDRVPCP742YM5MMLFIKZCGNNRQ 2022-09-12 18:03:58.316             0   \n",
       "29  AGJHJIPO33F2GHD4AOH2XDXHI2QQ 2023-02-03 16:53:40.189             0   \n",
       "\n",
       "    verified_purchase                                  preprocessed_data  \\\n",
       "23               True  Great monitor [[VIDEOID:ece6af781d39ac0dc456e4...   \n",
       "29               True  Awesome Extension Cord This cord is great ‼️ I...   \n",
       "\n",
       "    preprocessed_data_token_count  \n",
       "23                             62  \n",
       "29                             78  "
      ]
     },
     "execution_count": 14,
     "metadata": {},
     "output_type": "execute_result"
    }
   ],
   "source": [
    "df_reviews_sample.head(2)"
   ]
  },
  {
   "cell_type": "markdown",
   "id": "39a83888",
   "metadata": {},
   "source": [
    "### Create a new Qdrant collection for items"
   ]
  },
  {
   "cell_type": "code",
   "execution_count": 15,
   "id": "96531870",
   "metadata": {},
   "outputs": [],
   "source": [
    "qdrant_client = QdrantClient(url=\"http://localhost:6333\")"
   ]
  },
  {
   "cell_type": "code",
   "execution_count": 16,
   "id": "fea5eb9c",
   "metadata": {},
   "outputs": [
    {
     "data": {
      "text/plain": [
       "True"
      ]
     },
     "execution_count": 16,
     "metadata": {},
     "output_type": "execute_result"
    }
   ],
   "source": [
    "qdrant_client.create_collection(\n",
    "    collection_name=\"Amazon-items-collection-02-items\",\n",
    "    vectors_config=VectorParams(size=1536, distance=Distance.COSINE),\n",
    ")"
   ]
  },
  {
   "cell_type": "code",
   "execution_count": 17,
   "id": "07193061",
   "metadata": {},
   "outputs": [
    {
     "data": {
      "text/plain": [
       "UpdateResult(operation_id=1, status=<UpdateStatus.COMPLETED: 'completed'>)"
      ]
     },
     "execution_count": 17,
     "metadata": {},
     "output_type": "execute_result"
    }
   ],
   "source": [
    "qdrant_client.create_payload_index(\n",
    "    collection_name=\"Amazon-items-collection-02-items\",\n",
    "    field_name=\"text\",\n",
    "    field_schema=PayloadSchemaType.TEXT\n",
    ")"
   ]
  },
  {
   "cell_type": "code",
   "execution_count": 18,
   "id": "05918baf",
   "metadata": {},
   "outputs": [
    {
     "data": {
      "text/plain": [
       "UpdateResult(operation_id=3, status=<UpdateStatus.COMPLETED: 'completed'>)"
      ]
     },
     "execution_count": 18,
     "metadata": {},
     "output_type": "execute_result"
    }
   ],
   "source": [
    "qdrant_client.create_payload_index(\n",
    "    collection_name=\"Amazon-items-collection-02-items\",\n",
    "    field_name=\"parent_asin\",\n",
    "    field_schema=PayloadSchemaType.KEYWORD\n",
    ")"
   ]
  },
  {
   "cell_type": "markdown",
   "id": "598d007c",
   "metadata": {},
   "source": [
    "### Create a new Qdrant collection for reviews"
   ]
  },
  {
   "cell_type": "code",
   "execution_count": 19,
   "id": "b1462c89",
   "metadata": {},
   "outputs": [
    {
     "data": {
      "text/plain": [
       "True"
      ]
     },
     "execution_count": 19,
     "metadata": {},
     "output_type": "execute_result"
    }
   ],
   "source": [
    "qdrant_client.create_collection(\n",
    "    collection_name=\"Amazon-items-collection-02-reviews\",\n",
    "    vectors_config=VectorParams(size=1536, distance=Distance.COSINE),\n",
    ")"
   ]
  },
  {
   "cell_type": "code",
   "execution_count": 20,
   "id": "2877f0c8",
   "metadata": {},
   "outputs": [
    {
     "data": {
      "text/plain": [
       "UpdateResult(operation_id=1, status=<UpdateStatus.COMPLETED: 'completed'>)"
      ]
     },
     "execution_count": 20,
     "metadata": {},
     "output_type": "execute_result"
    }
   ],
   "source": [
    "qdrant_client.create_payload_index(\n",
    "    collection_name=\"Amazon-items-collection-02-reviews\",\n",
    "    field_name=\"parent_asin\",\n",
    "    field_schema=PayloadSchemaType.KEYWORD\n",
    ")"
   ]
  },
  {
   "cell_type": "markdown",
   "id": "a227027c",
   "metadata": {},
   "source": [
    "### Embedding functions"
   ]
  },
  {
   "cell_type": "code",
   "execution_count": 21,
   "id": "597f02dd",
   "metadata": {},
   "outputs": [],
   "source": [
    "def get_embedding(text, model=\"text-embedding-3-small\"):\n",
    "    response = openai.embeddings.create(\n",
    "        input=[text],\n",
    "        model=model,\n",
    "    )\n",
    "    return response.data[0].embedding\n",
    "\n",
    "def get_embeddings_batch(text_list, model=\"text-embedding-3-small\", batch_size=100):\n",
    "    \n",
    "    if len(text_list) <= batch_size:\n",
    "        response = openai.embeddings.create(input=text_list, model=model)\n",
    "        return [embedding.embedding for embedding in response.data]\n",
    "    \n",
    "    all_embeddings = []\n",
    "    counter = 1\n",
    "    for i in range(0, len(text_list), batch_size):\n",
    "        batch = text_list[i:i + batch_size]\n",
    "        response = openai.embeddings.create(input=batch, model=model)\n",
    "        all_embeddings.extend([embedding.embedding for embedding in response.data])\n",
    "        print(f\"Processed {counter * batch_size} of {len(text_list)}\")\n",
    "        counter += 1\n",
    "    \n",
    "    return all_embeddings"
   ]
  },
  {
   "cell_type": "markdown",
   "id": "653f603e",
   "metadata": {},
   "source": [
    "### Embed the text data and add additional fields to the payload of each vector (items)"
   ]
  },
  {
   "cell_type": "code",
   "execution_count": 22,
   "id": "5c9c18f1",
   "metadata": {},
   "outputs": [],
   "source": [
    "data_to_embed_items = df_items_sample[[\"preprocessed_data\", \"first_large_image\", \"rating_number\", \"price\", \"average_rating\", \"parent_asin\"]].to_dict(orient=\"records\")\n"
   ]
  },
  {
   "cell_type": "code",
   "execution_count": 23,
   "id": "4ba8d810",
   "metadata": {},
   "outputs": [
    {
     "data": {
      "text/plain": [
       "{'preprocessed_data': 'Dangbei Mars Pro 4K Projector, 3200 ANSI Lumens DLP Projector with Android 4GB+128G, 2 * 10W HiFi Speakers, Auto Keystone Auto Focus HDR10 Home Theater True 4K 3D Projector: True 4K resolution(3840 x 2160P) and incredible 3200 ANSI Lumens, delivering ultimate color and image with support for 4K, HDR 10, and HLG. Advanced ALPD Technology: Dangbei Mars Pro Projector uses ALPD light source with a lifespan of 30000H, providing a wider color gamut, and more realistic colors. Smart Screen Adjustment: Auto focus, ±40 degrees Auto keystone correction, intelligent obstacle anvoidance and intelligent screen alignment. No space constraints, it can quickly adjust settings itself. Dual 10W Speakers, Dolby Audio&dts HD: Dolby Digital and DTS Studio Sound technology is well applied to Mars Pro, provides the ultimate shocking sound for home theater. 4G+128G ROM, Android OS: Dangbei customizable UI carries thousands of apps. The interface is cleaner, apps launch faster, and playback is smoother. Easier to build a home theater.',\n",
       " 'first_large_image': 'https://m.media-amazon.com/images/I/31AvbLxghrL._AC_.jpg',\n",
       " 'rating_number': 113,\n",
       " 'price': 1799.0,\n",
       " 'average_rating': 4.4,\n",
       " 'parent_asin': 'B0CBBSL69H'}"
      ]
     },
     "execution_count": 23,
     "metadata": {},
     "output_type": "execute_result"
    }
   ],
   "source": [
    "data_to_embed_items[0]"
   ]
  },
  {
   "cell_type": "code",
   "execution_count": 24,
   "id": "ce77fef0",
   "metadata": {},
   "outputs": [],
   "source": [
    "text_to_embed_items = [data[\"preprocessed_data\"] for data in data_to_embed_items]"
   ]
  },
  {
   "cell_type": "code",
   "execution_count": 25,
   "id": "f8221acd",
   "metadata": {},
   "outputs": [],
   "source": [
    "embeddings_items = get_embeddings_batch(text_to_embed_items)"
   ]
  },
  {
   "cell_type": "code",
   "execution_count": 26,
   "id": "82228786",
   "metadata": {},
   "outputs": [],
   "source": [
    "pointstructs = []\n",
    "i = 1\n",
    "for embedding, data in zip(embeddings_items, data_to_embed_items):\n",
    "    pointstructs.append(\n",
    "        PointStruct(\n",
    "            id=i,\n",
    "            vector=embedding,\n",
    "            payload={\n",
    "                \"text\": data[\"preprocessed_data\"],\n",
    "                \"first_large_image\": data[\"first_large_image\"],\n",
    "                \"average_rating\": data[\"average_rating\"],\n",
    "                \"rating_number\": data[\"rating_number\"],\n",
    "                \"price\": data[\"price\"],\n",
    "                \"parent_asin\": data[\"parent_asin\"],\n",
    "            }\n",
    "        )\n",
    "    )\n",
    "    i += 1"
   ]
  },
  {
   "cell_type": "code",
   "execution_count": 27,
   "id": "f9c6896b",
   "metadata": {},
   "outputs": [
    {
     "data": {
      "text/plain": [
       "UpdateResult(operation_id=4, status=<UpdateStatus.COMPLETED: 'completed'>)"
      ]
     },
     "execution_count": 27,
     "metadata": {},
     "output_type": "execute_result"
    }
   ],
   "source": [
    "qdrant_client.upsert(\n",
    "    collection_name=\"Amazon-items-collection-02-items\",\n",
    "    wait=True,\n",
    "    points=pointstructs\n",
    ")"
   ]
  },
  {
   "cell_type": "markdown",
   "id": "875e592d",
   "metadata": {},
   "source": [
    "### Embed the text data and add additional fields to the payload of each vector (reviews)"
   ]
  },
  {
   "cell_type": "code",
   "execution_count": 28,
   "id": "40fd17a0",
   "metadata": {},
   "outputs": [],
   "source": [
    "data_to_embed_reviews = df_reviews_sample[[\"preprocessed_data\", \"parent_asin\"]].to_dict(orient=\"records\")"
   ]
  },
  {
   "cell_type": "code",
   "execution_count": 29,
   "id": "0ab75609",
   "metadata": {},
   "outputs": [],
   "source": [
    "text_to_embed_reviews = [data[\"preprocessed_data\"] for data in data_to_embed_reviews]"
   ]
  },
  {
   "cell_type": "code",
   "execution_count": 30,
   "id": "98c86ac8",
   "metadata": {},
   "outputs": [
    {
     "name": "stdout",
     "output_type": "stream",
     "text": [
      "Processed 100 of 3899\n",
      "Processed 200 of 3899\n",
      "Processed 300 of 3899\n",
      "Processed 400 of 3899\n",
      "Processed 500 of 3899\n",
      "Processed 600 of 3899\n",
      "Processed 700 of 3899\n",
      "Processed 800 of 3899\n",
      "Processed 900 of 3899\n",
      "Processed 1000 of 3899\n",
      "Processed 1100 of 3899\n",
      "Processed 1200 of 3899\n",
      "Processed 1300 of 3899\n",
      "Processed 1400 of 3899\n",
      "Processed 1500 of 3899\n",
      "Processed 1600 of 3899\n",
      "Processed 1700 of 3899\n",
      "Processed 1800 of 3899\n",
      "Processed 1900 of 3899\n",
      "Processed 2000 of 3899\n",
      "Processed 2100 of 3899\n",
      "Processed 2200 of 3899\n",
      "Processed 2300 of 3899\n",
      "Processed 2400 of 3899\n",
      "Processed 2500 of 3899\n",
      "Processed 2600 of 3899\n",
      "Processed 2700 of 3899\n",
      "Processed 2800 of 3899\n",
      "Processed 2900 of 3899\n",
      "Processed 3000 of 3899\n",
      "Processed 3100 of 3899\n",
      "Processed 3200 of 3899\n",
      "Processed 3300 of 3899\n",
      "Processed 3400 of 3899\n",
      "Processed 3500 of 3899\n",
      "Processed 3600 of 3899\n",
      "Processed 3700 of 3899\n",
      "Processed 3800 of 3899\n",
      "Processed 3900 of 3899\n"
     ]
    }
   ],
   "source": [
    "embeddings_reviews = get_embeddings_batch(text_to_embed_reviews)"
   ]
  },
  {
   "cell_type": "code",
   "execution_count": 31,
   "id": "bdca4a2a",
   "metadata": {},
   "outputs": [
    {
     "data": {
      "text/plain": [
       "3899"
      ]
     },
     "execution_count": 31,
     "metadata": {},
     "output_type": "execute_result"
    }
   ],
   "source": [
    "len(embeddings_reviews)"
   ]
  },
  {
   "cell_type": "code",
   "execution_count": 32,
   "id": "dddfbdf4",
   "metadata": {},
   "outputs": [],
   "source": [
    "pointstructs = []\n",
    "i = 1\n",
    "for embedding, data in zip(embeddings_reviews, data_to_embed_reviews):\n",
    "    pointstructs.append(\n",
    "        PointStruct(\n",
    "            id=i,\n",
    "            vector=embedding,\n",
    "            payload={\n",
    "                \"text\": data[\"preprocessed_data\"],\n",
    "                \"parent_asin\": data[\"parent_asin\"],\n",
    "            }\n",
    "        )\n",
    "    )\n",
    "    i += 1"
   ]
  },
  {
   "cell_type": "code",
   "execution_count": 33,
   "id": "a9875236",
   "metadata": {},
   "outputs": [
    {
     "name": "stdout",
     "output_type": "stream",
     "text": [
      "Processed 100 of 3899\n",
      "Processed 200 of 3899\n",
      "Processed 300 of 3899\n",
      "Processed 400 of 3899\n",
      "Processed 500 of 3899\n",
      "Processed 600 of 3899\n",
      "Processed 700 of 3899\n",
      "Processed 800 of 3899\n",
      "Processed 900 of 3899\n",
      "Processed 1000 of 3899\n",
      "Processed 1100 of 3899\n",
      "Processed 1200 of 3899\n",
      "Processed 1300 of 3899\n",
      "Processed 1400 of 3899\n",
      "Processed 1500 of 3899\n",
      "Processed 1600 of 3899\n",
      "Processed 1700 of 3899\n",
      "Processed 1800 of 3899\n",
      "Processed 1900 of 3899\n",
      "Processed 2000 of 3899\n",
      "Processed 2100 of 3899\n",
      "Processed 2200 of 3899\n",
      "Processed 2300 of 3899\n",
      "Processed 2400 of 3899\n",
      "Processed 2500 of 3899\n",
      "Processed 2600 of 3899\n",
      "Processed 2700 of 3899\n",
      "Processed 2800 of 3899\n",
      "Processed 2900 of 3899\n",
      "Processed 3000 of 3899\n",
      "Processed 3100 of 3899\n",
      "Processed 3200 of 3899\n",
      "Processed 3300 of 3899\n",
      "Processed 3400 of 3899\n",
      "Processed 3500 of 3899\n",
      "Processed 3600 of 3899\n",
      "Processed 3700 of 3899\n",
      "Processed 3800 of 3899\n",
      "Processed 3900 of 3899\n"
     ]
    }
   ],
   "source": [
    "batch_size_qdrant = 100\n",
    "counter = 1\n",
    "for i in range(0, len(pointstructs), batch_size_qdrant):\n",
    "    batch = pointstructs[i:i + batch_size_qdrant]\n",
    "    qdrant_client.upsert(\n",
    "        collection_name=\"Amazon-items-collection-02-reviews\",\n",
    "        wait=True,\n",
    "        points=batch\n",
    "    )\n",
    "    print(f\"Processed {counter * batch_size_qdrant} of {len(pointstructs)}\")\n",
    "    counter += 1"
   ]
  },
  {
   "cell_type": "code",
   "execution_count": 34,
   "id": "509d3622",
   "metadata": {},
   "outputs": [
    {
     "data": {
      "text/plain": [
       "3899"
      ]
     },
     "execution_count": 34,
     "metadata": {},
     "output_type": "execute_result"
    }
   ],
   "source": [
    "len(embeddings_reviews)"
   ]
  },
  {
   "cell_type": "markdown",
   "id": "1b51f76a",
   "metadata": {},
   "source": [
    "### Perform hybrid search and perform rrf rank fusion on the retrieved results"
   ]
  },
  {
   "cell_type": "code",
   "execution_count": 35,
   "id": "d8965de2",
   "metadata": {},
   "outputs": [],
   "source": [
    "from qdrant_client.models import Prefetch, Filter, FieldCondition, MatchText, FusionQuery\n",
    "\n",
    "def retrieve_data(query, k=5):\n",
    "\n",
    "    query_embedding = get_embedding(query)\n",
    "\n",
    "    results = qdrant_client.query_points(\n",
    "        collection_name=\"Amazon-items-collection-02-items\",\n",
    "        prefetch=[\n",
    "            Prefetch(\n",
    "                query=query_embedding,\n",
    "                limit=20\n",
    "            ),\n",
    "            Prefetch(\n",
    "                filter=Filter(\n",
    "                    must=[\n",
    "                        FieldCondition(\n",
    "                            key=\"text\",\n",
    "                            match=MatchText(text=query)\n",
    "                        )\n",
    "                    ]\n",
    "                ),\n",
    "                limit=20\n",
    "            )\n",
    "        ],\n",
    "        query=FusionQuery(fusion=\"rrf\"),\n",
    "        limit=k\n",
    "    )\n",
    "\n",
    "    return results"
   ]
  },
  {
   "cell_type": "code",
   "execution_count": 36,
   "id": "182960a1",
   "metadata": {},
   "outputs": [],
   "source": [
    "result = retrieve_data(\"earphones\")"
   ]
  },
  {
   "cell_type": "code",
   "execution_count": 37,
   "id": "d7c7ed60",
   "metadata": {},
   "outputs": [
    {
     "data": {
      "text/plain": [
       "[ScoredPoint(id=27, version=4, score=0.75, payload={'text': 'Wireless Earbuds Headphones Bluetooth 5.3, 50H Playtime Over Ear Buds with Noise Cancelling Mic, LED Display, Stereo Bass Bluetooth Earbuds with Earhooks, IP7 Waterproof Earphones for Sports Workout Superior Clear Call and Immersive Stereo Sound Wireless Earbuds, DETACHABLE EARHOOK FOR SPORTS ONE BUTTON CONTROL DESIGN', 'first_large_image': 'https://m.media-amazon.com/images/I/51mrgqFpwpL._AC_.jpg', 'average_rating': 4.9, 'rating_number': 139, 'price': 59.99, 'parent_asin': 'B0C85LNB75'}, vector=None, shard_key=None, order_value=None),\n",
       " ScoredPoint(id=7, version=4, score=0.6666667, payload={'text': 'WeurGhy Wireless Earbuds, Bluetooth 5.1 Headphones with HD Microphone, Deep Bass in Ear Sports Earphones with LED Display, 80 Hours of Playtime, IPX7 Waterproof Earbuds for Workout Running Powerful Deep Bass and Clear Calls: Wireless earbuds has four powerful built-in microphones to effectively remove ambient noise and make calls clearer. 10mm speaker drivers provide deep bass and pure midrange for a more authentic music experience. 80 Hours Playtime and Dual LED Displays Charging Case: The wireless headphones can last up to 8 hours at a time and have a portable charging case that allows you to play 80 hours of music with a unique dual LED display, the left side shows the remaining power of the charging case and the right side shows the progress of charging the headphones. Ear Hooks Designed for Sports: During long hours of sports, the ear hooks ensure that the earbuds do not move or fall off, and the design fits your ears so that you do not feel uncomfortable wearing them for long periods of time. IPX7 Waterproof for All Kinds of Weather: The earphones are waterproof with nano-coating, which can well withstand rain and sweat, making the bluetooth earphones suitable for camping, running or exercising even on rainy days. Bluetooth 5.1 and Auto-Pairing: Bluetooth 5.1 is more stable and faster signal transmission compared to Bluetooth 5.0 connection, which can reduce the loss of sound quality. After the first successful connection, simply remove the bluetooth earbuds from the charging case and they will automatically connect.', 'first_large_image': 'https://m.media-amazon.com/images/I/31cnnKzaBsL._AC_.jpg', 'average_rating': 4.2, 'rating_number': 3263, 'price': None, 'parent_asin': 'B09NZNP8Z3'}, vector=None, shard_key=None, order_value=None),\n",
       " ScoredPoint(id=47, version=4, score=0.53333336, payload={'text': 'Wireless Earbud, Bluetooth 5.3 Headphones Bluetooth Earbud, Deep Bass Wireless Earphones in Ear Noise Cancelling Ear Buds 40H Dual Mic Call, USB-C LED Display IP7 Waterproof Headset for Sport-2022 New Bluetooth 5.3 and Effortless Pairing: Adopting advanced Bluetooth V5.3 and dual-channel transmission, wireless earbud support HSP HFP A2DP AVRCP, which offer you an unparalleled audio experience with faster transmission speed, stronger connection stability, and longer range of bluetooth. Taken from the charging case, wireless headphones will be paired with each other automatically, and just hit on bluetooth list i13 on your device to connect, avoiding complex operations and saving waiting time. Stereo Deep Bass and Crystal-Clear Calls: These bluetooth headphones with 13mm graphene speakers and triple-layer composite diaphragms provide powerful bass, stunning treble and clear mids. The built-in mic in each noise cancelling earbud utilizes call noise cancellation to ensure clear and realistic sound. Inward-facing microphone listens inside ear canal to pick up internal sounds and produce anti-noise again to twice cancel the left noise. It will allow you to enjoy high-quality call anytime. Real-Time Dual LED Displays and Type-C Fast Charge: Digital LED display is to show the power level for charging case and wireless earphones. When charging for the case, the LED light will start to flash from 1 to 100. When you put wireless earbud bluetooth into the case, bluetooth headset will start to be charged. Headphones wireless bluetooth can last for 8h playtime from a single charge and 32 extra hours with charging case. Equipped with USB-C cable offers you more quick and stable charging. Ultralight and Comfort Fit: The pocket-sized charging case does not take up any space to carry, and you will not have any stress on wearing Sports earbud. Earbud wireless headphones are designed to fit the contours of the human ear with a curved structure that is same to the shape of the ear canal, making them comfortable to wear and not falling out when running, gym. Waterproof earbud use IP7 nano-coating technology, which can protect internal components from liquids and ensure a longer life. Smart Touch Control, Stereo and Mono Mode: Features with touch control sensors, bluetooth headphones wireless allows you to conveniently power on/off, play/pause, skip songs, answer/hang up, adjust volume and access other functions at the touch of a button. Free your hands completely when you’re busy doing exercise, driving or running. Besides, ear buds earbud bluetooth not only can be worked together for stereo music, but also can be worked independently. Design for business and commute.', 'first_large_image': 'https://m.media-amazon.com/images/I/41wc1WzpnpL._AC_.jpg', 'average_rating': 4.3, 'rating_number': 186, 'price': None, 'parent_asin': 'B0B658CT5S'}, vector=None, shard_key=None, order_value=None),\n",
       " ScoredPoint(id=8, version=4, score=0.53333336, payload={'text': \"zivsivc Wireless Earbuds Bluetooth 5.1 Touch Control Headphones with Built-in Mic,CVC8.0 Noise Cancelling Wireless Earbuds for Gym Waterproof Bluetooth Earphones in-Ear Headse 【PREMIUM STEREO SOUND & BLUETOOTH 5.1】Featured 10mm graphene speakers that produce a crystal clear, realistic quality and vigorous sound effect, enhances voice clarity and lower power consumption. Bluetooth 5.1 on these wireless earbuds provides a fast, stable and latency-free connection, compatible with most Bluetooth-enabled devices such as Android, iPhone cell phones, laptops, tablets and PC etc. 【PORTABLE CHARGING CASE & 80H STANDBY】 Comes with 3500mAh charging case with LED power display is more user-friendly, you can directly read the power data and replenish the power of the case in time. This versatile charging case also charges the phone. zivsivc True Wireless earbuds can be fully charged in about 1.5 hour, with a music playtime of about 5 hours and standby for 120 hours. And the case lasts 60 hours for 12 charges, which gives you excellent experience of long endurance. 【CLEAR VOICE CALL & TOUCH CONTROL】 Equipped with advanced CVC8.0 noise reduction technology can reduce disruptive background noise, providing natural and clear voice for video chat and calls. Specific touch control function makes it more convenient, just tap the Bluetooth earbuds to play /pause music, change song, answer /end call and wake up Siri. Each of ear bud can be used for mono or binaural mode. You can share good music with family and friends. 【COMFORTABLE MINI SPORT EARPHONES & IPX7 WATERPROOF】Extremely lightweight and ergonomic design, one Bluetooth Earphone only weigh 0.13 Oz, provide a secure fit while ensuring fatigue-free ears and long-lasting comfort.Whether you're running or exercising, the wireless earphones will stay securely in your ears. In addition, both earbuds with IPX7 waterproof give you a better experience during indoor and outdoor activities. Ideal for sports, running, jogging and yoga etc. 【GUARANTEE RETURN POLICY & PACKAGE】 3 months return policy provided. If for any reason you're not completely satisfied with our wireless bluetooth earbuds, please don't hesitate to contact us. Package content: Earphones, Charging Case, Charging Cable, Ear Tips (S, M, L), User Manual\", 'first_large_image': 'https://m.media-amazon.com/images/I/41BMp6xHs6L._AC_.jpg', 'average_rating': 4.0, 'rating_number': 175, 'price': None, 'parent_asin': 'B09W5DB49K'}, vector=None, shard_key=None, order_value=None),\n",
       " ScoredPoint(id=48, version=4, score=0.25, payload={'text': 'Aisizon Air Conduction Headphones H1, Over Ear Sports Wireless Bluetooth Headphones, Open Ear Headphones Wireless Bluetooth for Runing, Gym Workout, Sports 【Open ear air conduction】： Aisizon H1 air conduction headphones adopts a unique over ear sound cavity design, directional sound waves, so that the rich sound can fully enter the ear from the outside without divergence. The unique pronunciation structure brings hifi-level sound effects: the treble is loud, the midrange is transparent, and the bass is shocking. Avoid putting earplugs in ears, listening to songs and paying attention to external sounds, Improve the safety of outdoor sports. 【Extremely Lightweight, Not fall off during sports】: Aisizon H1 open ear headphones Overall 1 oz weight, The whole surface is made of soft skin-friendly material, which perfectly fits the side face, Full-fit memory metal neckband, long wearing without ear pain, this bone conduction earphone is suitable for gym workouts, outdoor running and road cycling listen to music. 【HIFI sound effects】: This open ear headphones wireless bluetooth uses a big speaker box, and the unique pronunciation structure brings high-fidelity sound effects: the treble is loud, the midrange is transparent, and the bass is shocking. According to the structure of the ear, the sound is directionally transmitted, so that you can enjoy extremely high-quality music while exercising and doing housework. 【Support voice prompts and hands-free calls】Aisizon H1 open ear headphones wireless bluetooth with multi-language voice prompts, you can operate with voice prompts, easily switch between music and calls, and enjoy wireless music without missing any calls. [8 hours of long battery life, easy to operate]: 150mAh large-capacity battery, 80% full in 30 minutes, 65ms low latency, 8 hours of continuous music listening, closed sound cavity design, Bluetooth link can be used, suitable for various devices, simple Operate the buttons so you can move easily throughout the day.', 'first_large_image': 'https://m.media-amazon.com/images/I/41owxMI9h5L._AC_.jpg', 'average_rating': 3.8, 'rating_number': 146, 'price': 29.8, 'parent_asin': 'B0BRMV85ZK'}, vector=None, shard_key=None, order_value=None)]"
      ]
     },
     "execution_count": 37,
     "metadata": {},
     "output_type": "execute_result"
    }
   ],
   "source": [
    "result.points"
   ]
  },
  {
   "cell_type": "code",
   "execution_count": 38,
   "id": "31bebe43",
   "metadata": {},
   "outputs": [],
   "source": [
    "parent_asins = []\n",
    "for data in result.points:\n",
    "    parent_asins.append(data.payload[\"parent_asin\"])"
   ]
  },
  {
   "cell_type": "code",
   "execution_count": 39,
   "id": "6bf004d9",
   "metadata": {},
   "outputs": [
    {
     "data": {
      "text/plain": [
       "['B0C85LNB75', 'B09NZNP8Z3', 'B0B658CT5S', 'B09W5DB49K', 'B0BRMV85ZK']"
      ]
     },
     "execution_count": 39,
     "metadata": {},
     "output_type": "execute_result"
    }
   ],
   "source": [
    "parent_asins"
   ]
  },
  {
   "cell_type": "markdown",
   "id": "9f808328",
   "metadata": {},
   "source": [
    "### A function to run search agains reviews on a prefiltered set of product IDs"
   ]
  },
  {
   "cell_type": "code",
   "execution_count": 40,
   "id": "5819e378",
   "metadata": {},
   "outputs": [],
   "source": [
    "def retrieve_prefiltered_reviews_data(query, parent_asins, k=5):\n",
    "\n",
    "    query_embedding = get_embedding(query)\n",
    "\n",
    "    results = qdrant_client.query_points(\n",
    "        collection_name=\"Amazon-items-collection-02-reviews\",\n",
    "        prefetch=[\n",
    "            Prefetch(\n",
    "                query=query_embedding,\n",
    "                filter=Filter(\n",
    "                    must=[\n",
    "                        FieldCondition(\n",
    "                            key=\"parent_asin\",\n",
    "                            match=MatchAny(\n",
    "                                any=parent_asins\n",
    "                            )\n",
    "                        )\n",
    "                    ]\n",
    "                ),\n",
    "                limit=20\n",
    "            )\n",
    "        ],\n",
    "        query=FusionQuery(fusion=\"rrf\"),\n",
    "        limit=k\n",
    "    )\n",
    "\n",
    "    return results"
   ]
  },
  {
   "cell_type": "code",
   "execution_count": 41,
   "id": "441c78e1",
   "metadata": {},
   "outputs": [],
   "source": [
    "reviews = retrieve_prefiltered_reviews_data(\"negative review\", ['B0C85LNB75', 'B09NZNP8Z3', 'B0B658CT5S', 'B09W5DB49K', 'B0BRMV85ZK'], k=5)"
   ]
  },
  {
   "cell_type": "code",
   "execution_count": 42,
   "id": "9a261342",
   "metadata": {},
   "outputs": [
    {
     "data": {
      "text/plain": [
       "[ScoredPoint(id=508, version=7, score=0.5, payload={'text': 'Poor Not worth the purchase', 'parent_asin': 'B0BRMV85ZK'}, vector=None, shard_key=None, order_value=None),\n",
       " ScoredPoint(id=3544, version=37, score=0.33333334, payload={'text': 'look for a better item two issues, the lights for charging or charged on mine are barely visible, the voice and  script  for \"device connected, poor English and heavy accented.', 'parent_asin': 'B0BRMV85ZK'}, vector=None, shard_key=None, order_value=None),\n",
       " ScoredPoint(id=2662, version=28, score=0.25, payload={'text': 'I don’t write reviews. I am an audiophile. These are great. I just ordered a second pair. I love these.', 'parent_asin': 'B0B658CT5S'}, vector=None, shard_key=None, order_value=None),\n",
       " ScoredPoint(id=3653, version=38, score=0.2, payload={'text': \"Don't by No\", 'parent_asin': 'B09NZNP8Z3'}, vector=None, shard_key=None, order_value=None),\n",
       " ScoredPoint(id=1252, version=14, score=0.16666667, payload={'text': 'Not in the ear I wanted something that does not go into your ear. I read the reviews and decided to go with this.', 'parent_asin': 'B0BRMV85ZK'}, vector=None, shard_key=None, order_value=None)]"
      ]
     },
     "execution_count": 42,
     "metadata": {},
     "output_type": "execute_result"
    }
   ],
   "source": [
    "reviews.points"
   ]
  },
  {
   "cell_type": "code",
   "execution_count": null,
   "id": "f57badb1",
   "metadata": {},
   "outputs": [],
   "source": []
  }
 ],
 "metadata": {
  "kernelspec": {
   "display_name": "ai-engineering-bootcamp-sL1ZxK4x-py3.12",
   "language": "python",
   "name": "python3"
  },
  "language_info": {
   "codemirror_mode": {
    "name": "ipython",
    "version": 3
   },
   "file_extension": ".py",
   "mimetype": "text/x-python",
   "name": "python",
   "nbconvert_exporter": "python",
   "pygments_lexer": "ipython3",
   "version": "3.12.3"
  }
 },
 "nbformat": 4,
 "nbformat_minor": 5
}
