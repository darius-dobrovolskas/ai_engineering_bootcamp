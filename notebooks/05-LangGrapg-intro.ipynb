{
 "cells": [
  {
   "cell_type": "markdown",
   "id": "6d62538f",
   "metadata": {},
   "source": [
    "## Simple single node graph"
   ]
  },
  {
   "cell_type": "code",
   "execution_count": 1,
   "id": "47b46e91",
   "metadata": {},
   "outputs": [],
   "source": [
    "from pydantic import BaseModel, Field\n",
    "\n",
    "from langgraph.graph import StateGraph, START, END\n",
    "from langgraph.prebuilt import ToolNode\n",
    "\n",
    "from langchain_core.messages import AIMessage, ToolMessage\n",
    "\n",
    "from jinja2 import Template\n",
    "from typing import Literal, Dict, Any, Annotated, List\n",
    "from IPython.display import Image, display\n",
    "from operator import add\n",
    "from openai import OpenAI\n",
    "\n",
    "import random\n",
    "import ast\n",
    "import inspect\n",
    "import instructor\n",
    "import json"
   ]
  },
  {
   "cell_type": "code",
   "execution_count": 2,
   "id": "217ccad2",
   "metadata": {},
   "outputs": [],
   "source": [
    "class State(BaseModel):\n",
    "    message: str\n",
    "    answer: str = \"\"\n",
    "    vibe: str"
   ]
  },
  {
   "cell_type": "code",
   "execution_count": 3,
   "id": "7db389f4",
   "metadata": {},
   "outputs": [],
   "source": [
    "def append_vibes_to_query(state: State) -> dict:\n",
    "\n",
    "    return {\"answer\": f\"{state.message} {state.vibe}\"}"
   ]
  },
  {
   "cell_type": "code",
   "execution_count": 4,
   "id": "c7dbaeea",
   "metadata": {},
   "outputs": [],
   "source": [
    "workflow = StateGraph(State)\n",
    "\n",
    "workflow.add_node(\"append_vibes_to_query\", append_vibes_to_query)\n",
    "workflow.add_edge(START, \"append_vibes_to_query\")\n",
    "workflow.add_edge(\"append_vibes_to_query\", END)\n",
    "\n",
    "graph = workflow.compile()"
   ]
  },
  {
   "cell_type": "code",
   "execution_count": 5,
   "id": "699e043c",
   "metadata": {},
   "outputs": [
    {
     "data": {
      "image/png": "[encoded data removed]",
      "text/plain": [
       "<IPython.core.display.Image object>"
      ]
     },
     "metadata": {},
     "output_type": "display_data"
    }
   ],
   "source": [
    "display(Image(graph.get_graph().draw_mermaid_png()))"
   ]
  },
  {
   "cell_type": "code",
   "execution_count": 6,
   "id": "6f57d50a",
   "metadata": {},
   "outputs": [],
   "source": [
    "initial_state = {\n",
    "    \"message\": \"Give me some vibes!\",\n",
    "    \"vibe\": \"I'm feelinga like a badass today!\"\n",
    "}"
   ]
  },
  {
   "cell_type": "code",
   "execution_count": 7,
   "id": "d082bcc8",
   "metadata": {},
   "outputs": [],
   "source": [
    "result = graph.invoke(initial_state)"
   ]
  },
  {
   "cell_type": "code",
   "execution_count": 8,
   "id": "2f8fa5c2",
   "metadata": {},
   "outputs": [
    {
     "data": {
      "text/plain": [
       "{'message': 'Give me some vibes!',\n",
       " 'answer': \"Give me some vibes! I'm feelinga like a badass today!\",\n",
       " 'vibe': \"I'm feelinga like a badass today!\"}"
      ]
     },
     "execution_count": 8,
     "metadata": {},
     "output_type": "execute_result"
    }
   ],
   "source": [
    "result"
   ]
  },
  {
   "cell_type": "code",
   "execution_count": null,
   "id": "7e8254e1",
   "metadata": {},
   "outputs": [],
   "source": []
  },
  {
   "cell_type": "markdown",
   "id": "f2c94cba",
   "metadata": {},
   "source": [
    "### Conditional graph"
   ]
  },
  {
   "cell_type": "code",
   "execution_count": 9,
   "id": "425c9b46",
   "metadata": {},
   "outputs": [],
   "source": [
    "class State(BaseModel):\n",
    "    message: str\n",
    "    answer: str = \"\""
   ]
  },
  {
   "cell_type": "code",
   "execution_count": 10,
   "id": "2462b0fc",
   "metadata": {},
   "outputs": [],
   "source": [
    "def append_vibes_to_query(state: State) -> dict:\n",
    "\n",
    "    return {\"answer\": \"I am here to add some vibes!\"}"
   ]
  },
  {
   "cell_type": "code",
   "execution_count": 11,
   "id": "87150d6c",
   "metadata": {},
   "outputs": [],
   "source": [
    "def router(state: State) -> Literal[\"append_vibe_1\", \"append_vibe_2\", \"append_vibe_3\"]:\n",
    "    \n",
    "    vibes = [\"append_vibe_1\", \"append_vibe_2\", \"append_vibe_3\"]\n",
    "\n",
    "    vibe_path = random.choice(vibes)\n",
    "\n",
    "    return vibe_path"
   ]
  },
  {
   "cell_type": "code",
   "execution_count": 12,
   "id": "27775a52",
   "metadata": {},
   "outputs": [],
   "source": [
    "def append_vibe_1(state: State) -> dict:\n",
    "    vibe = \"I'm feeling like a badass today!\"\n",
    "\n",
    "    return{\"answer\": f\"{state.answer} {state.message} {vibe}\"}\n",
    "\n",
    "def append_vibe_2(state: State) -> dict:\n",
    "    vibe = \"I'm feeling like a boss today!\"\n",
    "\n",
    "    return{\"answer\": f\"{state.answer} {state.message} {vibe}\"}\n",
    "\n",
    "def append_vibe_3(state: State) -> dict:\n",
    "    vibe = \"I'm feeling like a legend today!\"\n",
    "\n",
    "    return{\"answer\": f\"{state.answer} {state.message} {vibe}\"}"
   ]
  },
  {
   "cell_type": "code",
   "execution_count": 13,
   "id": "829952da",
   "metadata": {},
   "outputs": [],
   "source": [
    "workflow = StateGraph(State)\n",
    "\n",
    "workflow.add_node(\"append_vibes_to_query\", append_vibes_to_query)\n",
    "workflow.add_node(\"append_vibe_1\", append_vibe_1)\n",
    "workflow.add_node(\"append_vibe_2\", append_vibe_2)\n",
    "workflow.add_node(\"append_vibe_3\", append_vibe_3)\n",
    "\n",
    "workflow.add_edge(START, \"append_vibes_to_query\")\n",
    "\n",
    "workflow.add_conditional_edges(\n",
    "    \"append_vibes_to_query\",\n",
    "     router,\n",
    "     )\n",
    "\n",
    "workflow.add_edge(\"append_vibe_1\", END)\n",
    "workflow.add_edge(\"append_vibe_2\", END)\n",
    "workflow.add_edge(\"append_vibe_3\", END)\n",
    "\n",
    "graph = workflow.compile()"
   ]
  },
  {
   "cell_type": "code",
   "execution_count": 14,
   "id": "ad9418ef",
   "metadata": {},
   "outputs": [
    {
     "data": {
      "image/png": "[encoded data removed]",
      "text/plain": [
       "<IPython.core.display.Image object>"
      ]
     },
     "metadata": {},
     "output_type": "display_data"
    }
   ],
   "source": [
    "display(Image(graph.get_graph().draw_mermaid_png()))"
   ]
  },
  {
   "cell_type": "code",
   "execution_count": 15,
   "id": "a17a9c64",
   "metadata": {},
   "outputs": [],
   "source": [
    "initial_state = {\n",
    "    \"message\": \"Give me some vibes!\"\n",
    "}\n",
    "\n",
    "result = graph.invoke(initial_state)"
   ]
  },
  {
   "cell_type": "code",
   "execution_count": 16,
   "id": "10dad2db",
   "metadata": {},
   "outputs": [
    {
     "data": {
      "text/plain": [
       "{'message': 'Give me some vibes!',\n",
       " 'answer': \"I am here to add some vibes! Give me some vibes! I'm feeling like a legend today!\"}"
      ]
     },
     "execution_count": 16,
     "metadata": {},
     "output_type": "execute_result"
    }
   ],
   "source": [
    "result"
   ]
  },
  {
   "cell_type": "code",
   "execution_count": null,
   "id": "2110574f",
   "metadata": {},
   "outputs": [],
   "source": []
  },
  {
   "cell_type": "markdown",
   "id": "41f0f20d",
   "metadata": {},
   "source": [
    "### Agent graph"
   ]
  },
  {
   "cell_type": "code",
   "execution_count": 17,
   "id": "3bfe21e6",
   "metadata": {},
   "outputs": [],
   "source": [
    "def append_vibes(query: str, vibe: str) -> str:\n",
    "    \"\"\"\n",
    "    It takes in a query and a vibe and returns a string with the query and vibe appended.\n",
    "    \n",
    "    Args:\n",
    "        query: The query to append the vibe to.\n",
    "        vibe: The vibe to append to the query.\n",
    "\n",
    "    Returns:\n",
    "        A string with the query and vibe appended.\n",
    "    \"\"\"\n",
    "\n",
    "\n",
    "    print(f\"{query} {vibe}\")\n",
    "    return f\"{query} {vibe}\""
   ]
  },
  {
   "cell_type": "code",
   "execution_count": 18,
   "id": "f8d03287",
   "metadata": {},
   "outputs": [],
   "source": [
    "def parse_function_definition(function_def: str) -> Dict[str, Any]:\n",
    "    \"\"\"Parse a function definition string to extract metadata including type hints.\"\"\"\n",
    "    result = {\n",
    "        \"name\": \"\",\n",
    "        \"description\": \"\",\n",
    "        \"parameters\": {\"type\": \"object\", \"properties\": {}},\n",
    "        \"required\": [],\n",
    "        \"returns\": {\"type\": \"string\", \"description\": \"\"}\n",
    "    }\n",
    "    \n",
    "    # Parse the function using AST\n",
    "    tree = ast.parse(function_def.strip())\n",
    "    if not tree.body or not isinstance(tree.body[0], ast.FunctionDef):\n",
    "        return result\n",
    "        \n",
    "    func = tree.body[0]\n",
    "    result[\"name\"] = func.name\n",
    "    \n",
    "    # Extract docstring\n",
    "    docstring = ast.get_docstring(func) or \"\"\n",
    "    if docstring:\n",
    "        # Extract description (first line/paragraph)\n",
    "        desc_end = docstring.find('\\n\\n') if '\\n\\n' in docstring else docstring.find('\\nArgs:')\n",
    "        desc_end = desc_end if desc_end > 0 else docstring.find('\\nParameters:')\n",
    "        result[\"description\"] = docstring[:desc_end].strip() if desc_end > 0 else docstring.strip()\n",
    "        \n",
    "        # Parse parameter descriptions\n",
    "        param_descs = parse_docstring_params(docstring)\n",
    "        \n",
    "        # Extract return description\n",
    "        if \"Returns:\" in docstring:\n",
    "            result[\"returns\"][\"description\"] = docstring.split(\"Returns:\")[1].strip().split('\\n')[0]\n",
    "    \n",
    "    # Extract parameters with type hints\n",
    "    args = func.args\n",
    "    defaults = args.defaults\n",
    "    num_args = len(args.args)\n",
    "    num_defaults = len(defaults)\n",
    "    \n",
    "    for i, arg in enumerate(args.args):\n",
    "        if arg.arg == 'self':\n",
    "            continue\n",
    "            \n",
    "        param_info = {\n",
    "            \"type\": get_type_from_annotation(arg.annotation) if arg.annotation else \"string\",\n",
    "            \"description\": param_descs.get(arg.arg, \"\")\n",
    "        }\n",
    "        \n",
    "        # Check for default value\n",
    "        default_idx = i - (num_args - num_defaults)\n",
    "        if default_idx >= 0:\n",
    "            param_info[\"default\"] = ast.literal_eval(ast.unparse(defaults[default_idx]))\n",
    "        else:\n",
    "            result[\"required\"].append(arg.arg)\n",
    "        \n",
    "        result[\"parameters\"][\"properties\"][arg.arg] = param_info\n",
    "    \n",
    "    # Extract return type\n",
    "    if func.returns:\n",
    "        result[\"returns\"][\"type\"] = get_type_from_annotation(func.returns)\n",
    "    \n",
    "    return result\n",
    "\n",
    "\n",
    "def get_type_from_annotation(annotation) -> str:\n",
    "    \"\"\"Convert AST annotation to type string.\"\"\"\n",
    "    if not annotation:\n",
    "        return \"string\"\n",
    "    \n",
    "    type_map = {\n",
    "        'str': 'string',\n",
    "        'int': 'integer', \n",
    "        'float': 'number',\n",
    "        'bool': 'boolean',\n",
    "        'list': 'array',\n",
    "        'dict': 'object',\n",
    "        'List': 'array',\n",
    "        'Dict': 'object'\n",
    "    }\n",
    "    \n",
    "    if isinstance(annotation, ast.Name):\n",
    "        return type_map.get(annotation.id, annotation.id)\n",
    "    elif isinstance(annotation, ast.Subscript) and isinstance(annotation.value, ast.Name):\n",
    "        base_type = annotation.value.id\n",
    "        return type_map.get(base_type, base_type.lower())\n",
    "    \n",
    "    return \"string\"\n",
    "\n",
    "\n",
    "def parse_docstring_params(docstring: str) -> Dict[str, str]:\n",
    "    \"\"\"Extract parameter descriptions from docstring (handles both Args: and Parameters: formats).\"\"\"\n",
    "    params = {}\n",
    "    lines = docstring.split('\\n')\n",
    "    in_params = False\n",
    "    current_param = None\n",
    "    \n",
    "    for line in lines:\n",
    "        stripped = line.strip()\n",
    "        \n",
    "        # Check for parameter section start\n",
    "        if stripped in ['Args:', 'Arguments:', 'Parameters:', 'Params:']:\n",
    "            in_params = True\n",
    "            current_param = None\n",
    "        elif stripped.startswith('Returns:') or stripped.startswith('Raises:'):\n",
    "            in_params = False\n",
    "        elif in_params:\n",
    "            # Parse parameter line (handles \"param: desc\" and \"- param: desc\" formats)\n",
    "            if ':' in stripped and (stripped[0].isalpha() or stripped.startswith(('-', '*'))):\n",
    "                param_name = stripped.lstrip('- *').split(':')[0].strip()\n",
    "                param_desc = ':'.join(stripped.lstrip('- *').split(':')[1:]).strip()\n",
    "                params[param_name] = param_desc\n",
    "                current_param = param_name\n",
    "            elif current_param and stripped:\n",
    "                # Continuation of previous parameter description\n",
    "                params[current_param] += ' ' + stripped\n",
    "    \n",
    "    return params"
   ]
  },
  {
   "cell_type": "code",
   "execution_count": 19,
   "id": "fe8277c9",
   "metadata": {},
   "outputs": [],
   "source": [
    "def get_tool_descriptions_from_node(tool_node):\n",
    "    \"\"\"Extract tool descriptions from the ToolNode object.\"\"\"\n",
    "    descriptions = []\n",
    "    \n",
    "    if hasattr(tool_node, 'tools_by_name'):\n",
    "        tools_by_name = tool_node.tools_by_name\n",
    "        \n",
    "        for tool_name, tool in tools_by_name.items():\n",
    "            function_string = inspect.getsource(globals()[tool_name])\n",
    "            # function_string = inspect.getsource(getattr(tool_name))\n",
    "            result = parse_function_definition(function_string)\n",
    "\n",
    "            if result:\n",
    "                descriptions.append(result)\n",
    "    \n",
    "    return descriptions if descriptions else \"Could not extract tool descriptions\""
   ]
  },
  {
   "cell_type": "code",
   "execution_count": 20,
   "id": "193ba010",
   "metadata": {},
   "outputs": [],
   "source": [
    "function_string = inspect.getsource(globals()[\"append_vibes\"])"
   ]
  },
  {
   "cell_type": "code",
   "execution_count": 21,
   "id": "1ba3e2d2",
   "metadata": {},
   "outputs": [
    {
     "name": "stdout",
     "output_type": "stream",
     "text": [
      "def append_vibes(query: str, vibe: str) -> str:\n",
      "    \"\"\"\n",
      "    It takes in a query and a vibe and returns a string with the query and vibe appended.\n",
      "\n",
      "    Args:\n",
      "        query: The query to append the vibe to.\n",
      "        vibe: The vibe to append to the query.\n",
      "\n",
      "    Returns:\n",
      "        A string with the query and vibe appended.\n",
      "    \"\"\"\n",
      "\n",
      "\n",
      "    print(f\"{query} {vibe}\")\n",
      "    return f\"{query} {vibe}\"\n",
      "\n"
     ]
    }
   ],
   "source": [
    "print(function_string)"
   ]
  },
  {
   "cell_type": "code",
   "execution_count": 22,
   "id": "db176dc7",
   "metadata": {},
   "outputs": [],
   "source": [
    "result = parse_function_definition(function_string)"
   ]
  },
  {
   "cell_type": "code",
   "execution_count": 23,
   "id": "b0425074",
   "metadata": {},
   "outputs": [
    {
     "data": {
      "text/plain": [
       "{'name': 'append_vibes',\n",
       " 'description': 'It takes in a query and a vibe and returns a string with the query and vibe appended.',\n",
       " 'parameters': {'type': 'object',\n",
       "  'properties': {'query': {'type': 'string',\n",
       "    'description': 'The query to append the vibe to.'},\n",
       "   'vibe': {'type': 'string',\n",
       "    'description': 'The vibe to append to the query.'}}},\n",
       " 'required': ['query', 'vibe'],\n",
       " 'returns': {'type': 'string',\n",
       "  'description': 'A string with the query and vibe appended.'}}"
      ]
     },
     "execution_count": 23,
     "metadata": {},
     "output_type": "execute_result"
    }
   ],
   "source": [
    "result"
   ]
  },
  {
   "cell_type": "code",
   "execution_count": 24,
   "id": "cbd64cd3",
   "metadata": {},
   "outputs": [],
   "source": [
    "class ToolCall(BaseModel):\n",
    "    name: str\n",
    "    arguments: dict\n",
    "\n",
    "class AgentResponse(BaseModel):\n",
    "    answer: str\n",
    "    tool_calls: List[ToolCall] = Field(default_factory=list)\n",
    "\n",
    "class State(BaseModel):\n",
    "    messages: Annotated[List[Any], add] = []\n",
    "    message: str = \"\"\n",
    "    iteration: int = Field(default=0)\n",
    "    answer: str = \"\"\n",
    "    available_tools: List[Dict[str, Any]] = []\n",
    "    tool_calls: List[ToolCall] = Field(default_factory=list)"
   ]
  },
  {
   "cell_type": "code",
   "execution_count": 25,
   "id": "0a31ea45",
   "metadata": {},
   "outputs": [],
   "source": [
    "def agent_node(state: State) -> dict:\n",
    "\n",
    "   prompt_template =  \"\"\"You are a assistant that is generating vibes for a user.\n",
    "\n",
    "You will be given a selection of tools you can use to add vibes to a user's query.\n",
    "\n",
    "<Available tools>\n",
    "{{ available_tools | tojson }}\n",
    "</Available tools>\n",
    "\n",
    "When you need to use a tool, format your response as:\n",
    "\n",
    "<tool_call>\n",
    "{\"name\": \"tool_name\", \"arguments\": {...}}\n",
    "</tool_call>\n",
    "\n",
    "Instructions:\n",
    "- You need to use the tools to add vibes to the user's query.\n",
    "- Add a random vibe to the user's query.\n",
    "\"\"\"\n",
    "\n",
    "   template = Template(prompt_template)\n",
    "   \n",
    "   prompt = template.render(\n",
    "      available_tools=state.available_tools\n",
    "   )\n",
    "\n",
    "   client = instructor.from_openai(OpenAI())\n",
    "\n",
    "   response, raw_response = client.chat.completions.create_with_completion(\n",
    "        model=\"gpt-4.1-mini\",\n",
    "        response_model=AgentResponse,\n",
    "        messages=[{\"role\": \"system\", \"content\": prompt}, {\"role\": \"user\", \"content\": state.message}],\n",
    "        temperature=0.5,\n",
    "   )\n",
    "\n",
    "   if response.tool_calls:\n",
    "      tool_calls = []\n",
    "      for i, tc in enumerate(response.tool_calls):\n",
    "         tool_calls.append({\n",
    "               \"id\": f\"call_{i}\",\n",
    "               \"name\": tc.name,\n",
    "               \"args\": tc.arguments\n",
    "         })\n",
    "\n",
    "      ai_message = AIMessage(\n",
    "         content=response.answer,\n",
    "         tool_calls=tool_calls\n",
    "         )\n",
    "   else:\n",
    "      ai_message = AIMessage(\n",
    "         content=response.answer,\n",
    "      )\n",
    "\n",
    "   return {\n",
    "      \"messages\": [ai_message],\n",
    "      \"tool_calls\": response.tool_calls\n",
    "   }"
   ]
  },
  {
   "cell_type": "code",
   "execution_count": 26,
   "id": "b8dcdf12",
   "metadata": {},
   "outputs": [],
   "source": [
    "def tool_router(state: State) -> str:\n",
    "    \"\"\"\n",
    "    Determines whether the workflow should continue or end\"\"\"\n",
    "\n",
    "    if len(state.tool_calls) > 0:\n",
    "        return \"tools\"\n",
    "    else:\n",
    "        return \"end\""
   ]
  },
  {
   "cell_type": "code",
   "execution_count": 27,
   "id": "fcca33b8",
   "metadata": {},
   "outputs": [
    {
     "data": {
      "image/png": "[encoded data removed]",
      "text/plain": [
       "<IPython.core.display.Image object>"
      ]
     },
     "metadata": {},
     "output_type": "display_data"
    }
   ],
   "source": [
    "workflow = StateGraph(State)\n",
    "\n",
    "tools = [append_vibes]\n",
    "tool_node = ToolNode(tools)\n",
    "\n",
    "tool_descriptions = get_tool_descriptions_from_node(tool_node)\n",
    "\n",
    "workflow.add_node(\"agent node\", agent_node)\n",
    "workflow.add_node(\"tool_node\", tool_node)\n",
    "\n",
    "workflow.add_edge(START, \"agent node\")\n",
    "workflow.add_conditional_edges(\n",
    "    \"agent node\", \n",
    "    tool_router,\n",
    "    {\n",
    "        \"tools\": \"tool_node\", \n",
    "        \"end\": END\n",
    "    }\n",
    ")\n",
    "\n",
    "graph = workflow.compile()\n",
    "\n",
    "display(Image(graph.get_graph().draw_mermaid_png()))\n"
   ]
  },
  {
   "cell_type": "code",
   "execution_count": 28,
   "id": "522b8b95",
   "metadata": {},
   "outputs": [
    {
     "data": {
      "text/plain": [
       "[{'name': 'append_vibes',\n",
       "  'description': 'It takes in a query and a vibe and returns a string with the query and vibe appended.',\n",
       "  'parameters': {'type': 'object',\n",
       "   'properties': {'query': {'type': 'string',\n",
       "     'description': 'The query to append the vibe to.'},\n",
       "    'vibe': {'type': 'string',\n",
       "     'description': 'The vibe to append to the query.'}}},\n",
       "  'required': ['query', 'vibe'],\n",
       "  'returns': {'type': 'string',\n",
       "   'description': 'A string with the query and vibe appended.'}}]"
      ]
     },
     "execution_count": 28,
     "metadata": {},
     "output_type": "execute_result"
    }
   ],
   "source": [
    "tool_descriptions"
   ]
  },
  {
   "cell_type": "code",
   "execution_count": 29,
   "id": "ecc887a6",
   "metadata": {},
   "outputs": [
    {
     "name": "stdout",
     "output_type": "stream",
     "text": [
      "Give me some vibes! chill and positive\n"
     ]
    }
   ],
   "source": [
    "initial_state = {\n",
    "    \"message\": \"Give me some vibes!\",\n",
    "    \"available_tools\": tool_descriptions\n",
    "}\n",
    "result = graph.invoke(initial_state)"
   ]
  },
  {
   "cell_type": "code",
   "execution_count": 30,
   "id": "730701e9",
   "metadata": {},
   "outputs": [
    {
     "name": "stdout",
     "output_type": "stream",
     "text": [
      "content=\"Here's a vibe for you!\" additional_kwargs={} response_metadata={} tool_calls=[{'name': 'append_vibes', 'args': {'query': 'Give me some vibes!', 'vibe': 'chill and positive'}, 'id': 'call_0', 'type': 'tool_call'}]\n",
      "content='Give me some vibes! chill and positive' name='append_vibes' tool_call_id='call_0'\n"
     ]
    }
   ],
   "source": [
    "for data in result[\"messages\"]:\n",
    "    print(data)"
   ]
  },
  {
   "cell_type": "markdown",
   "id": "c2329903",
   "metadata": {},
   "source": [
    "## Agent Graph with Loopback from Tools"
   ]
  },
  {
   "cell_type": "code",
   "execution_count": 31,
   "id": "c6367e33",
   "metadata": {},
   "outputs": [],
   "source": [
    "def append_vibes(query: str, vibe: str) -> str:\n",
    "    \"\"\"\n",
    "    It takes in a query and a vibe and returns a string with the query and vibe appended.\n",
    "    \n",
    "    Args:\n",
    "        query: The query to append the vibe to.\n",
    "        vibe: The vibe to append to the query.\n",
    "\n",
    "    Returns:\n",
    "        A string with the query and vibe appended.\n",
    "    \"\"\"\n",
    "\n",
    "\n",
    "    print(f\"{query} {vibe}\")\n",
    "    return f\"{query} {vibe}\""
   ]
  },
  {
   "cell_type": "code",
   "execution_count": 32,
   "id": "2f84cb68",
   "metadata": {},
   "outputs": [],
   "source": [
    "class ToolCall(BaseModel):\n",
    "    name: str\n",
    "    arguments: dict\n",
    "\n",
    "class AgentResponse(BaseModel):\n",
    "    answer: str\n",
    "    tool_calls: List[ToolCall] = Field(default_factory=list)\n",
    "\n",
    "class State(BaseModel):\n",
    "    messages: Annotated[List[Any], add] = []\n",
    "    message: str = \"\"\n",
    "    iteration: int = Field(default=0)\n",
    "    answer: str = \"\"\n",
    "    available_tools: List[Dict[str, Any]] = []\n",
    "    tool_calls: List[ToolCall] = Field(default_factory=list)"
   ]
  },
  {
   "cell_type": "code",
   "execution_count": 33,
   "id": "fa3ead63",
   "metadata": {},
   "outputs": [],
   "source": [
    "def lc_messages_to_regular_messages(msg):\n",
    "    \"\"\"Transforms LangChain messages to OpenAi compatible message format.\"\"\"\n",
    "\n",
    "    if isinstance(msg, dict):\n",
    "        \n",
    "        if msg.get(\"role\") == \"user\":\n",
    "            return {\"role\": \"user\", \"content\": msg[\"content\"]}\n",
    "        elif msg.get(\"role\") == \"assistant\":\n",
    "            return {\"role\": \"assistant\", \"content\": msg[\"content\"]}\n",
    "        elif msg.get(\"role\") == \"tool\":\n",
    "            return {\n",
    "                \"role\": \"tool\", \n",
    "                \"content\": msg[\"content\"], \n",
    "                \"tool_call_id\": msg.get(\"tool_call_id\")\n",
    "            }\n",
    "        \n",
    "    elif isinstance(msg, AIMessage):\n",
    "\n",
    "        result = {\n",
    "            \"role\": \"assistant\",\n",
    "            \"content\": msg.content\n",
    "        }\n",
    "        \n",
    "        if hasattr(msg, 'tool_calls') and msg.tool_calls and len(msg.tool_calls) > 0 and not msg.tool_calls[0].get(\"name\").startswith(\"functions.\"):\n",
    "            result[\"tool_calls\"] = [\n",
    "                {\n",
    "                    \"id\": tc[\"id\"],\n",
    "                    \"type\": \"function\",\n",
    "                    \"function\": {\n",
    "                        \"name\": tc[\"name\"].replace(\"functions.\", \"\"),\n",
    "                        \"arguments\": json.dumps(tc[\"args\"])\n",
    "                    }\n",
    "                }\n",
    "                for tc in msg.tool_calls\n",
    "            ]\n",
    "            \n",
    "        return result\n",
    "    \n",
    "    elif isinstance(msg, ToolMessage):\n",
    "\n",
    "        return {\"role\": \"tool\", \"content\": msg.content, \"tool_call_id\": msg.tool_call_id}\n",
    "    \n",
    "    else:\n",
    "\n",
    "        return {\"role\": \"user\", \"content\": str(msg)}"
   ]
  },
  {
   "cell_type": "code",
   "execution_count": null,
   "id": "0fefecc5",
   "metadata": {},
   "outputs": [],
   "source": [
    "def agent_node(state: State) -> dict:\n",
    "\n",
    "   prompt_template =  \"\"\"You are a assistant that is generating vibes for a user.\n",
    "\n",
    "You will be given a selection of tools you can use to add vibes to a user's query.\n",
    "\n",
    "<Available tools>\n",
    "{{ available_tools | tojson }}\n",
    "</Available tools>\n",
    "\n",
    "When you need to use a tool, format your response as:\n",
    "\n",
    "<tool_call>\n",
    "{\"name\": \"tool_name\", \"arguments\": {...}}\n",
    "</tool_call>\n",
    "\n",
    "Instructions:\n",
    "- You need to use the tools to add vibes to the user's query.\n",
    "- Add a random vibe to the user's query.\n",
    "- Once you have the vibe from the tool, return it as an answer, you can reformulate it a bit.\n",
    "\"\"\"\n",
    "\n",
    "   template = Template(prompt_template)\n",
    "   \n",
    "   prompt = template.render(\n",
    "      available_tools=state.available_tools\n",
    "   )\n",
    "\n",
    "   messages = state.messages\n",
    "\n",
    "   conversation = []\n",
    "\n",
    "   for msg in messages:\n",
    "      conversation.append(lc_messages_to_regular_messages(msg))\n",
    "\n",
    "   client = instructor.from_openai(OpenAI())\n",
    "\n",
    "   response, raw_response = client.chat.completions.create_with_completion(\n",
    "        model=\"gpt-4.1-mini\",\n",
    "        response_model=AgentResponse,\n",
    "        messages=[{\"role\": \"system\", \"content\": prompt}, *conversation],\n",
    "        temperature=0.5,\n",
    "   )\n",
    "\n",
    "   if response.tool_calls:\n",
    "      tool_calls = []\n",
    "      for i, tc in enumerate(response.tool_calls):\n",
    "         tool_calls.append({\n",
    "               \"id\": f\"call_{i}\",\n",
    "               \"name\": tc.name,\n",
    "               \"args\": tc.arguments\n",
    "         })\n",
    "\n",
    "      ai_message = AIMessage(\n",
    "         content=response.answer,\n",
    "         tool_calls=tool_calls\n",
    "         )\n",
    "   else:\n",
    "      ai_message = AIMessage(\n",
    "         content=response.answer,\n",
    "      )\n",
    "\n",
    "   return {\n",
    "      \"messages\": [ai_message],\n",
    "      \"tool_calls\": response.tool_calls,\n",
    "      \"iteration\": state.iteration + 1,\n",
    "      \"answer\": response.answer\n",
    "   }"
   ]
  },
  {
   "cell_type": "code",
   "execution_count": 39,
   "id": "0ca8a0aa",
   "metadata": {},
   "outputs": [],
   "source": [
    "def tool_router(state: State) -> str:\n",
    "    \"\"\"Decide whether to continue or end\"\"\"\n",
    "    \n",
    "    if state.iteration > 1:\n",
    "        return \"end\"\n",
    "    elif len(state.tool_calls) > 0:\n",
    "        return \"tools\"\n",
    "    else:\n",
    "        return \"end\""
   ]
  },
  {
   "cell_type": "code",
   "execution_count": 40,
   "id": "35d9cdc3",
   "metadata": {},
   "outputs": [],
   "source": [
    "workflow = StateGraph(State)\n",
    "\n",
    "tools = [append_vibes]\n",
    "tool_node = ToolNode(tools)\n",
    "\n",
    "tool_descriptions = get_tool_descriptions_from_node(tool_node)\n",
    "\n",
    "workflow.add_node(\"agent node\", agent_node)\n",
    "workflow.add_node(\"tool_node\", tool_node)   \n",
    "\n",
    "workflow.add_edge(START, \"agent node\")\n",
    "\n",
    "workflow.add_conditional_edges(\n",
    "    \"agent node\", \n",
    "    tool_router,\n",
    "    {\n",
    "        \"tools\": \"tool_node\", \n",
    "        \"end\": END\n",
    "    }\n",
    ")\n",
    "\n",
    "workflow.add_edge(\"tool_node\", \"agent node\")\n",
    "\n",
    "graph = workflow.compile()"
   ]
  },
  {
   "cell_type": "code",
   "execution_count": 41,
   "id": "9969be78",
   "metadata": {},
   "outputs": [
    {
     "data": {
      "image/png": "[encoded data removed]",
      "text/plain": [
       "<IPython.core.display.Image object>"
      ]
     },
     "metadata": {},
     "output_type": "display_data"
    }
   ],
   "source": [
    "display(Image(graph.get_graph().draw_mermaid_png()))"
   ]
  },
  {
   "cell_type": "code",
   "execution_count": 42,
   "id": "758223e0",
   "metadata": {},
   "outputs": [
    {
     "name": "stdout",
     "output_type": "stream",
     "text": [
      "Give me some vibes! chill and upbeat\n"
     ]
    }
   ],
   "source": [
    "initial_state = {\n",
    "    \"messages\": [{\"role\": \"user\", \"content\": \"Give me some vibes!\"}],\n",
    "    \"available_tools\": tool_descriptions\n",
    "}\n",
    "result = graph.invoke(initial_state)"
   ]
  },
  {
   "cell_type": "code",
   "execution_count": 43,
   "id": "b3a4d5d8",
   "metadata": {},
   "outputs": [
    {
     "data": {
      "text/plain": [
       "{'messages': [{'role': 'user', 'content': 'Give me some vibes!'},\n",
       "  AIMessage(content='', additional_kwargs={}, response_metadata={}, tool_calls=[{'name': 'append_vibes', 'args': {'query': 'Give me some vibes!', 'vibe': 'chill and upbeat'}, 'id': 'call_0', 'type': 'tool_call'}]),\n",
       "  ToolMessage(content='Give me some vibes! chill and upbeat', name='append_vibes', tool_call_id='call_0'),\n",
       "  AIMessage(content='Here are some vibes for you: chill and upbeat!', additional_kwargs={}, response_metadata={})],\n",
       " 'iteration': 2,\n",
       " 'answer': 'Here are some vibes for you: chill and upbeat!',\n",
       " 'available_tools': [{'name': 'append_vibes',\n",
       "   'description': 'It takes in a query and a vibe and returns a string with the query and vibe appended.',\n",
       "   'parameters': {'type': 'object',\n",
       "    'properties': {'query': {'type': 'string',\n",
       "      'description': 'The query to append the vibe to.'},\n",
       "     'vibe': {'type': 'string',\n",
       "      'description': 'The vibe to append to the query.'}}},\n",
       "   'required': ['query', 'vibe'],\n",
       "   'returns': {'type': 'string',\n",
       "    'description': 'A string with the query and vibe appended.'}}],\n",
       " 'tool_calls': []}"
      ]
     },
     "execution_count": 43,
     "metadata": {},
     "output_type": "execute_result"
    }
   ],
   "source": [
    "result"
   ]
  },
  {
   "cell_type": "code",
   "execution_count": null,
   "id": "c4a2a0ac",
   "metadata": {},
   "outputs": [],
   "source": []
  }
 ],
 "metadata": {
  "kernelspec": {
   "display_name": "ai-engineering-bootcamp-sL1ZxK4x-py3.12",
   "language": "python",
   "name": "python3"
  },
  "language_info": {
   "codemirror_mode": {
    "name": "ipython",
    "version": 3
   },
   "file_extension": ".py",
   "mimetype": "text/x-python",
   "name": "python",
   "nbconvert_exporter": "python",
   "pygments_lexer": "ipython3",
   "version": "3.12.3"
  }
 },
 "nbformat": 4,
 "nbformat_minor": 5
}
