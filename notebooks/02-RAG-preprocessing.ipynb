{
 "cells": [
  {
   "cell_type": "code",
   "execution_count": null,
   "id": "5340e8a7",
   "metadata": {},
   "outputs": [],
   "source": [
    "from qdrant_client import QdrantClient\n",
    "from qdrant_client.models import Distance, VectorParams, PointStruct\n",
    "\n",
    "import pandas as pd"
   ]
  },
  {
   "cell_type": "code",
   "execution_count": null,
   "id": "6e65df0f",
   "metadata": {},
   "outputs": [],
   "source": [
    "qdrant_client = QdrantClient(\n",
    "    url=\"http://localhost:6333\"\n",
    ")"
   ]
  },
  {
   "cell_type": "code",
   "execution_count": null,
   "id": "0d79f362",
   "metadata": {},
   "outputs": [],
   "source": [
    "qdrant_client.create_collection(\n",
    "    collection_name=\"Amazon-items-collection-00\",\n",
    "    vectors_config=VectorParams(size=1536, distance=Distance.COSINE))"
   ]
  },
  {
   "cell_type": "code",
   "execution_count": null,
   "id": "8bfc017c",
   "metadata": {},
   "outputs": [],
   "source": [
    "df_items = pd.read_json('../data/meta_Electronics_2022_2023_with_category_ratings_100_sample_1000.jsonl', lines=True)"
   ]
  },
  {
   "cell_type": "markdown",
   "id": "848329ea",
   "metadata": {},
   "source": [
    "### Concatenate title and featues"
   ]
  },
  {
   "cell_type": "code",
   "execution_count": null,
   "id": "fd04a12f",
   "metadata": {},
   "outputs": [],
   "source": [
    "def preprocess_data(row):\n",
    "    return f\"{row['title']} {''.join(row['features'])}\""
   ]
  },
  {
   "cell_type": "code",
   "execution_count": null,
   "id": "6488c1c9",
   "metadata": {},
   "outputs": [],
   "source": [
    "df_items[\"preprocessed_data\"] = df_items.apply(preprocess_data, axis=1)"
   ]
  },
  {
   "cell_type": "code",
   "execution_count": null,
   "id": "8092b754",
   "metadata": {},
   "outputs": [],
   "source": [
    "# df_items.head(2)"
   ]
  },
  {
   "cell_type": "markdown",
   "id": "7d3fe27c",
   "metadata": {},
   "source": [
    "### Sample 50 items "
   ]
  },
  {
   "cell_type": "code",
   "execution_count": null,
   "id": "865d895c",
   "metadata": {},
   "outputs": [],
   "source": [
    "df_sample = df_items.sample(50, random_state=42)"
   ]
  },
  {
   "cell_type": "markdown",
   "id": "a5f64161",
   "metadata": {},
   "source": [
    "### Embedding function"
   ]
  },
  {
   "cell_type": "code",
   "execution_count": null,
   "id": "5e7cbaec",
   "metadata": {},
   "outputs": [],
   "source": [
    "import openai\n",
    "from dotenv import load_dotenv\n",
    "import os\n",
    "\n",
    "load_dotenv()\n",
    "openai.api_key = os.getenv(\"OPENAI_API_KEY\")"
   ]
  },
  {
   "cell_type": "code",
   "execution_count": null,
   "id": "5b5a6504",
   "metadata": {},
   "outputs": [],
   "source": [
    "def get_embedding(text, model=\"text-embedding-3-small\"):\n",
    "    response = openai.embeddings.create(\n",
    "        input=[text],\n",
    "        model=model\n",
    "    )\n",
    "    return response.data[0].embedding"
   ]
  },
  {
   "cell_type": "markdown",
   "id": "deaec965",
   "metadata": {},
   "source": [
    "### Embed data"
   ]
  },
  {
   "cell_type": "code",
   "execution_count": null,
   "id": "3ef4fee9",
   "metadata": {},
   "outputs": [],
   "source": [
    "data_to_emded = df_sample[\"preprocessed_data\"].tolist()\n",
    "pointstructs = []\n",
    "for i, data in enumerate(data_to_emded):\n",
    "    embedding = get_embedding(data)\n",
    "    pointstructs.append(\n",
    "        PointStruct(\n",
    "        id=i,\n",
    "        vector=embedding,\n",
    "        payload={\"text\": data}\n",
    "    )\n",
    ")"
   ]
  },
  {
   "cell_type": "code",
   "execution_count": null,
   "id": "18f96e03",
   "metadata": {},
   "outputs": [],
   "source": [
    "# pointstructs"
   ]
  },
  {
   "cell_type": "markdown",
   "id": "3721fce5",
   "metadata": {},
   "source": [
    "### Write embedded data to Qdrant"
   ]
  },
  {
   "cell_type": "code",
   "execution_count": null,
   "id": "91f102ee",
   "metadata": {},
   "outputs": [],
   "source": [
    "qdrant_client.upsert(\n",
    "    collection_name=\"Amazon-items-collection-00\",\n",
    "    wait=True,\n",
    "    points=pointstructs\n",
    ")"
   ]
  },
  {
   "cell_type": "markdown",
   "id": "efb8def5",
   "metadata": {},
   "source": [
    "### Function for data retrieval"
   ]
  },
  {
   "cell_type": "code",
   "execution_count": null,
   "id": "baaee933",
   "metadata": {},
   "outputs": [],
   "source": [
    "def retrieve_data(query):\n",
    "    query_embedding = get_embedding(query)\n",
    "    results = qdrant_client.query_points(\n",
    "        collection_name=\"Amazon-items-collection-00\",\n",
    "        query=query_embedding,\n",
    "        limit=10\n",
    "    )\n",
    "    return results"
   ]
  },
  {
   "cell_type": "code",
   "execution_count": null,
   "id": "e79a3700",
   "metadata": {},
   "outputs": [],
   "source": [
    "try:\n",
    "    qdrant_client.get_collections()\n",
    "    print(\"Qdrant is up!\")\n",
    "except Exception as e:\n",
    "    print(f\"Connection failed: {e}\")"
   ]
  },
  {
   "cell_type": "code",
   "execution_count": null,
   "id": "f2cd64a8",
   "metadata": {},
   "outputs": [],
   "source": [
    "retrieve_data(\"What earphones can I get?\").points"
   ]
  },
  {
   "cell_type": "code",
   "execution_count": null,
   "id": "2712367e",
   "metadata": {},
   "outputs": [],
   "source": []
  }
 ],
 "metadata": {
  "kernelspec": {
   "display_name": "ai-engineering-bootcamp-sL1ZxK4x-py3.12",
   "language": "python",
   "name": "python3"
  },
  "language_info": {
   "codemirror_mode": {
    "name": "ipython",
    "version": 3
   },
   "file_extension": ".py",
   "mimetype": "text/x-python",
   "name": "python",
   "nbconvert_exporter": "python",
   "pygments_lexer": "ipython3",
   "version": "3.12.3"
  }
 },
 "nbformat": 4,
 "nbformat_minor": 5
}
