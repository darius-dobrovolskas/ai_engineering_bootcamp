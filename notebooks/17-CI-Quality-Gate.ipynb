{
 "cells": [
  {
   "cell_type": "code",
   "execution_count": 1,
   "id": "df59ee8d",
   "metadata": {},
   "outputs": [],
   "source": [
    "from pydantic import BaseModel, Field\n",
    "from typing import List\n",
    "import instructor\n",
    "from openai import OpenAI\n",
    "from langchain_core.messages import AIMessage, ToolMessage\n",
    "\n",
    "import json\n",
    "\n",
    "from typing import List, Dict, Any, Annotated, Optional\n",
    "from operator import add\n",
    "from jinja2 import Template"
   ]
  },
  {
   "cell_type": "markdown",
   "id": "c04c519e",
   "metadata": {},
   "source": [
    "### Coordinator Agent"
   ]
  },
  {
   "cell_type": "code",
   "execution_count": 2,
   "id": "43e470d0",
   "metadata": {},
   "outputs": [],
   "source": [
    "def lc_messages_to_regular_messages(msg):\n",
    "\n",
    "    if isinstance(msg, dict):\n",
    "        \n",
    "        if msg.get(\"role\") == \"user\":\n",
    "            return {\"role\": \"user\", \"content\": msg[\"content\"]}\n",
    "        elif msg.get(\"role\") == \"assistant\":\n",
    "            return {\"role\": \"assistant\", \"content\": msg[\"content\"]}\n",
    "        elif msg.get(\"role\") == \"tool\":\n",
    "            return {\n",
    "                \"role\": \"tool\", \n",
    "                \"content\": msg[\"content\"], \n",
    "                \"tool_call_id\": msg.get(\"tool_call_id\")\n",
    "            }\n",
    "        \n",
    "    elif isinstance(msg, AIMessage):\n",
    "\n",
    "        result = {\n",
    "            \"role\": \"assistant\",\n",
    "            \"content\": msg.content\n",
    "        }\n",
    "        \n",
    "        if hasattr(msg, 'tool_calls') and msg.tool_calls and len(msg.tool_calls) > 0 and not msg.tool_calls[0].get(\"name\").startswith(\"functions.\"):\n",
    "            result[\"tool_calls\"] = [\n",
    "                {\n",
    "                    \"id\": tc[\"id\"],\n",
    "                    \"type\": \"function\",\n",
    "                    \"function\": {\n",
    "                        \"name\": tc[\"name\"].replace(\"functions.\", \"\"),\n",
    "                        \"arguments\": json.dumps(tc[\"args\"])\n",
    "                    }\n",
    "                }\n",
    "                for tc in msg.tool_calls\n",
    "            ]\n",
    "            \n",
    "        return result\n",
    "    \n",
    "    elif isinstance(msg, ToolMessage):\n",
    "\n",
    "        return {\"role\": \"tool\", \"content\": msg.content, \"tool_call_id\": msg.tool_call_id}\n",
    "    \n",
    "    else:\n",
    "\n",
    "        return {\"role\": \"user\", \"content\": str(msg)}"
   ]
  },
  {
   "cell_type": "code",
   "execution_count": 3,
   "id": "078135e7",
   "metadata": {},
   "outputs": [],
   "source": [
    "class Delegation(BaseModel):\n",
    "    agent: str\n",
    "    task: str = Field(default=\"\")\n",
    "\n",
    "\n",
    "class CoordinatorAgentResponse(BaseModel):\n",
    "    next_agent: str\n",
    "    plan: list[Delegation]\n",
    "    final_answer: bool = Field(default=False)\n",
    "    answer: str\n",
    "\n",
    "\n",
    "class MCPToolCall(BaseModel):\n",
    "    name: str\n",
    "    arguments: dict\n",
    "    server: str\n",
    "\n",
    "class ToolCall(BaseModel):\n",
    "    name: str\n",
    "    arguments: dict\n",
    "\n",
    "\n",
    "class RAGUsedContext(BaseModel):\n",
    "    id: str\n",
    "    description: str\n",
    "\n",
    "\n",
    "class State(BaseModel):\n",
    "    messages: Annotated[List[Any], add] = []\n",
    "    answer: str = \"\"\n",
    "    product_qa_iteration: int = Field(default=0)\n",
    "    shopping_cart_iteration: int = Field(default=0)\n",
    "    coordinator_iteration: int = Field(default=0)\n",
    "    product_qa_final_answer: bool = Field(default=False)\n",
    "    shopping_cart_final_answer: bool = Field(default=False)\n",
    "    coordinator_final_answer: bool = Field(default=False)\n",
    "    product_qa_available_tools: List[Dict[str, Any]] = []\n",
    "    shopping_cart_available_tools: List[Dict[str, Any]] = []\n",
    "    mcp_tool_calls: Optional[List[MCPToolCall]] = Field(default_factory=list)\n",
    "    tool_calls: Optional[List[ToolCall]] = Field(default_factory=list)\n",
    "    retrieved_context_ids: List[RAGUsedContext] = []\n",
    "    trace_id: str = \"\"\n",
    "    user_id: str = \"\"\n",
    "    cart_id: str = \"\"\n",
    "    plan: list[Delegation] = Field(default_factory=list)\n",
    "    next_agent: str = \"\""
   ]
  },
  {
   "cell_type": "code",
   "execution_count": 4,
   "id": "99922076",
   "metadata": {},
   "outputs": [],
   "source": [
    "### Coordinator Agent ###\n",
    "def coordinator_agent_node(state) -> dict:\n",
    "\n",
    "    prompt_template = \"\"\"You are a Coordinator Agent as part of a shopping assistant.\n",
    "\n",
    "Your role is to create plans for solving user queries and delegate the tasks accordingly.\n",
    "You will be given a conversation history, your task is to create a plan for solving the user's query.\n",
    "After the plan is created, you should output the next agent to invoke and the task to be performed by that agent.\n",
    "Once an agent finishes its task, you will be handed the control back, you should then review the conversation history and revise the plan.\n",
    "If there is a sequence of tasks to be performed by a single agent, you should combine them into a single task.\n",
    "\n",
    "The possible agents are:\n",
    "\n",
    "- product_qa_agent: The user is asking a question about a product. This can be a question about available products, their specifications, user reviews etc.\n",
    "- shopping_cart_agent: The user is asking to add or remove items from the shopping cart or questions about the current shopping cart.\n",
    "\n",
    "CRITICAL RULES:\n",
    "- If next_agent is \"\", final_answer MUST be false\n",
    "(You cannot delegate the task to an agent and return to the user in the same response)\n",
    "- If final_answer is true, next_agent MUST be \"\"\n",
    "(You must wait for agent results before returning to user)\n",
    "- If you need to call other agents before answering, set:\n",
    "next_agent=\"...\", final_answer=false\n",
    "- After receiving agent results, you can then set:\n",
    "next_agent=\"\", final_answer=true\n",
    "\n",
    "Additional instructions:\n",
    "\n",
    "- Write the plan to the plan field.\n",
    "- Write the next agent to invoke to the next_agent field.\n",
    "- Once you have all the information needed to answer the user's query, you should set the final_answer field to True and output the answer to the user's query.\n",
    "- The final answer to the user query should be a comprehensive answer that explains the actions that were performed to answer the query.\n",
    "- Never set final_answer to true if the plan is not complete.\n",
    "- You should output the next_agent field as well as the plan field.\n",
    "\"\"\"\n",
    "\n",
    "    prompt = Template(prompt_template).render()\n",
    "\n",
    "    messages = state.messages\n",
    "\n",
    "    conversation = []\n",
    "\n",
    "    for msg in messages:\n",
    "        conversation.append(lc_messages_to_regular_messages(msg))\n",
    "\n",
    "    client = instructor.from_openai(OpenAI())\n",
    "\n",
    "    response, raw_response = client.chat.completions.create_with_completion(\n",
    "        model=\"gpt-4.1\",\n",
    "        response_model=CoordinatorAgentResponse,\n",
    "        messages=[{\"role\": \"system\", \"content\": prompt}, *conversation],\n",
    "        temperature=0,\n",
    "    )\n",
    "\n",
    "    if response.final_answer:\n",
    "        ai_message = [AIMessage(\n",
    "            content=response.answer,\n",
    "        )]\n",
    "    else:\n",
    "        ai_message = []\n",
    "\n",
    "    return {\n",
    "        \"messages\": ai_message,\n",
    "        \"answer\": response.answer,\n",
    "        \"next_agent\": response.next_agent,\n",
    "        \"plan\": response.plan,\n",
    "        \"coordinator_final_answer\": response.final_answer,\n",
    "        \"coordinator_iteration\": state.coordinator_iteration + 1,\n",
    "        \"trace_id\": \"\"\n",
    "    }"
   ]
  },
  {
   "cell_type": "markdown",
   "id": "ea1f6c76",
   "metadata": {},
   "source": [
    "### Run Evaluations"
   ]
  },
  {
   "cell_type": "code",
   "execution_count": 5,
   "id": "580f9cc5",
   "metadata": {},
   "outputs": [],
   "source": [
    "from langsmith import Client\n",
    "import os\n",
    "\n",
    "ls_client = Client(api_key=os.environ[\"LANGSMITH_API_KEY\"])"
   ]
  },
  {
   "cell_type": "code",
   "execution_count": 6,
   "id": "4605dff6",
   "metadata": {},
   "outputs": [],
   "source": [
    "def next_agent_evaluator(run, example):\n",
    "\n",
    "    next_agent_match = run.outputs[\"next_agent\"] == example.outputs[\"next_agent\"]\n",
    "    final_answer_match = run.outputs[\"coordinator_final_answer\"] == example.outputs[\"coordinator_final_answer\"]\n",
    "\n",
    "    return next_agent_match and final_answer_match"
   ]
  },
  {
   "cell_type": "code",
   "execution_count": 7,
   "id": "83cd0d93",
   "metadata": {},
   "outputs": [
    {
     "name": "stderr",
     "output_type": "stream",
     "text": [
      "c:\\Users\\dariu\\AppData\\Local\\pypoetry\\Cache\\virtualenvs\\ai-engineering-bootcamp-sL1ZxK4x-py3.12\\Lib\\site-packages\\tqdm\\auto.py:21: TqdmWarning: IProgress not found. Please update jupyter and ipywidgets. See https://ipywidgets.readthedocs.io/en/stable/user_install.html\n",
      "  from .autonotebook import tqdm as notebook_tqdm\n"
     ]
    },
    {
     "name": "stdout",
     "output_type": "stream",
     "text": [
      "View the evaluation results for experiment: 'coordinator-evaluation-dataset-824fad26' at:\n",
      "https://smith.langchain.com/o/f2b80717-fdb4-4945-be11-e3132342ecc2/datasets/c9e60db3-3135-445c-ac45-46c304a189c0/compare?selectedSessions=dffe1aaa-ee93-497c-9981-6a97d32c901c\n",
      "\n",
      "\n"
     ]
    },
    {
     "name": "stderr",
     "output_type": "stream",
     "text": [
      "10it [00:21,  2.17s/it]\n"
     ]
    }
   ],
   "source": [
    "results = ls_client.evaluate(\n",
    "    lambda x: coordinator_agent_node(State(messages=x[\"messages\"])),\n",
    "    data=\"coordinator-evaluation-dataset\",\n",
    "    evaluators=[\n",
    "        next_agent_evaluator\n",
    "    ],\n",
    "    experiment_prefix=\"coordinator-evaluation-dataset\"\n",
    ")"
   ]
  },
  {
   "cell_type": "markdown",
   "id": "b48def0a",
   "metadata": {},
   "source": [
    "### Extract Eval Results"
   ]
  },
  {
   "cell_type": "code",
   "execution_count": 8,
   "id": "e0f71969",
   "metadata": {},
   "outputs": [
    {
     "data": {
      "text/plain": [
       "'coordinator-evaluation-dataset-824fad26'"
      ]
     },
     "execution_count": 8,
     "metadata": {},
     "output_type": "execute_result"
    }
   ],
   "source": [
    "results.experiment_name"
   ]
  },
  {
   "cell_type": "code",
   "execution_count": 12,
   "id": "b2e62dac",
   "metadata": {},
   "outputs": [
    {
     "data": {
      "text/html": [
       "<div>\n",
       "<style scoped>\n",
       "    .dataframe tbody tr th:only-of-type {\n",
       "        vertical-align: middle;\n",
       "    }\n",
       "\n",
       "    .dataframe tbody tr th {\n",
       "        vertical-align: top;\n",
       "    }\n",
       "\n",
       "    .dataframe thead th {\n",
       "        text-align: right;\n",
       "    }\n",
       "</style>\n",
       "<table border=\"1\" class=\"dataframe\">\n",
       "  <thead>\n",
       "    <tr style=\"text-align: right;\">\n",
       "      <th></th>\n",
       "      <th>inputs.messages</th>\n",
       "      <th>outputs.messages</th>\n",
       "      <th>outputs.answer</th>\n",
       "      <th>outputs.next_agent</th>\n",
       "      <th>outputs.plan</th>\n",
       "      <th>outputs.coordinator_final_answer</th>\n",
       "      <th>outputs.coordinator_iteration</th>\n",
       "      <th>outputs.trace_id</th>\n",
       "      <th>error</th>\n",
       "      <th>reference.next_agent</th>\n",
       "      <th>reference.coordinator_final_answer</th>\n",
       "      <th>feedback.next_agent_evaluator</th>\n",
       "      <th>execution_time</th>\n",
       "      <th>example_id</th>\n",
       "      <th>id</th>\n",
       "    </tr>\n",
       "  </thead>\n",
       "  <tbody>\n",
       "    <tr>\n",
       "      <th>0</th>\n",
       "      <td>[{'role': 'user', 'content': 'Can you add two,...</td>\n",
       "      <td>[]</td>\n",
       "      <td>I will first look for two red tablets that are...</td>\n",
       "      <td>product_qa_agent</td>\n",
       "      <td>[agent='product_qa_agent' task='Find two red t...</td>\n",
       "      <td>False</td>\n",
       "      <td>1</td>\n",
       "      <td></td>\n",
       "      <td>None</td>\n",
       "      <td>product_qa_agent</td>\n",
       "      <td>False</td>\n",
       "      <td>True</td>\n",
       "      <td>2.474011</td>\n",
       "      <td>df9233de-4117-404b-bb37-4147664e696e</td>\n",
       "      <td>3b90f129-58e1-4327-aa0f-54e6c7e8b184</td>\n",
       "    </tr>\n",
       "    <tr>\n",
       "      <th>1</th>\n",
       "      <td>[{'role': 'user', 'content': 'Can you help me ...</td>\n",
       "      <td>[]</td>\n",
       "      <td>To assist you with your order, I need more inf...</td>\n",
       "      <td>shopping_cart_agent</td>\n",
       "      <td>[agent='shopping_cart_agent' task='Ask the use...</td>\n",
       "      <td>False</td>\n",
       "      <td>1</td>\n",
       "      <td></td>\n",
       "      <td>None</td>\n",
       "      <td></td>\n",
       "      <td>True</td>\n",
       "      <td>False</td>\n",
       "      <td>1.851207</td>\n",
       "      <td>20fa6c5b-90c4-4246-a975-f08bcbd43dff</td>\n",
       "      <td>ef502814-e082-4f34-adbc-903bc93d5d78</td>\n",
       "    </tr>\n",
       "    <tr>\n",
       "      <th>2</th>\n",
       "      <td>[{'role': 'user', 'content': 'What kind of stu...</td>\n",
       "      <td>[]</td>\n",
       "      <td>I will find out what kinds of products are ava...</td>\n",
       "      <td>product_qa_agent</td>\n",
       "      <td>[agent='product_qa_agent' task='Provide an ove...</td>\n",
       "      <td>False</td>\n",
       "      <td>1</td>\n",
       "      <td></td>\n",
       "      <td>None</td>\n",
       "      <td></td>\n",
       "      <td>True</td>\n",
       "      <td>False</td>\n",
       "      <td>1.472293</td>\n",
       "      <td>891a2dfc-02cf-42d1-bb5c-0cce0cc4c95f</td>\n",
       "      <td>a781aadd-2b27-4fc7-8a33-725eddbfb46f</td>\n",
       "    </tr>\n",
       "    <tr>\n",
       "      <th>3</th>\n",
       "      <td>[{'role': 'user', 'content': 'Can you put the ...</td>\n",
       "      <td>[]</td>\n",
       "      <td>I will first identify which items have the mos...</td>\n",
       "      <td>product_qa_agent</td>\n",
       "      <td>[agent='product_qa_agent' task='Identify the i...</td>\n",
       "      <td>False</td>\n",
       "      <td>1</td>\n",
       "      <td></td>\n",
       "      <td>None</td>\n",
       "      <td>product_qa_agent</td>\n",
       "      <td>False</td>\n",
       "      <td>True</td>\n",
       "      <td>2.039541</td>\n",
       "      <td>b233f2f5-9f64-4da7-95ce-fb9858ae3157</td>\n",
       "      <td>39474f06-3833-4998-875d-1a6c30b2f2e3</td>\n",
       "    </tr>\n",
       "    <tr>\n",
       "      <th>4</th>\n",
       "      <td>[{'role': 'user', 'content': 'Can you find som...</td>\n",
       "      <td>[]</td>\n",
       "      <td>First, I will retrieve the list of items in yo...</td>\n",
       "      <td>shopping_cart_agent</td>\n",
       "      <td>[agent='shopping_cart_agent' task=\"Retrieve th...</td>\n",
       "      <td>False</td>\n",
       "      <td>1</td>\n",
       "      <td></td>\n",
       "      <td>None</td>\n",
       "      <td>shopping_cart_agent</td>\n",
       "      <td>False</td>\n",
       "      <td>True</td>\n",
       "      <td>1.679774</td>\n",
       "      <td>bb79c801-a3a6-47d6-a4cc-9347cabd725e</td>\n",
       "      <td>7346ff9c-a9f1-4560-b27c-eac21130d34b</td>\n",
       "    </tr>\n",
       "    <tr>\n",
       "      <th>5</th>\n",
       "      <td>[{'role': 'user', 'content': 'Can you add the ...</td>\n",
       "      <td>[]</td>\n",
       "      <td>I will first find the best laptop bags availab...</td>\n",
       "      <td>product_qa_agent</td>\n",
       "      <td>[agent='product_qa_agent' task='Find the best ...</td>\n",
       "      <td>False</td>\n",
       "      <td>1</td>\n",
       "      <td></td>\n",
       "      <td>None</td>\n",
       "      <td>product_qa_agent</td>\n",
       "      <td>False</td>\n",
       "      <td>True</td>\n",
       "      <td>3.425158</td>\n",
       "      <td>30bc92b0-f896-4dcf-beae-188278456ce9</td>\n",
       "      <td>b70e36ca-4cb2-40ed-8419-ccf6498290ff</td>\n",
       "    </tr>\n",
       "    <tr>\n",
       "      <th>6</th>\n",
       "      <td>[{'role': 'user', 'content': 'Can you add thos...</td>\n",
       "      <td>[]</td>\n",
       "      <td>First, I need to clarify which earphones you a...</td>\n",
       "      <td>product_qa_agent</td>\n",
       "      <td>[agent='product_qa_agent' task='Identify which...</td>\n",
       "      <td>False</td>\n",
       "      <td>1</td>\n",
       "      <td></td>\n",
       "      <td>None</td>\n",
       "      <td></td>\n",
       "      <td>True</td>\n",
       "      <td>False</td>\n",
       "      <td>2.293041</td>\n",
       "      <td>87ac0351-d9ea-4871-94b5-fdc11c118779</td>\n",
       "      <td>985cdaee-73db-40c6-9071-eee5ebe17520</td>\n",
       "    </tr>\n",
       "    <tr>\n",
       "      <th>7</th>\n",
       "      <td>[{'role': 'user', 'content': 'Can you add an i...</td>\n",
       "      <td>[]</td>\n",
       "      <td>I will add the item with ID B09NLTDHQ6 to your...</td>\n",
       "      <td>shopping_cart_agent</td>\n",
       "      <td>[agent='shopping_cart_agent' task=\"Add the ite...</td>\n",
       "      <td>False</td>\n",
       "      <td>1</td>\n",
       "      <td></td>\n",
       "      <td>None</td>\n",
       "      <td>shopping_cart_agent</td>\n",
       "      <td>False</td>\n",
       "      <td>True</td>\n",
       "      <td>1.797458</td>\n",
       "      <td>513d80c4-b7ba-498c-9e34-2e893e1fff76</td>\n",
       "      <td>6cbf8bc4-1a93-4484-86b9-8a130bd9182c</td>\n",
       "    </tr>\n",
       "    <tr>\n",
       "      <th>8</th>\n",
       "      <td>[{'role': 'user', 'content': 'Can I get some e...</td>\n",
       "      <td>[]</td>\n",
       "      <td>I will look for available earphones and provid...</td>\n",
       "      <td>product_qa_agent</td>\n",
       "      <td>[agent='product_qa_agent' task='Find available...</td>\n",
       "      <td>False</td>\n",
       "      <td>1</td>\n",
       "      <td></td>\n",
       "      <td>None</td>\n",
       "      <td>product_qa_agent</td>\n",
       "      <td>False</td>\n",
       "      <td>True</td>\n",
       "      <td>1.799241</td>\n",
       "      <td>d8078d1f-a2c0-4624-bd97-62f317f1b8f1</td>\n",
       "      <td>8f186da1-8dfc-4f1b-b403-b9782cf6b122</td>\n",
       "    </tr>\n",
       "    <tr>\n",
       "      <th>9</th>\n",
       "      <td>[{'role': 'user', 'content': 'Whats is the wea...</td>\n",
       "      <td>[content=\"I'm here to assist you with shopping...</td>\n",
       "      <td>I'm here to assist you with shopping-related q...</td>\n",
       "      <td></td>\n",
       "      <td>[]</td>\n",
       "      <td>True</td>\n",
       "      <td>1</td>\n",
       "      <td></td>\n",
       "      <td>None</td>\n",
       "      <td></td>\n",
       "      <td>True</td>\n",
       "      <td>True</td>\n",
       "      <td>2.267037</td>\n",
       "      <td>dba5ea0f-47ae-4fc6-9df9-13835ee3bb80</td>\n",
       "      <td>65584016-3868-4e4d-b6b1-920e9e012d72</td>\n",
       "    </tr>\n",
       "  </tbody>\n",
       "</table>\n",
       "</div>"
      ],
      "text/plain": [
       "<ExperimentResults coordinator-evaluation-dataset-824fad26>"
      ]
     },
     "execution_count": 12,
     "metadata": {},
     "output_type": "execute_result"
    }
   ],
   "source": [
    "results"
   ]
  },
  {
   "cell_type": "code",
   "execution_count": 9,
   "id": "95af6fda",
   "metadata": {},
   "outputs": [],
   "source": [
    "results_resp = ls_client.read_project(\n",
    "    project_name=results.experiment_name, include_stats=True\n",
    ")"
   ]
  },
  {
   "cell_type": "code",
   "execution_count": 13,
   "id": "c2052618",
   "metadata": {},
   "outputs": [
    {
     "data": {
      "text/plain": [
       "{'next_agent_evaluator': {'n': 9,\n",
       "  'avg': 0.6666666666666666,\n",
       "  'stdev': 0.4714045207910317,\n",
       "  'errors': 0,\n",
       "  'values': {}}}"
      ]
     },
     "execution_count": 13,
     "metadata": {},
     "output_type": "execute_result"
    }
   ],
   "source": [
    "results_resp.feedback_stats"
   ]
  },
  {
   "cell_type": "code",
   "execution_count": 10,
   "id": "d631f3db",
   "metadata": {},
   "outputs": [
    {
     "data": {
      "text/plain": [
       "0.6666666666666666"
      ]
     },
     "execution_count": 10,
     "metadata": {},
     "output_type": "execute_result"
    }
   ],
   "source": [
    "results_resp.feedback_stats[\"next_agent_evaluator\"][\"avg\"]"
   ]
  },
  {
   "cell_type": "code",
   "execution_count": 11,
   "id": "3b24e731",
   "metadata": {},
   "outputs": [
    {
     "data": {
      "text/plain": [
       "TracerSessionResult(id=UUID('dffe1aaa-ee93-497c-9981-6a97d32c901c'), start_time=datetime.datetime(2025, 8, 28, 11, 18, 44, 52386, tzinfo=datetime.timezone.utc), end_time=None, description=None, name='coordinator-evaluation-dataset-824fad26', extra={'metadata': {'git': {'tags': None, 'dirty': True, 'branch': 'utility/quality-gate', 'commit': '365ee68b5c949ab405b95fde4bd4fdb38bf4c8f2', 'repo_name': 'ai_engineering_bootcamp', 'remote_url': 'https://github.com/darius-dobrovolskas/ai_engineering_bootcamp.git', 'author_name': 'darius-dobrovolskas', 'commit_time': '1756372795', 'author_email': '81308343+darius-dobrovolskas@users.noreply.github.com'}, 'revision_id': '365ee68', 'dataset_splits': ['base'], 'dataset_version': '2025-08-25T10:39:21.409687+00:00', 'num_repetitions': 1}}, tenant_id=UUID('f2b80717-fdb4-4945-be11-e3132342ecc2'), reference_dataset_id=UUID('c9e60db3-3135-445c-ac45-46c304a189c0'), run_count=10, latency_p50=datetime.timedelta(seconds=1, microseconds=851000), latency_p99=datetime.timedelta(seconds=3, microseconds=349840), total_tokens=0, prompt_tokens=0, completion_tokens=0, last_run_start_time=datetime.datetime(2025, 8, 28, 11, 19, 2, 991153), feedback_stats={'next_agent_evaluator': {'n': 9, 'avg': 0.6666666666666666, 'stdev': 0.4714045207910317, 'errors': 0, 'values': {}}}, run_facets=None, total_cost=Decimal('0.0'), prompt_cost=Decimal('0.0'), completion_cost=Decimal('0.0'), first_token_p50=None, first_token_p99=None, error_rate=0.0)"
      ]
     },
     "execution_count": 11,
     "metadata": {},
     "output_type": "execute_result"
    }
   ],
   "source": [
    "results_resp"
   ]
  }
 ],
 "metadata": {
  "kernelspec": {
   "display_name": "ai-engineering-bootcamp-sL1ZxK4x-py3.12",
   "language": "python",
   "name": "python3"
  },
  "language_info": {
   "codemirror_mode": {
    "name": "ipython",
    "version": 3
   },
   "file_extension": ".py",
   "mimetype": "text/x-python",
   "name": "python",
   "nbconvert_exporter": "python",
   "pygments_lexer": "ipython3",
   "version": "3.12.3"
  }
 },
 "nbformat": 4,
 "nbformat_minor": 5
}
